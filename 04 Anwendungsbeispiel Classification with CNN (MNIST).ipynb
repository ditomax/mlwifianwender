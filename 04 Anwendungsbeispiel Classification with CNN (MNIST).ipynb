{
 "cells": [
  {
   "cell_type": "markdown",
   "metadata": {},
   "source": [
    "<img src=\"header.png\" align=\"left\"/>"
   ]
  },
  {
   "cell_type": "markdown",
   "metadata": {},
   "source": [
    "# Anwendungsbeispiel Classification with CNN (MNIST)\n",
    "\n",
    "\n",
    "Das Ziel des Beispieles ist es handschriftliche Ziffern zu klassifizieren.\n",
    "Dazu verwenden wir den MNIST Datensatz [1]. Dieser Datensatz enthält 60.000 Scans von Ziffern zum Trainieren und 10.000 Scans von Ziffern für die Validierung. Ein Sample besteht aus 28x28 Features mit Werten zwischen 0 und 255. Zu beachten ist, dass die Features invertiert sind. Eigentlich sind Ziffern eher dunkel auf hellem Hintergrund. MNIST Ziffern sind hell auf dunklem Hintergrund.\n",
    "\n",
    "Dieses Beispiel beruht auf einem Tutorial von Jason Brownlee [2] mit Hinweisen auf die Optimierung aus [3].\n",
    "\n",
    "```\n",
    "[1] http://yann.lecun.com/exdb/mnist/\n",
    "[2] https://machinelearningmastery.com/how-to-develop-a-convolutional-neural-network-from-scratch-for-mnist-handwritten-digit-classification/\n",
    "[3] https://www.kaggle.com/cdeotte/how-to-choose-cnn-architecture-mnist\n",
    "```"
   ]
  },
  {
   "cell_type": "code",
   "execution_count": 1,
   "metadata": {},
   "outputs": [
    {
     "name": "stderr",
     "output_type": "stream",
     "text": [
      "Using TensorFlow backend.\n"
     ]
    }
   ],
   "source": [
    "#\n",
    "# Importieren der Module\n",
    "#\n",
    "from keras.datasets import mnist\n",
    "from keras.utils import to_categorical\n",
    "from keras.models import Sequential\n",
    "from keras.layers import Conv2D\n",
    "from keras.layers import MaxPooling2D\n",
    "from keras.layers import Dense\n",
    "from keras.layers import Flatten\n",
    "from keras.layers import BatchNormalization\n",
    "from keras.layers import Dropout\n",
    "from keras.optimizers import SGD\n",
    "import matplotlib.pyplot as plt\n",
    "import numpy as np\n",
    "import pandas as pd\n",
    "\n",
    "#\n",
    "# Abdrehen von Fehlermeldungen\n",
    "#\n",
    "from warnings import simplefilter\n",
    "# ignore all future warnings\n",
    "simplefilter(action='ignore', category=FutureWarning)\n",
    "simplefilter(action='ignore', category=Warning)\n",
    "\n",
    "#\n",
    "# Einstellen der Grösse von Diagrammen\n",
    "#\n",
    "plt.rcParams['figure.figsize'] = [10, 5]"
   ]
  },
  {
   "cell_type": "markdown",
   "metadata": {},
   "source": [
    "# Vorbereiten der Daten"
   ]
  },
  {
   "cell_type": "code",
   "execution_count": 2,
   "metadata": {},
   "outputs": [],
   "source": [
    "#\n",
    "# Laden der Beispieldaten (hier sehr vereinfacht) und gleichzeitige Aufteilung in Trainings- und Testdaten\n",
    "#\n",
    "(x_train, y_train), (x_test, y_test) = mnist.load_data()"
   ]
  },
  {
   "cell_type": "code",
   "execution_count": 3,
   "metadata": {},
   "outputs": [
    {
     "name": "stdout",
     "output_type": "stream",
     "text": [
      "Trainingsdaten: X=(60000, 28, 28), y=(60000,)\n",
      "Testdaten: X=(10000, 28, 28), y=(10000,)\n"
     ]
    }
   ],
   "source": [
    "#\n",
    "# Anzeige der Anzahl und Form der Samples\n",
    "#\n",
    "print('Trainingsdaten: X=%s, y=%s' % (x_train.shape, y_train.shape))\n",
    "print('Testdaten: X=%s, y=%s' % (x_test.shape, y_test.shape))"
   ]
  },
  {
   "cell_type": "code",
   "execution_count": 4,
   "metadata": {},
   "outputs": [
    {
     "data": {
      "image/png": "[encoded data removed]",
      "text/plain": [
       "<Figure size 720x360 with 15 Axes>"
      ]
     },
     "metadata": {
      "needs_background": "light"
     },
     "output_type": "display_data"
    }
   ],
   "source": [
    "#\n",
    "# Anzeige von Beispielen der Daten\n",
    "#\n",
    "for i in range(15):\n",
    "    plt.subplot(4,4,1 + i)\n",
    "    plt.imshow(x_train[i], cmap=plt.get_cmap('gray'))\n",
    "plt.show()"
   ]
  },
  {
   "cell_type": "code",
   "execution_count": 5,
   "metadata": {},
   "outputs": [
    {
     "name": "stdout",
     "output_type": "stream",
     "text": [
      "label 5\n",
      "label 0\n",
      "label 4\n",
      "label 1\n",
      "label 9\n",
      "label 2\n",
      "label 1\n",
      "label 3\n",
      "label 1\n",
      "label 4\n",
      "label 3\n",
      "label 5\n",
      "label 3\n",
      "label 6\n",
      "label 1\n"
     ]
    }
   ],
   "source": [
    "#\n",
    "# Anzeige der Labels zu den Daten\n",
    "#\n",
    "for i in range(15):\n",
    "    print('label {}'.format(y_train[i]))"
   ]
  },
  {
   "cell_type": "code",
   "execution_count": 6,
   "metadata": {},
   "outputs": [
    {
     "data": {
      "image/png": "[encoded data removed]",
      "text/plain": [
       "<Figure size 720x360 with 1 Axes>"
      ]
     },
     "metadata": {
      "needs_background": "light"
     },
     "output_type": "display_data"
    }
   ],
   "source": [
    "#\n",
    "# Histogramm der Klassen (Ziffern)\n",
    "#\n",
    "#\n",
    "# Prüfen der Verteilung der Klassen\n",
    "#\n",
    "df = pd.DataFrame(y_train,columns=['class'])\n",
    "counts= df.groupby('class').size()\n",
    "\n",
    "class_pos = np.arange(10)\n",
    "plt.bar(class_pos, counts, align='center', alpha=0.5)\n",
    "plt.xlabel(class_pos)\n",
    "plt.ylabel('Ziffern')\n",
    "plt.title('Samples pro Ziffer')\n",
    "plt.show()"
   ]
  },
  {
   "cell_type": "code",
   "execution_count": 7,
   "metadata": {},
   "outputs": [],
   "source": [
    "# \n",
    "# Ändere die Matrixform der Daten\n",
    "#\n",
    "x_train = x_train.reshape((x_train.shape[0], 28, 28, 1))\n",
    "x_test = x_test.reshape((x_test.shape[0], 28, 28, 1))"
   ]
  },
  {
   "cell_type": "code",
   "execution_count": 8,
   "metadata": {},
   "outputs": [],
   "source": [
    "# \n",
    "# Ändere Pixelwerte von 0..255 auf einen Wert zwischen 0 und 1 in Flieskommaform\n",
    "#\n",
    "x_train = x_train.astype('float32')\n",
    "x_test = x_test.astype('float32')\n",
    "x_train = x_train / 255.0\n",
    "x_test = x_test / 255.0"
   ]
  },
  {
   "cell_type": "code",
   "execution_count": 9,
   "metadata": {},
   "outputs": [],
   "source": [
    "# \n",
    "# Ändere die Zielwerte für die Klassifizierung (eine Vektorstelle pro Klasse)\n",
    "#\n",
    "y_train = to_categorical(y_train, num_classes=10)\n",
    "y_test = to_categorical(y_test, num_classes=10)"
   ]
  },
  {
   "cell_type": "markdown",
   "metadata": {},
   "source": [
    "# Erstes Modell"
   ]
  },
  {
   "cell_type": "code",
   "execution_count": 10,
   "metadata": {},
   "outputs": [],
   "source": [
    "#\n",
    "# Aufbau eines CNN Modelles mit einer CNN Schicht\n",
    "#\n",
    "model = Sequential()\n",
    "model.add(Conv2D(32, (3, 3), activation='relu', kernel_initializer='he_uniform', input_shape=(28, 28, 1)))\n",
    "model.add(MaxPooling2D((2, 2)))\n",
    "model.add(Flatten())\n",
    "model.add(Dense(100, activation='relu', kernel_initializer='he_uniform'))\n",
    "model.add(Dense(10, activation='softmax'))"
   ]
  },
  {
   "cell_type": "code",
   "execution_count": 11,
   "metadata": {},
   "outputs": [],
   "source": [
    "model.compile(optimizer='adam', loss='categorical_crossentropy', metrics=['accuracy'])"
   ]
  },
  {
   "cell_type": "code",
   "execution_count": 12,
   "metadata": {},
   "outputs": [
    {
     "name": "stdout",
     "output_type": "stream",
     "text": [
      "Epoch 1/5\n",
      "60000/60000 [==============================] - 35s 580us/step - loss: 0.1543 - accuracy: 0.9526\n",
      "Epoch 2/5\n",
      "60000/60000 [==============================] - 35s 585us/step - loss: 0.0497 - accuracy: 0.9845\n",
      "Epoch 3/5\n",
      "60000/60000 [==============================] - 35s 590us/step - loss: 0.0323 - accuracy: 0.9898\n",
      "Epoch 4/5\n",
      "60000/60000 [==============================] - 33s 555us/step - loss: 0.0212 - accuracy: 0.9931\n",
      "Epoch 5/5\n",
      "60000/60000 [==============================] - 33s 549us/step - loss: 0.0138 - accuracy: 0.9957\n"
     ]
    },
    {
     "data": {
      "text/plain": [
       "<keras.callbacks.callbacks.History at 0x14c33efd0>"
      ]
     },
     "execution_count": 12,
     "metadata": {},
     "output_type": "execute_result"
    }
   ],
   "source": [
    "model.fit(x_train, y_train, batch_size=64, epochs=5 )"
   ]
  },
  {
   "cell_type": "code",
   "execution_count": 13,
   "metadata": {},
   "outputs": [
    {
     "data": {
      "text/plain": [
       "array([[5.7300369e-15, 7.0864000e-12, 1.3030981e-14, 7.7928824e-05,\n",
       "        2.3786316e-16, 9.9992204e-01, 5.1150893e-11, 3.4366948e-16,\n",
       "        1.0885139e-09, 3.6471595e-09]], dtype=float32)"
      ]
     },
     "execution_count": 13,
     "metadata": {},
     "output_type": "execute_result"
    }
   ],
   "source": [
    "model.predict(x_train[:1])"
   ]
  },
  {
   "cell_type": "code",
   "execution_count": 14,
   "metadata": {},
   "outputs": [
    {
     "data": {
      "text/plain": [
       "array([[0., 0., 0., 0., 0., 1., 0., 0., 0., 0.]], dtype=float32)"
      ]
     },
     "execution_count": 14,
     "metadata": {},
     "output_type": "execute_result"
    }
   ],
   "source": [
    "y_train[:1]"
   ]
  },
  {
   "cell_type": "code",
   "execution_count": 15,
   "metadata": {},
   "outputs": [
    {
     "name": "stdout",
     "output_type": "stream",
     "text": [
      "Accuracy 0.98430\n"
     ]
    }
   ],
   "source": [
    "#\n",
    "# Messen der Accuracy\n",
    "#\n",
    "_, acc = model.evaluate(x_test, y_test, verbose=0)\n",
    "print('Accuracy {:.5f}'.format(acc))"
   ]
  },
  {
   "cell_type": "code",
   "execution_count": 16,
   "metadata": {},
   "outputs": [
    {
     "name": "stdout",
     "output_type": "stream",
     "text": [
      "Bei 10000 Samples sind rund 157 Fehler zu erwarten.\n"
     ]
    }
   ],
   "source": [
    "#\n",
    "# Abschätzen der Fehler im Einsatz\n",
    "#\n",
    "print('Bei {} Samples sind rund {:.0f} Fehler zu erwarten.'.format( x_test.shape[0], (x_test.shape[0]*(1-acc))))"
   ]
  },
  {
   "cell_type": "markdown",
   "metadata": {},
   "source": [
    "# Verbesserung des Modelles"
   ]
  },
  {
   "cell_type": "code",
   "execution_count": 35,
   "metadata": {},
   "outputs": [],
   "source": [
    "#\n",
    "# Definition eines verbesserten Modelles mit folgenden Änderungen\n",
    "# 1) weiterer convolutional layer\n",
    "# 2) Vergrößerung der Filter\n",
    "# 3) Vergrößerung des fully connected layers auf 256\n",
    "# 4) Verlängerung des Trainings\n",
    "#\n",
    "model2 = Sequential()\n",
    "model2.add(Conv2D(32, (5, 5), activation='relu', kernel_initializer='he_uniform', input_shape=(28, 28, 1)))\n",
    "model2.add(MaxPooling2D((2, 2)))\n",
    "model.add(Dropout(0.4))\n",
    "model2.add(Conv2D(64, (5, 5), activation='relu', kernel_initializer='he_uniform'))\n",
    "model2.add(MaxPooling2D((2, 2)))\n",
    "model.add(Dropout(0.2))\n",
    "model2.add(Flatten())\n",
    "model2.add(Dense(256, activation='relu', kernel_initializer='he_uniform'))\n",
    "model2.add(Dense(10, activation='softmax'))"
   ]
  },
  {
   "cell_type": "code",
   "execution_count": 36,
   "metadata": {},
   "outputs": [],
   "source": [
    "model2.compile(optimizer='adam', loss='categorical_crossentropy', metrics=['accuracy'])"
   ]
  },
  {
   "cell_type": "code",
   "execution_count": 37,
   "metadata": {},
   "outputs": [
    {
     "name": "stdout",
     "output_type": "stream",
     "text": [
      "Epoch 1/15\n",
      "60000/60000 [==============================] - 67s 1ms/step - loss: 0.1175 - accuracy: 0.9646\n",
      "Epoch 2/15\n",
      "60000/60000 [==============================] - 65s 1ms/step - loss: 0.0386 - accuracy: 0.9879\n",
      "Epoch 3/15\n",
      "60000/60000 [==============================] - 64s 1ms/step - loss: 0.0247 - accuracy: 0.9921\n",
      "Epoch 4/15\n",
      "60000/60000 [==============================] - 64s 1ms/step - loss: 0.0184 - accuracy: 0.9940\n",
      "Epoch 5/15\n",
      "60000/60000 [==============================] - 69s 1ms/step - loss: 0.0137 - accuracy: 0.9955\n",
      "Epoch 6/15\n",
      "60000/60000 [==============================] - 78s 1ms/step - loss: 0.0131 - accuracy: 0.9956\n",
      "Epoch 7/15\n",
      "60000/60000 [==============================] - 79s 1ms/step - loss: 0.0104 - accuracy: 0.9965\n",
      "Epoch 8/15\n",
      "60000/60000 [==============================] - 70s 1ms/step - loss: 0.0080 - accuracy: 0.9976\n",
      "Epoch 9/15\n",
      "60000/60000 [==============================] - 65s 1ms/step - loss: 0.0067 - accuracy: 0.9981\n",
      "Epoch 10/15\n",
      "60000/60000 [==============================] - 67s 1ms/step - loss: 0.0081 - accuracy: 0.9972\n",
      "Epoch 11/15\n",
      "60000/60000 [==============================] - 67s 1ms/step - loss: 0.0043 - accuracy: 0.9987\n",
      "Epoch 12/15\n",
      "60000/60000 [==============================] - 66s 1ms/step - loss: 0.0057 - accuracy: 0.9984\n",
      "Epoch 13/15\n",
      "60000/60000 [==============================] - 65s 1ms/step - loss: 0.0064 - accuracy: 0.9981\n",
      "Epoch 14/15\n",
      "60000/60000 [==============================] - 66s 1ms/step - loss: 0.0037 - accuracy: 0.9987\n",
      "Epoch 15/15\n",
      "60000/60000 [==============================] - 66s 1ms/step - loss: 0.0044 - accuracy: 0.9988\n"
     ]
    }
   ],
   "source": [
    "history = model2.fit(x_train, y_train, batch_size=64, epochs=15 )"
   ]
  },
  {
   "cell_type": "code",
   "execution_count": 38,
   "metadata": {},
   "outputs": [
    {
     "name": "stdout",
     "output_type": "stream",
     "text": [
      "Accuracy 0.99110\n"
     ]
    }
   ],
   "source": [
    "#\n",
    "# Messen der Accuracy\n",
    "#\n",
    "_, acc = model2.evaluate(x_test, y_test, verbose=0)\n",
    "print('Accuracy {:.5f}'.format(acc))"
   ]
  },
  {
   "cell_type": "code",
   "execution_count": 39,
   "metadata": {},
   "outputs": [
    {
     "name": "stdout",
     "output_type": "stream",
     "text": [
      "Bei 10000 Samples sind rund 89 Fehler zu erwarten.\n"
     ]
    }
   ],
   "source": [
    "#\n",
    "# Abschätzen der Fehler im Einsatz\n",
    "#\n",
    "print('Bei {} Samples sind rund {:.0f} Fehler zu erwarten.'.format( x_test.shape[0], (x_test.shape[0]*(1-acc))))"
   ]
  },
  {
   "cell_type": "code",
   "execution_count": 44,
   "metadata": {},
   "outputs": [],
   "source": [
    "#\n",
    "# Ausgabe des Trainingsverlaufes\n",
    "#\n",
    "def summarize_diagnostics(history,modelname):\n",
    "    plt.subplot(211)\n",
    "    plt.title('Cross Entropy Loss')\n",
    "    plt.plot(history.history['loss'], color='blue', label='train')\n",
    "    plt.subplot(212)\n",
    "    plt.title('Classification Accuracy')\n",
    "    plt.plot(history.history['accuracy'], color='blue', label='train')\n",
    "    plt.subplots_adjust(hspace=0.5)\n",
    "    plt.savefig( 'results/' + modelname + '_plot.png')\n",
    "    plt.show()\n",
    "    plt.close()"
   ]
  },
  {
   "cell_type": "code",
   "execution_count": 45,
   "metadata": {},
   "outputs": [
    {
     "data": {
      "image/png": "[encoded data removed]",
      "text/plain": [
       "<Figure size 720x360 with 2 Axes>"
      ]
     },
     "metadata": {
      "needs_background": "light"
     },
     "output_type": "display_data"
    }
   ],
   "source": [
    "summarize_diagnostics(history,'04_model2')"
   ]
  },
  {
   "cell_type": "markdown",
   "metadata": {},
   "source": [
    "# Speichern des Modelles"
   ]
  },
  {
   "cell_type": "code",
   "execution_count": 47,
   "metadata": {},
   "outputs": [
    {
     "name": "stdout",
     "output_type": "stream",
     "text": [
      "saved model to disk as results/04_model.json results/04_model.h5\n"
     ]
    }
   ],
   "source": [
    "#\n",
    "# Speichern des Modelles für später\n",
    "#\n",
    "from keras.models import model_from_json\n",
    "prefix = 'results/04_'\n",
    "modelName = prefix + \"model.json\"\n",
    "weightName = prefix + \"model.h5\"\n",
    "\n",
    "if True:\n",
    "    model_json = model2.to_json()\n",
    "    with open( modelName , \"w\") as json_file:\n",
    "        json_file.write(model_json)\n",
    "    # serialize weights to HDF5\n",
    "    model2.save_weights( weightName )\n",
    "    print(\"saved model to disk as {} {}\".format(modelName,weightName))\n",
    "\n"
   ]
  },
  {
   "cell_type": "markdown",
   "metadata": {},
   "source": [
    "# Test des Modelles und Untersuchung der Fehler"
   ]
  },
  {
   "cell_type": "code",
   "execution_count": 49,
   "metadata": {},
   "outputs": [
    {
     "data": {
      "image/png": "[encoded data removed]",
      "text/plain": [
       "<Figure size 720x360 with 9 Axes>"
      ]
     },
     "metadata": {
      "needs_background": "light"
     },
     "output_type": "display_data"
    },
    {
     "name": "stdout",
     "output_type": "stream",
     "text": [
      "Anzahl der gefundenen Fehler ist 89\n"
     ]
    }
   ],
   "source": [
    "#\n",
    "# Anzeige von Beispielen der Daten die fehlschlagen\n",
    "#\n",
    "from numpy import argmax\n",
    "\n",
    "plotCount = 0\n",
    "errorCount = 0\n",
    "errorCountDistribution = [0] * 10\n",
    "fig = plt.figure()\n",
    "fig.suptitle('Predicted vs True Class')\n",
    "\n",
    "for i in range(x_test.shape[0]):\n",
    "    \n",
    "    correctClass = argmax(y_test[i])\n",
    "    image = x_test[i].reshape((1,28,28,1))\n",
    "    prediction = model2.predict_classes([image])\n",
    "    predictedClass = prediction[0]\n",
    "    \n",
    "    if predictedClass != correctClass:\n",
    "        \n",
    "        errorCount+= 1\n",
    "        errorCountDistribution[correctClass] = errorCountDistribution[correctClass] + 1\n",
    "        \n",
    "        if plotCount < 9:\n",
    "            ax = plt.subplot(330 + 1 + plotCount)\n",
    "            ax.set_title('{}!={}'.format ( str(predictedClass), str(correctClass)))     \n",
    "            image = x_test[i].reshape((28,28))\n",
    "            plt.imshow(image, cmap=plt.get_cmap('gray'))    \n",
    "            plotCount+= 1\n",
    "        \n",
    "\n",
    "plt.subplots_adjust(wspace=0.4,hspace=0.4)\n",
    "plt.show()\n",
    "print('Anzahl der gefundenen Fehler ist {}'.format(errorCount))"
   ]
  },
  {
   "cell_type": "code",
   "execution_count": 50,
   "metadata": {},
   "outputs": [
    {
     "data": {
      "image/png": "[encoded data removed]",
      "text/plain": [
       "<Figure size 720x360 with 1 Axes>"
      ]
     },
     "metadata": {
      "needs_background": "light"
     },
     "output_type": "display_data"
    }
   ],
   "source": [
    "class_pos = np.arange(10)\n",
    "plt.bar(class_pos, errorCountDistribution, align='center', alpha=0.5)\n",
    "plt.xlabel(class_pos)\n",
    "plt.ylabel('Ziffern')\n",
    "plt.title('Fehler pro Ziffer')\n",
    "plt.show()"
   ]
  },
  {
   "cell_type": "markdown",
   "metadata": {},
   "source": [
    "# Testen mit eigenen Daten"
   ]
  },
  {
   "cell_type": "code",
   "execution_count": 25,
   "metadata": {},
   "outputs": [],
   "source": [
    "# \n",
    "# Laden weiterer Funktionen\n",
    "#\n",
    "from PIL import Image\n",
    "from keras.preprocessing.image import load_img\n",
    "from keras.preprocessing.image import img_to_array"
   ]
  },
  {
   "cell_type": "code",
   "execution_count": 26,
   "metadata": {},
   "outputs": [],
   "source": [
    "# Funktion für das Laden eines Bildes aus einer Datei\n",
    "def load_image(filename):\n",
    "    # load the image\n",
    "    img = load_img(filename, color_mode = \"grayscale\", target_size=(28, 28))\n",
    "    # convert to array\n",
    "    img = img_to_array(img)\n",
    "    # reshape into a single sample with 1 channel\n",
    "    img = img.reshape(1, 28, 28, 1)\n",
    "    # prepare pixel data\n",
    "    img = img.astype('float32')\n",
    "    img = img / 255.0\n",
    "    return img"
   ]
  },
  {
   "cell_type": "code",
   "execution_count": 27,
   "metadata": {},
   "outputs": [],
   "source": [
    "#\n",
    "# Laden eines eigenen Bildes mit einer Ziffer (2,3,8,9)\n",
    "#\n",
    "image = load_image('data/3.png')"
   ]
  },
  {
   "cell_type": "code",
   "execution_count": 28,
   "metadata": {},
   "outputs": [
    {
     "data": {
      "text/plain": [
       "<matplotlib.image.AxesImage at 0x17d9ed0f0>"
      ]
     },
     "execution_count": 28,
     "metadata": {},
     "output_type": "execute_result"
    },
    {
     "data": {
      "image/png": "[encoded data removed]",
      "text/plain": [
       "<Figure size 720x360 with 1 Axes>"
      ]
     },
     "metadata": {
      "needs_background": "light"
     },
     "output_type": "display_data"
    }
   ],
   "source": [
    "#\n",
    "# Anzeige\n",
    "#\n",
    "imageShow = image.reshape((28,28))\n",
    "plt.imshow(imageShow, cmap=plt.get_cmap('gray'))"
   ]
  },
  {
   "cell_type": "code",
   "execution_count": 29,
   "metadata": {},
   "outputs": [],
   "source": [
    "prediction = model2.predict_classes([image])\n",
    "predictedClass = prediction[0]"
   ]
  },
  {
   "cell_type": "code",
   "execution_count": 30,
   "metadata": {},
   "outputs": [
    {
     "name": "stdout",
     "output_type": "stream",
     "text": [
      "Die geschätzte Ziffer ist 3\n"
     ]
    }
   ],
   "source": [
    "print('Die geschätzte Ziffer ist {}'.format(predictedClass) )"
   ]
  },
  {
   "cell_type": "code",
   "execution_count": 31,
   "metadata": {},
   "outputs": [],
   "source": [
    "prediction = model2.predict([image])"
   ]
  },
  {
   "cell_type": "code",
   "execution_count": 32,
   "metadata": {},
   "outputs": [
    {
     "name": "stdout",
     "output_type": "stream",
     "text": [
      "[[4.1667261e-07 8.6081827e-06 5.7734742e-05 9.9873596e-01 1.1852195e-06\n",
      "  1.0159735e-05 1.1881303e-06 9.1856398e-04 2.4680057e-06 2.6374735e-04]]\n"
     ]
    }
   ],
   "source": [
    "print(prediction)"
   ]
  },
  {
   "cell_type": "code",
   "execution_count": 34,
   "metadata": {},
   "outputs": [
    {
     "name": "stdout",
     "output_type": "stream",
     "text": [
      "confidence 0.9987\n"
     ]
    }
   ],
   "source": [
    "print('confidence {:.4f}'.format(prediction[0][3]))"
   ]
  },
  {
   "cell_type": "code",
   "execution_count": null,
   "metadata": {},
   "outputs": [],
   "source": []
  }
 ],
 "metadata": {
  "kernelspec": {
   "display_name": "Python 3",
   "language": "python",
   "name": "python3"
  },
  "language_info": {
   "codemirror_mode": {
    "name": "ipython",
    "version": 3
   },
   "file_extension": ".py",
   "mimetype": "text/x-python",
   "name": "python",
   "nbconvert_exporter": "python",
   "pygments_lexer": "ipython3",
   "version": "3.6.7"
  }
 },
 "nbformat": 4,
 "nbformat_minor": 4
}
