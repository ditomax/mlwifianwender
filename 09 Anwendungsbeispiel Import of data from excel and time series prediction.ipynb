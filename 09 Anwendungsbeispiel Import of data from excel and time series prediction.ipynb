{
 "cells": [
  {
   "cell_type": "markdown",
   "metadata": {},
   "source": [
    "<img src=\"header.png\" align=\"left\"/>"
   ]
  },
  {
   "cell_type": "markdown",
   "metadata": {},
   "source": [
    "# Anwendungsbeispiel Import of excel data and timeseries prediction\n",
    "\n",
    "Das Ziel dieses Beispieles ist es die Arbeit mit Zeitreihen aus Excel Files zu zeigen und darauf ein Vorhersagemodell für Zeitreihen zu entwickeln. Der Datensatz beschreibt die Entwicklung von Flugpassagierzahlen einer Airline in der fernen Vergangenheit. Die Daten sind aber typisch für Daten wie sie KMUs (z.B. Verkaufszahlen) zu finden sind. \n",
    "\n",
    "\n",
    "Der Code für das Beispiel wurde aus [1] adaptiert. Weitergehende Informationen sind zum Beispiel in [2] zu finden. \n",
    "\n",
    "- [1] [https://machinelearningmastery.com/time-series-prediction-lstm-recurrent-neural-networks-python-keras/](https://machinelearningmastery.com/time-series-prediction-lstm-recurrent-neural-networks-python-keras/)\n",
    "- [2] [https://towardsdatascience.com/predict-electricity-consumption-using-time-series-analysis-4650284e40aa](https://towardsdatascience.com/predict-electricity-consumption-using-time-series-analysis-4650284e40aa)\n",
    "\n",
    "\n",
    "Zitierung Datensatz:\n",
    "```\n",
    "Box, G. E. P., Jenkins, G. M. and Reinsel, G. C. (1976) Time Series Analysis, Forecasting and Control. Third Edition. Holden-Day. Series G.\n",
    "```\n"
   ]
  },
  {
   "cell_type": "markdown",
   "metadata": {},
   "source": [
    "# Import der Module"
   ]
  },
  {
   "cell_type": "code",
   "execution_count": 1,
   "metadata": {},
   "outputs": [
    {
     "name": "stdout",
     "output_type": "stream",
     "text": [
      "working on keras version 2.2.4-tf on tensorflow 2.1.0 using sklearn 0.23.2\n"
     ]
    }
   ],
   "source": [
    "#\n",
    "# Import der Module\n",
    "#\n",
    "import os\n",
    "import logging\n",
    "import openpyxl\n",
    "\n",
    "import pandas as pd\n",
    "import numpy as np\n",
    "import matplotlib.pyplot as plt\n",
    "import math\n",
    "\n",
    "import sklearn\n",
    "from sklearn.preprocessing import MinMaxScaler\n",
    "from sklearn.metrics import mean_squared_error\n",
    "\n",
    "\n",
    "#\n",
    "# Abdrehen von Fehlermeldungen\n",
    "#\n",
    "from warnings import simplefilter\n",
    "# ignore all future warnings\n",
    "simplefilter(action='ignore', category=FutureWarning)\n",
    "simplefilter(action='ignore', category=Warning)\n",
    "simplefilter(action='ignore', category=RuntimeWarning)\n",
    "\n",
    "\n",
    "#\n",
    "# Tensorflow und Keras\n",
    "#\n",
    "import tensorflow as tf\n",
    "from tensorflow.keras.models import Sequential\n",
    "from tensorflow.keras.layers import Dense\n",
    "from tensorflow.keras.layers import LSTM\n",
    "\n",
    "\n",
    "#\n",
    "# Für GPU Support\n",
    "#\n",
    "tflogger = tf.get_logger()\n",
    "tflogger.setLevel(logging.ERROR)\n",
    "tf.compat.v1.logging.set_verbosity(tf.compat.v1.logging.ERROR )\n",
    "physical_devices = tf.config.experimental.list_physical_devices('GPU')\n",
    "if len(physical_devices) > 0:\n",
    "    tf.config.experimental.set_memory_growth(physical_devices[0], True)\n",
    "\n",
    "\n",
    "#\n",
    "# Einstellen der Grösse von Diagrammen\n",
    "#\n",
    "plt.rcParams['figure.figsize'] = [16, 9]\n",
    "\n",
    "\n",
    "#\n",
    "# Ausgabe der Versionen\n",
    "#\n",
    "print('working on keras version {} on tensorflow {} using sklearn {}'.format ( tf.keras.__version__, tf.version.VERSION, sklearn.__version__ ) )"
   ]
  },
  {
   "cell_type": "markdown",
   "metadata": {},
   "source": [
    "# Konstanten"
   ]
  },
  {
   "cell_type": "code",
   "execution_count": 2,
   "metadata": {},
   "outputs": [],
   "source": [
    "#\n",
    "# Konstanten für Dateien\n",
    "#\n",
    "excelData = 'data/airline_passengers.xlsx'"
   ]
  },
  {
   "cell_type": "code",
   "execution_count": 3,
   "metadata": {},
   "outputs": [
    {
     "name": "stdout",
     "output_type": "stream",
     "text": [
      "['Tabellenblatt1']\n"
     ]
    }
   ],
   "source": [
    "data = pd.ExcelFile(excelData)\n",
    "print(data.sheet_names)"
   ]
  },
  {
   "cell_type": "code",
   "execution_count": 4,
   "metadata": {},
   "outputs": [
    {
     "data": {
      "text/html": [
       "<div>\n",
       "<style scoped>\n",
       "    .dataframe tbody tr th:only-of-type {\n",
       "        vertical-align: middle;\n",
       "    }\n",
       "\n",
       "    .dataframe tbody tr th {\n",
       "        vertical-align: top;\n",
       "    }\n",
       "\n",
       "    .dataframe thead th {\n",
       "        text-align: right;\n",
       "    }\n",
       "</style>\n",
       "<table border=\"1\" class=\"dataframe\">\n",
       "  <thead>\n",
       "    <tr style=\"text-align: right;\">\n",
       "      <th></th>\n",
       "      <th>Unnamed: 0</th>\n",
       "      <th>Unnamed: 1</th>\n",
       "      <th>Unnamed: 2</th>\n",
       "    </tr>\n",
       "  </thead>\n",
       "  <tbody>\n",
       "    <tr>\n",
       "      <th>0</th>\n",
       "      <td>NaN</td>\n",
       "      <td>NaN</td>\n",
       "      <td>NaN</td>\n",
       "    </tr>\n",
       "    <tr>\n",
       "      <th>1</th>\n",
       "      <td>NaN</td>\n",
       "      <td>NaN</td>\n",
       "      <td>NaN</td>\n",
       "    </tr>\n",
       "    <tr>\n",
       "      <th>2</th>\n",
       "      <td>NaN</td>\n",
       "      <td>Month</td>\n",
       "      <td>Passengers</td>\n",
       "    </tr>\n",
       "    <tr>\n",
       "      <th>3</th>\n",
       "      <td>NaN</td>\n",
       "      <td>1949-01-01 00:00:00</td>\n",
       "      <td>112</td>\n",
       "    </tr>\n",
       "    <tr>\n",
       "      <th>4</th>\n",
       "      <td>NaN</td>\n",
       "      <td>1949-02-01 00:00:00</td>\n",
       "      <td>118</td>\n",
       "    </tr>\n",
       "    <tr>\n",
       "      <th>5</th>\n",
       "      <td>NaN</td>\n",
       "      <td>1949-03-01 00:00:00</td>\n",
       "      <td>132</td>\n",
       "    </tr>\n",
       "    <tr>\n",
       "      <th>6</th>\n",
       "      <td>NaN</td>\n",
       "      <td>1949-04-01 00:00:00</td>\n",
       "      <td>129</td>\n",
       "    </tr>\n",
       "    <tr>\n",
       "      <th>7</th>\n",
       "      <td>NaN</td>\n",
       "      <td>1949-05-01 00:00:00</td>\n",
       "      <td>121</td>\n",
       "    </tr>\n",
       "    <tr>\n",
       "      <th>8</th>\n",
       "      <td>NaN</td>\n",
       "      <td>1949-06-01 00:00:00</td>\n",
       "      <td>135</td>\n",
       "    </tr>\n",
       "    <tr>\n",
       "      <th>9</th>\n",
       "      <td>NaN</td>\n",
       "      <td>1949-07-01 00:00:00</td>\n",
       "      <td>148</td>\n",
       "    </tr>\n",
       "  </tbody>\n",
       "</table>\n",
       "</div>"
      ],
      "text/plain": [
       "   Unnamed: 0           Unnamed: 1  Unnamed: 2\n",
       "0         NaN                  NaN         NaN\n",
       "1         NaN                  NaN         NaN\n",
       "2         NaN                Month  Passengers\n",
       "3         NaN  1949-01-01 00:00:00         112\n",
       "4         NaN  1949-02-01 00:00:00         118\n",
       "5         NaN  1949-03-01 00:00:00         132\n",
       "6         NaN  1949-04-01 00:00:00         129\n",
       "7         NaN  1949-05-01 00:00:00         121\n",
       "8         NaN  1949-06-01 00:00:00         135\n",
       "9         NaN  1949-07-01 00:00:00         148"
      ]
     },
     "execution_count": 4,
     "metadata": {},
     "output_type": "execute_result"
    }
   ],
   "source": [
    "#\n",
    "# Auslesen eines Tabellenblattes\n",
    "#\n",
    "df = data.parse('Tabellenblatt1')\n",
    "df.info\n",
    "df.head(10)"
   ]
  },
  {
   "cell_type": "code",
   "execution_count": 5,
   "metadata": {},
   "outputs": [
    {
     "data": {
      "text/html": [
       "<div>\n",
       "<style scoped>\n",
       "    .dataframe tbody tr th:only-of-type {\n",
       "        vertical-align: middle;\n",
       "    }\n",
       "\n",
       "    .dataframe tbody tr th {\n",
       "        vertical-align: top;\n",
       "    }\n",
       "\n",
       "    .dataframe thead th {\n",
       "        text-align: right;\n",
       "    }\n",
       "</style>\n",
       "<table border=\"1\" class=\"dataframe\">\n",
       "  <thead>\n",
       "    <tr style=\"text-align: right;\">\n",
       "      <th></th>\n",
       "      <th>Unnamed: 0</th>\n",
       "      <th>Unnamed: 1</th>\n",
       "      <th>Unnamed: 2</th>\n",
       "    </tr>\n",
       "  </thead>\n",
       "  <tbody>\n",
       "    <tr>\n",
       "      <th>142</th>\n",
       "      <td>NaN</td>\n",
       "      <td>1960-08-01 00:00:00</td>\n",
       "      <td>606</td>\n",
       "    </tr>\n",
       "    <tr>\n",
       "      <th>143</th>\n",
       "      <td>NaN</td>\n",
       "      <td>1960-09-01 00:00:00</td>\n",
       "      <td>508</td>\n",
       "    </tr>\n",
       "    <tr>\n",
       "      <th>144</th>\n",
       "      <td>NaN</td>\n",
       "      <td>1960-10-01 00:00:00</td>\n",
       "      <td>461</td>\n",
       "    </tr>\n",
       "    <tr>\n",
       "      <th>145</th>\n",
       "      <td>NaN</td>\n",
       "      <td>1960-11-01 00:00:00</td>\n",
       "      <td>390</td>\n",
       "    </tr>\n",
       "    <tr>\n",
       "      <th>146</th>\n",
       "      <td>NaN</td>\n",
       "      <td>1960-12-01 00:00:00</td>\n",
       "      <td>432</td>\n",
       "    </tr>\n",
       "  </tbody>\n",
       "</table>\n",
       "</div>"
      ],
      "text/plain": [
       "     Unnamed: 0           Unnamed: 1 Unnamed: 2\n",
       "142         NaN  1960-08-01 00:00:00        606\n",
       "143         NaN  1960-09-01 00:00:00        508\n",
       "144         NaN  1960-10-01 00:00:00        461\n",
       "145         NaN  1960-11-01 00:00:00        390\n",
       "146         NaN  1960-12-01 00:00:00        432"
      ]
     },
     "execution_count": 5,
     "metadata": {},
     "output_type": "execute_result"
    }
   ],
   "source": [
    "df.tail()"
   ]
  },
  {
   "cell_type": "markdown",
   "metadata": {},
   "source": [
    "# Ausschneiden von Daten in pandas dataframes\n",
    "\n",
    "Ein sehr gutes Tutorial dazu kann hier gefunden werden: [https://www.shanelynn.ie/select-pandas-dataframe-rows-and-columns-using-iloc-loc-and-ix/](https://www.shanelynn.ie/select-pandas-dataframe-rows-and-columns-using-iloc-loc-and-ix/)\n",
    "\n",
    "<img src=\"info.png\" align=\"left\"/> "
   ]
  },
  {
   "cell_type": "code",
   "execution_count": 6,
   "metadata": {},
   "outputs": [],
   "source": [
    "#\n",
    "# Ausschneiden der benötigten Daten\n",
    "#\n",
    "df_cut = df.iloc[3:146,1:3]"
   ]
  },
  {
   "cell_type": "code",
   "execution_count": 7,
   "metadata": {},
   "outputs": [
    {
     "data": {
      "text/html": [
       "<div>\n",
       "<style scoped>\n",
       "    .dataframe tbody tr th:only-of-type {\n",
       "        vertical-align: middle;\n",
       "    }\n",
       "\n",
       "    .dataframe tbody tr th {\n",
       "        vertical-align: top;\n",
       "    }\n",
       "\n",
       "    .dataframe thead th {\n",
       "        text-align: right;\n",
       "    }\n",
       "</style>\n",
       "<table border=\"1\" class=\"dataframe\">\n",
       "  <thead>\n",
       "    <tr style=\"text-align: right;\">\n",
       "      <th></th>\n",
       "      <th>Unnamed: 1</th>\n",
       "      <th>Unnamed: 2</th>\n",
       "    </tr>\n",
       "  </thead>\n",
       "  <tbody>\n",
       "    <tr>\n",
       "      <th>3</th>\n",
       "      <td>1949-01-01 00:00:00</td>\n",
       "      <td>112</td>\n",
       "    </tr>\n",
       "    <tr>\n",
       "      <th>4</th>\n",
       "      <td>1949-02-01 00:00:00</td>\n",
       "      <td>118</td>\n",
       "    </tr>\n",
       "    <tr>\n",
       "      <th>5</th>\n",
       "      <td>1949-03-01 00:00:00</td>\n",
       "      <td>132</td>\n",
       "    </tr>\n",
       "    <tr>\n",
       "      <th>6</th>\n",
       "      <td>1949-04-01 00:00:00</td>\n",
       "      <td>129</td>\n",
       "    </tr>\n",
       "    <tr>\n",
       "      <th>7</th>\n",
       "      <td>1949-05-01 00:00:00</td>\n",
       "      <td>121</td>\n",
       "    </tr>\n",
       "  </tbody>\n",
       "</table>\n",
       "</div>"
      ],
      "text/plain": [
       "            Unnamed: 1 Unnamed: 2\n",
       "3  1949-01-01 00:00:00        112\n",
       "4  1949-02-01 00:00:00        118\n",
       "5  1949-03-01 00:00:00        132\n",
       "6  1949-04-01 00:00:00        129\n",
       "7  1949-05-01 00:00:00        121"
      ]
     },
     "execution_count": 7,
     "metadata": {},
     "output_type": "execute_result"
    }
   ],
   "source": [
    "df_cut.head()"
   ]
  },
  {
   "cell_type": "code",
   "execution_count": 8,
   "metadata": {},
   "outputs": [],
   "source": [
    "df_cut.columns = ['month','passengers']"
   ]
  },
  {
   "cell_type": "code",
   "execution_count": 9,
   "metadata": {},
   "outputs": [
    {
     "data": {
      "text/html": [
       "<div>\n",
       "<style scoped>\n",
       "    .dataframe tbody tr th:only-of-type {\n",
       "        vertical-align: middle;\n",
       "    }\n",
       "\n",
       "    .dataframe tbody tr th {\n",
       "        vertical-align: top;\n",
       "    }\n",
       "\n",
       "    .dataframe thead th {\n",
       "        text-align: right;\n",
       "    }\n",
       "</style>\n",
       "<table border=\"1\" class=\"dataframe\">\n",
       "  <thead>\n",
       "    <tr style=\"text-align: right;\">\n",
       "      <th></th>\n",
       "      <th>month</th>\n",
       "      <th>passengers</th>\n",
       "    </tr>\n",
       "  </thead>\n",
       "  <tbody>\n",
       "    <tr>\n",
       "      <th>3</th>\n",
       "      <td>1949-01-01 00:00:00</td>\n",
       "      <td>112</td>\n",
       "    </tr>\n",
       "    <tr>\n",
       "      <th>4</th>\n",
       "      <td>1949-02-01 00:00:00</td>\n",
       "      <td>118</td>\n",
       "    </tr>\n",
       "    <tr>\n",
       "      <th>5</th>\n",
       "      <td>1949-03-01 00:00:00</td>\n",
       "      <td>132</td>\n",
       "    </tr>\n",
       "    <tr>\n",
       "      <th>6</th>\n",
       "      <td>1949-04-01 00:00:00</td>\n",
       "      <td>129</td>\n",
       "    </tr>\n",
       "    <tr>\n",
       "      <th>7</th>\n",
       "      <td>1949-05-01 00:00:00</td>\n",
       "      <td>121</td>\n",
       "    </tr>\n",
       "  </tbody>\n",
       "</table>\n",
       "</div>"
      ],
      "text/plain": [
       "                 month passengers\n",
       "3  1949-01-01 00:00:00        112\n",
       "4  1949-02-01 00:00:00        118\n",
       "5  1949-03-01 00:00:00        132\n",
       "6  1949-04-01 00:00:00        129\n",
       "7  1949-05-01 00:00:00        121"
      ]
     },
     "execution_count": 9,
     "metadata": {},
     "output_type": "execute_result"
    }
   ],
   "source": [
    "df_cut.head()"
   ]
  },
  {
   "cell_type": "code",
   "execution_count": 10,
   "metadata": {},
   "outputs": [
    {
     "data": {
      "text/plain": [
       "<AxesSubplot:>"
      ]
     },
     "execution_count": 10,
     "metadata": {},
     "output_type": "execute_result"
    },
    {
     "data": {
      "image/png": "[encoded data removed]",
      "text/plain": [
       "<Figure size 1152x648 with 1 Axes>"
      ]
     },
     "metadata": {
      "needs_background": "light"
     },
     "output_type": "display_data"
    }
   ],
   "source": [
    "df_cut['passengers'].plot()"
   ]
  },
  {
   "cell_type": "markdown",
   "metadata": {},
   "source": [
    "# Konventionelle Arbeit mit solchen Zeitreihen\n",
    "\n",
    "Es gibt eine Reihe von älteren Methoden um mit solchen Zeitreihen umzugehen und auch gute Ergebnisse bei der Vorhersage zu erreichen. Beispiele dazu sind hier zu finden:\n",
    "\n",
    "- https://machinelearningmastery.com/time-series-trends-in-python/\n",
    "- https://towardsdatascience.com/predict-electricity-consumption-using-time-series-analysis-4650284e40aa\n",
    "\n",
    "\n",
    "Die wesentliche Leistung dieser Verfahren ist die Berechnung und Verwendung von Parameters wie **Trend** und **Saisonalität**. Wir hoffen, dass unsere Modelle damit umgehen können, ohne dass wir uns explizit darum kümmern müssen.\n",
    "\n",
    "\n",
    "<img src=\"info.png\" align=\"left\"/> "
   ]
  },
  {
   "cell_type": "code",
   "execution_count": 11,
   "metadata": {},
   "outputs": [
    {
     "name": "stdout",
     "output_type": "stream",
     "text": [
      "[[112.]\n",
      " [118.]\n",
      " [132.]\n",
      " [129.]\n",
      " [121.]\n",
      " [135.]\n",
      " [148.]\n",
      " [148.]\n",
      " [136.]\n",
      " [119.]\n",
      " [104.]\n",
      " [118.]\n",
      " [115.]\n",
      " [126.]\n",
      " [141.]\n",
      " [135.]\n",
      " [125.]\n",
      " [149.]\n",
      " [170.]\n",
      " [170.]\n",
      " [158.]\n",
      " [133.]\n",
      " [114.]\n",
      " [140.]\n",
      " [145.]\n",
      " [150.]\n",
      " [178.]\n",
      " [163.]\n",
      " [172.]\n",
      " [178.]\n",
      " [199.]\n",
      " [199.]\n",
      " [184.]\n",
      " [162.]\n",
      " [146.]\n",
      " [166.]\n",
      " [171.]\n",
      " [180.]\n",
      " [193.]\n",
      " [181.]\n",
      " [183.]\n",
      " [218.]\n",
      " [230.]\n",
      " [242.]\n",
      " [209.]\n",
      " [191.]\n",
      " [172.]\n",
      " [194.]\n",
      " [196.]\n",
      " [196.]\n",
      " [236.]\n",
      " [235.]\n",
      " [229.]\n",
      " [243.]\n",
      " [264.]\n",
      " [272.]\n",
      " [237.]\n",
      " [211.]\n",
      " [180.]\n",
      " [201.]\n",
      " [204.]\n",
      " [188.]\n",
      " [235.]\n",
      " [227.]\n",
      " [234.]\n",
      " [264.]\n",
      " [302.]\n",
      " [293.]\n",
      " [259.]\n",
      " [229.]\n",
      " [203.]\n",
      " [229.]\n",
      " [242.]\n",
      " [233.]\n",
      " [267.]\n",
      " [269.]\n",
      " [270.]\n",
      " [315.]\n",
      " [364.]\n",
      " [347.]\n",
      " [312.]\n",
      " [274.]\n",
      " [237.]\n",
      " [278.]\n",
      " [284.]\n",
      " [277.]\n",
      " [317.]\n",
      " [313.]\n",
      " [318.]\n",
      " [374.]\n",
      " [413.]\n",
      " [405.]\n",
      " [355.]\n",
      " [306.]\n",
      " [271.]\n",
      " [306.]\n",
      " [315.]\n",
      " [301.]\n",
      " [356.]\n",
      " [348.]\n",
      " [355.]\n",
      " [422.]\n",
      " [465.]\n",
      " [467.]\n",
      " [404.]\n",
      " [347.]\n",
      " [305.]\n",
      " [336.]\n",
      " [340.]\n",
      " [318.]\n",
      " [362.]\n",
      " [348.]\n",
      " [363.]\n",
      " [435.]\n",
      " [491.]\n",
      " [505.]\n",
      " [404.]\n",
      " [359.]\n",
      " [310.]\n",
      " [337.]\n",
      " [360.]\n",
      " [342.]\n",
      " [406.]\n",
      " [396.]\n",
      " [420.]\n",
      " [472.]\n",
      " [548.]\n",
      " [559.]\n",
      " [463.]\n",
      " [407.]\n",
      " [362.]\n",
      " [405.]\n",
      " [417.]\n",
      " [391.]\n",
      " [419.]\n",
      " [461.]\n",
      " [472.]\n",
      " [535.]\n",
      " [622.]\n",
      " [606.]\n",
      " [508.]\n",
      " [461.]\n",
      " [390.]]\n"
     ]
    }
   ],
   "source": [
    "x_data = df_cut['passengers'].values\n",
    "x_data = x_data.astype('float32')\n",
    "x_data = np.reshape(x_data,(-1,1))\n",
    "print(x_data)"
   ]
  },
  {
   "cell_type": "code",
   "execution_count": 12,
   "metadata": {},
   "outputs": [
    {
     "data": {
      "text/plain": [
       "MinMaxScaler(feature_range=(0.0, 1.0))"
      ]
     },
     "execution_count": 12,
     "metadata": {},
     "output_type": "execute_result"
    }
   ],
   "source": [
    "#\n",
    "# Normalize the dataset\n",
    "#\n",
    "scaler = MinMaxScaler(feature_range=(0.0, 1.0))\n",
    "scaler.fit(x_data)"
   ]
  },
  {
   "cell_type": "code",
   "execution_count": 13,
   "metadata": {},
   "outputs": [
    {
     "name": "stdout",
     "output_type": "stream",
     "text": [
      "[622.]\n"
     ]
    }
   ],
   "source": [
    "print(scaler.data_max_)"
   ]
  },
  {
   "cell_type": "code",
   "execution_count": 14,
   "metadata": {},
   "outputs": [
    {
     "name": "stdout",
     "output_type": "stream",
     "text": [
      "[[0.01544401]\n",
      " [0.02702703]\n",
      " [0.05405405]\n",
      " [0.04826255]\n",
      " [0.03281853]\n",
      " [0.05984557]\n",
      " [0.08494207]\n",
      " [0.08494207]\n",
      " [0.06177607]\n",
      " [0.02895753]\n",
      " [0.        ]\n",
      " [0.02702703]\n",
      " [0.02123553]\n",
      " [0.04247104]\n",
      " [0.07142857]\n",
      " [0.05984557]\n",
      " [0.04054055]\n",
      " [0.08687258]\n",
      " [0.12741312]\n",
      " [0.12741312]\n",
      " [0.10424709]\n",
      " [0.05598456]\n",
      " [0.01930502]\n",
      " [0.06949806]\n",
      " [0.07915059]\n",
      " [0.08880308]\n",
      " [0.14285713]\n",
      " [0.11389962]\n",
      " [0.13127413]\n",
      " [0.14285713]\n",
      " [0.18339768]\n",
      " [0.18339768]\n",
      " [0.15444016]\n",
      " [0.11196911]\n",
      " [0.08108109]\n",
      " [0.1196911 ]\n",
      " [0.12934363]\n",
      " [0.14671814]\n",
      " [0.17181468]\n",
      " [0.14864865]\n",
      " [0.15250966]\n",
      " [0.22007722]\n",
      " [0.24324325]\n",
      " [0.26640925]\n",
      " [0.2027027 ]\n",
      " [0.16795367]\n",
      " [0.13127413]\n",
      " [0.17374519]\n",
      " [0.17760617]\n",
      " [0.17760617]\n",
      " [0.25482625]\n",
      " [0.25289574]\n",
      " [0.24131274]\n",
      " [0.26833975]\n",
      " [0.3088803 ]\n",
      " [0.32432434]\n",
      " [0.25675675]\n",
      " [0.20656371]\n",
      " [0.14671814]\n",
      " [0.18725869]\n",
      " [0.19305018]\n",
      " [0.16216215]\n",
      " [0.25289574]\n",
      " [0.23745173]\n",
      " [0.25096524]\n",
      " [0.3088803 ]\n",
      " [0.38223937]\n",
      " [0.36486486]\n",
      " [0.2992278 ]\n",
      " [0.24131274]\n",
      " [0.1911197 ]\n",
      " [0.24131274]\n",
      " [0.26640925]\n",
      " [0.24903473]\n",
      " [0.31467178]\n",
      " [0.3185328 ]\n",
      " [0.32046333]\n",
      " [0.4073359 ]\n",
      " [0.5019305 ]\n",
      " [0.46911195]\n",
      " [0.40154442]\n",
      " [0.32818535]\n",
      " [0.25675675]\n",
      " [0.3359073 ]\n",
      " [0.34749034]\n",
      " [0.33397684]\n",
      " [0.41119692]\n",
      " [0.4034749 ]\n",
      " [0.4131274 ]\n",
      " [0.52123547]\n",
      " [0.5965251 ]\n",
      " [0.58108103]\n",
      " [0.484556  ]\n",
      " [0.3899614 ]\n",
      " [0.3223938 ]\n",
      " [0.3899614 ]\n",
      " [0.4073359 ]\n",
      " [0.3803089 ]\n",
      " [0.48648646]\n",
      " [0.47104248]\n",
      " [0.484556  ]\n",
      " [0.6138996 ]\n",
      " [0.6969112 ]\n",
      " [0.70077217]\n",
      " [0.57915056]\n",
      " [0.46911195]\n",
      " [0.38803086]\n",
      " [0.44787642]\n",
      " [0.45559844]\n",
      " [0.4131274 ]\n",
      " [0.4980695 ]\n",
      " [0.47104248]\n",
      " [0.49999997]\n",
      " [0.6389961 ]\n",
      " [0.7471043 ]\n",
      " [0.7741313 ]\n",
      " [0.57915056]\n",
      " [0.492278  ]\n",
      " [0.3976834 ]\n",
      " [0.44980696]\n",
      " [0.49420848]\n",
      " [0.45945945]\n",
      " [0.5830116 ]\n",
      " [0.5637065 ]\n",
      " [0.61003864]\n",
      " [0.71042466]\n",
      " [0.8571429 ]\n",
      " [0.8783784 ]\n",
      " [0.69305015]\n",
      " [0.5849421 ]\n",
      " [0.4980695 ]\n",
      " [0.58108103]\n",
      " [0.6042471 ]\n",
      " [0.554054  ]\n",
      " [0.60810804]\n",
      " [0.6891892 ]\n",
      " [0.71042466]\n",
      " [0.8320464 ]\n",
      " [1.        ]\n",
      " [0.96911204]\n",
      " [0.7799227 ]\n",
      " [0.6891892 ]\n",
      " [0.55212355]]\n"
     ]
    }
   ],
   "source": [
    "x_data = scaler.transform(x_data)\n",
    "print(x_data)"
   ]
  },
  {
   "cell_type": "code",
   "execution_count": 15,
   "metadata": {},
   "outputs": [
    {
     "name": "stdout",
     "output_type": "stream",
     "text": [
      "114 29\n"
     ]
    }
   ],
   "source": [
    "# split into train and test sets\n",
    "train_size = int(len(x_data) * 0.80)\n",
    "test_size = len(x_data) - train_size\n",
    "train, test = x_data[0:train_size,:], x_data[train_size:len(x_data),:]\n",
    "print(len(train), len(test))"
   ]
  },
  {
   "cell_type": "markdown",
   "metadata": {},
   "source": [
    "# Erzeugen eines Trainingsdatensatzes mit Hilfe von sliding windows\n",
    "\n",
    "Sliding windows werden aus einer Zeitreihe erzeugt, indem ein Fenster über die gesamte Zeitreihe gezogen wird und dabei jeweils die Daten im Fenster kopiert werden. Mehr Details dazu hier [https://towardsdatascience.com/ml-approaches-for-time-series-4d44722e48fe](https://towardsdatascience.com/ml-approaches-for-time-series-4d44722e48fe).\n",
    "\n",
    "<img src=\"info.png\" align=\"left\"/> "
   ]
  },
  {
   "cell_type": "code",
   "execution_count": 16,
   "metadata": {},
   "outputs": [],
   "source": [
    "#\n",
    "# Transformation einer Zeitreihe in sliding windows mit einem label (y)\n",
    "#\n",
    "def createSlidingWindowsWithLabel(dataset, look_back=1):\n",
    "    dataX, dataY = [], []\n",
    "    for i in range(len(dataset)-look_back-1):\n",
    "        a = dataset[ i:(i+look_back), 0]\n",
    "        dataX.append(a)\n",
    "        dataY.append(dataset[i + look_back, 0])\n",
    "    return np.array(dataX), np.array(dataY)"
   ]
  },
  {
   "cell_type": "code",
   "execution_count": 17,
   "metadata": {},
   "outputs": [],
   "source": [
    "#\n",
    "# Anwenden der sliding window Funktion\n",
    "#\n",
    "look_back = 1\n",
    "trainX, trainY = createSlidingWindowsWithLabel(train, look_back)\n",
    "testX, testY = createSlidingWindowsWithLabel(test, look_back)"
   ]
  },
  {
   "cell_type": "code",
   "execution_count": 18,
   "metadata": {},
   "outputs": [],
   "source": [
    "# \n",
    "# reshape input to be [samples, time steps, features]\n",
    "#\n",
    "trainX = np.reshape(trainX, (trainX.shape[0], 1, trainX.shape[1]))\n",
    "testX = np.reshape(testX, (testX.shape[0], 1, testX.shape[1]))"
   ]
  },
  {
   "cell_type": "code",
   "execution_count": 19,
   "metadata": {},
   "outputs": [],
   "source": [
    "#\n",
    "# create and fit the LSTM network\n",
    "#\n",
    "def createLSTMModel():\n",
    "    model = Sequential()\n",
    "    model.add(LSTM(10, input_shape=(1, look_back)))\n",
    "    model.add(Dense(1,activation='linear'))\n",
    "    model.compile(loss='mean_squared_error', optimizer='adam')\n",
    "    return model"
   ]
  },
  {
   "cell_type": "code",
   "execution_count": 20,
   "metadata": {},
   "outputs": [],
   "source": [
    "lstm_model = createLSTMModel()"
   ]
  },
  {
   "cell_type": "code",
   "execution_count": 21,
   "metadata": {
    "scrolled": true
   },
   "outputs": [
    {
     "name": "stdout",
     "output_type": "stream",
     "text": [
      "Train on 112 samples\n",
      "Epoch 1/40\n",
      "112/112 [==============================] - 4s 38ms/sample - loss: 0.0718\n",
      "Epoch 2/40\n",
      "112/112 [==============================] - 0s 4ms/sample - loss: 0.0315\n",
      "Epoch 3/40\n",
      "112/112 [==============================] - 1s 7ms/sample - loss: 0.0232\n",
      "Epoch 4/40\n",
      "112/112 [==============================] - 1s 5ms/sample - loss: 0.0206\n",
      "Epoch 5/40\n",
      "112/112 [==============================] - 0s 4ms/sample - loss: 0.0179\n",
      "Epoch 6/40\n",
      "112/112 [==============================] - 0s 4ms/sample - loss: 0.0157\n",
      "Epoch 7/40\n",
      "112/112 [==============================] - 1s 6ms/sample - loss: 0.0131\n",
      "Epoch 8/40\n",
      "112/112 [==============================] - 1s 5ms/sample - loss: 0.0109\n",
      "Epoch 9/40\n",
      "112/112 [==============================] - 1s 6ms/sample - loss: 0.0088\n",
      "Epoch 10/40\n",
      "112/112 [==============================] - 1s 5ms/sample - loss: 0.0068\n",
      "Epoch 11/40\n",
      "112/112 [==============================] - 0s 4ms/sample - loss: 0.0051\n",
      "Epoch 12/40\n",
      "112/112 [==============================] - 0s 4ms/sample - loss: 0.0039\n",
      "Epoch 13/40\n",
      "112/112 [==============================] - 1s 7ms/sample - loss: 0.0032\n",
      "Epoch 14/40\n",
      "112/112 [==============================] - 0s 3ms/sample - loss: 0.0028\n",
      "Epoch 15/40\n",
      "112/112 [==============================] - 1s 6ms/sample - loss: 0.0027\n",
      "Epoch 16/40\n",
      "112/112 [==============================] - 1s 6ms/sample - loss: 0.0026\n",
      "Epoch 17/40\n",
      "112/112 [==============================] - 1s 5ms/sample - loss: 0.0026\n",
      "Epoch 18/40\n",
      "112/112 [==============================] - 0s 4ms/sample - loss: 0.0026\n",
      "Epoch 19/40\n",
      "112/112 [==============================] - 1s 6ms/sample - loss: 0.0025\n",
      "Epoch 20/40\n",
      "112/112 [==============================] - 0s 4ms/sample - loss: 0.0025\n",
      "Epoch 21/40\n",
      "112/112 [==============================] - 1s 6ms/sample - loss: 0.0025\n",
      "Epoch 22/40\n",
      "112/112 [==============================] - 1s 7ms/sample - loss: 0.0026\n",
      "Epoch 23/40\n",
      "112/112 [==============================] - 1s 5ms/sample - loss: 0.0026\n",
      "Epoch 24/40\n",
      "112/112 [==============================] - 0s 4ms/sample - loss: 0.0026\n",
      "Epoch 25/40\n",
      "112/112 [==============================] - 1s 6ms/sample - loss: 0.0026\n",
      "Epoch 26/40\n",
      "112/112 [==============================] - 0s 4ms/sample - loss: 0.0026\n",
      "Epoch 27/40\n",
      "112/112 [==============================] - 1s 6ms/sample - loss: 0.0026\n",
      "Epoch 28/40\n",
      "112/112 [==============================] - 1s 6ms/sample - loss: 0.0026\n",
      "Epoch 29/40\n",
      "112/112 [==============================] - 1s 5ms/sample - loss: 0.0024\n",
      "Epoch 30/40\n",
      "112/112 [==============================] - 0s 4ms/sample - loss: 0.0025\n",
      "Epoch 31/40\n",
      "112/112 [==============================] - 1s 6ms/sample - loss: 0.0024\n",
      "Epoch 32/40\n",
      "112/112 [==============================] - 0s 4ms/sample - loss: 0.0026\n",
      "Epoch 33/40\n",
      "112/112 [==============================] - 1s 5ms/sample - loss: 0.0026\n",
      "Epoch 34/40\n",
      "112/112 [==============================] - 1s 6ms/sample - loss: 0.0025\n",
      "Epoch 35/40\n",
      "112/112 [==============================] - 1s 5ms/sample - loss: 0.0025\n",
      "Epoch 36/40\n",
      "112/112 [==============================] - 0s 4ms/sample - loss: 0.0025\n",
      "Epoch 37/40\n",
      "112/112 [==============================] - 1s 6ms/sample - loss: 0.0026\n",
      "Epoch 38/40\n",
      "112/112 [==============================] - 0s 3ms/sample - loss: 0.0025\n",
      "Epoch 39/40\n",
      "112/112 [==============================] - 1s 5ms/sample - loss: 0.0025\n",
      "Epoch 40/40\n",
      "112/112 [==============================] - 1s 6ms/sample - loss: 0.0025\n"
     ]
    },
    {
     "data": {
      "text/plain": [
       "<tensorflow.python.keras.callbacks.History at 0x7f5dbc3ea828>"
      ]
     },
     "execution_count": 21,
     "metadata": {},
     "output_type": "execute_result"
    }
   ],
   "source": [
    "lstm_model.fit(trainX, trainY, epochs=40, batch_size=1, verbose=1)"
   ]
  },
  {
   "cell_type": "code",
   "execution_count": 22,
   "metadata": {},
   "outputs": [],
   "source": [
    "#\n",
    "# Schätzung der Werte für train und test Daten\n",
    "#\n",
    "trainPredict = lstm_model.predict(trainX)\n",
    "testPredict = lstm_model.predict(testX)"
   ]
  },
  {
   "cell_type": "code",
   "execution_count": 23,
   "metadata": {},
   "outputs": [],
   "source": [
    "#\n",
    "# Rücktransformation der Schätzungen (scaler)\n",
    "#\n",
    "trainPredict = scaler.inverse_transform(trainPredict)\n",
    "trainYi = scaler.inverse_transform([trainY])\n",
    "testPredict = scaler.inverse_transform(testPredict)\n",
    "testYi = scaler.inverse_transform([testY])"
   ]
  },
  {
   "cell_type": "code",
   "execution_count": 24,
   "metadata": {},
   "outputs": [
    {
     "data": {
      "image/png": "[encoded data removed]",
      "text/plain": [
       "<Figure size 1152x648 with 1 Axes>"
      ]
     },
     "metadata": {
      "needs_background": "light"
     },
     "output_type": "display_data"
    }
   ],
   "source": [
    "#\n",
    "# Anzeige der geschätzten neuen Werte\n",
    "#\n",
    "plt.plot(testYi[0,0:])\n",
    "plt.plot(testPredict[1:,0])\n",
    "plt.show()"
   ]
  },
  {
   "cell_type": "code",
   "execution_count": 25,
   "metadata": {},
   "outputs": [
    {
     "name": "stdout",
     "output_type": "stream",
     "text": [
      "train loss: 4.980 RMSE\n",
      "test loss: 6.522 RMSE\n"
     ]
    }
   ],
   "source": [
    "# calculate root mean squared error\n",
    "trainScore = math.sqrt(mean_squared_error(trainYi[0,0:-1], trainPredict[1:,0]))\n",
    "print('train loss: %.3f RMSE' % (trainScore))\n",
    "testScore = math.sqrt(mean_squared_error(testYi[0,0:-1], testPredict[1:,0]))\n",
    "print('test loss: %.3f RMSE' % (testScore))"
   ]
  },
  {
   "cell_type": "code",
   "execution_count": 26,
   "metadata": {},
   "outputs": [],
   "source": [
    "# shift train predictions for plotting\n",
    "trainPredictPlot = np.empty_like(x_data)\n",
    "trainPredictPlot[:, :] = np.nan\n",
    "trainPredictPlot[:len(trainPredict)+0, :] = trainPredict\n",
    "\n",
    "# shift test predictions for plotting\n",
    "testPredictPlot = np.empty_like(x_data)\n",
    "testPredictPlot[:, :] = np.nan\n",
    "testPredictPlot[len(trainPredict)+(look_back*2):len(x_data)-2, :] = testPredict"
   ]
  },
  {
   "cell_type": "code",
   "execution_count": 27,
   "metadata": {},
   "outputs": [
    {
     "data": {
      "image/png": "[encoded data removed]",
      "text/plain": [
       "<Figure size 1152x648 with 1 Axes>"
      ]
     },
     "metadata": {
      "needs_background": "light"
     },
     "output_type": "display_data"
    }
   ],
   "source": [
    "# plot baseline and predictions\n",
    "plt.plot(scaler.inverse_transform(x_data), color='grey')\n",
    "plt.plot(trainPredictPlot)\n",
    "plt.plot(testPredictPlot)\n",
    "plt.show()"
   ]
  },
  {
   "cell_type": "markdown",
   "metadata": {},
   "source": [
    "## Welche Verbesserungsschritte wären sonst noch möglich?"
   ]
  },
  {
   "cell_type": "markdown",
   "metadata": {},
   "source": [
    "<img src=\"info.png\" align=\"left\"/> "
   ]
  },
  {
   "cell_type": "code",
   "execution_count": null,
   "metadata": {},
   "outputs": [],
   "source": []
  }
 ],
 "metadata": {
  "kernelspec": {
   "display_name": "Python 3",
   "language": "python",
   "name": "python3"
  },
  "language_info": {
   "codemirror_mode": {
    "name": "ipython",
    "version": 3
   },
   "file_extension": ".py",
   "mimetype": "text/x-python",
   "name": "python",
   "nbconvert_exporter": "python",
   "pygments_lexer": "ipython3",
   "version": "3.6.11"
  }
 },
 "nbformat": 4,
 "nbformat_minor": 4
}
