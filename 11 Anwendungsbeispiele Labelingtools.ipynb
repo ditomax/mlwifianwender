{
 "cells": [
  {
   "cell_type": "markdown",
   "metadata": {},
   "source": [
    "<img src=\"header.png\" align=\"left\"/>"
   ]
  },
  {
   "cell_type": "markdown",
   "metadata": {},
   "source": [
    "# Anwendungsbeispiele Labelingtools\n",
    "\n",
    "Das Ziel dieses Anwendungsbeispieles ist es mehrere Labelingtools vorzustellen und deren Leistungsfähigkeit zu diskutieren. Folgende Tools werden verwendet:\n",
    "\n",
    "- Moonvision Objekterkennung [https://www.moonvision.io/de/](https://www.moonvision.io/de/)\n",
    "- IBM Objekterkennung []()\n",
    "- Textlabeling [https://www.lighttag.io/features](https://www.lighttag.io/features)\n",
    "- twingz Zeitreihen []()\n",
    "\n"
   ]
  },
  {
   "cell_type": "code",
   "execution_count": null,
   "metadata": {},
   "outputs": [],
   "source": []
  }
 ],
 "metadata": {
  "kernelspec": {
   "display_name": "Python 3",
   "language": "python",
   "name": "python3"
  },
  "language_info": {
   "codemirror_mode": {
    "name": "ipython",
    "version": 3
   },
   "file_extension": ".py",
   "mimetype": "text/x-python",
   "name": "python",
   "nbconvert_exporter": "python",
   "pygments_lexer": "ipython3",
   "version": "3.6.7"
  }
 },
 "nbformat": 4,
 "nbformat_minor": 4
}
