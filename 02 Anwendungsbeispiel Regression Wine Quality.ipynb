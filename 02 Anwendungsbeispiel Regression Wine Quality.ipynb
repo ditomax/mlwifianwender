{
 "cells": [
  {
   "cell_type": "markdown",
   "metadata": {},
   "source": [
    "<img src=\"header_anwender.png\" align=\"left\"/>"
   ]
  },
  {
   "cell_type": "markdown",
   "metadata": {},
   "source": [
    "# Anwendungsbeispiel Regression Wine Quality\n",
    "\n",
    "Das Ziel des Beispieles ist es, die Qualität eines Weines aus physikalischen Messgrößen zu schätzen. Dazu verwenden wir verschiedene Arten der Regression.\n",
    "Wir verwenden einen Datensatz von Weinen aus Portugal erstellt von Paulo Cortez [1]. Die Details der Erstellung der Daten sind unter folgendem Link zu finden [http://www3.dsi.uminho.pt/pcortez/wine5.pdf](http://www3.dsi.uminho.pt/pcortez/wine5.pdf). \n",
    "\n",
    "```\n",
    "[1] P. Cortez, A. Cerdeira, F. Almeida, T. Matos and J. Reis. \n",
    "  Modeling wine preferences by data mining from physicochemical properties.\n",
    "  In Decision Support Systems, Elsevier, 47(4):547-553. ISSN: 0167-9236.\n",
    "```\n",
    "\n"
   ]
  },
  {
   "cell_type": "markdown",
   "metadata": {},
   "source": [
    "## Methode und Details der Daten\n",
    "\n",
    "\n",
    "- Import der Module\n",
    "- Laden der Daten\n",
    "\n"
   ]
  },
  {
   "cell_type": "code",
   "execution_count": null,
   "metadata": {},
   "outputs": [],
   "source": [
    "#\n",
    "# Import der Module\n",
    "#\n",
    "import pandas as pd \n",
    "import matplotlib.pyplot as plt \n",
    "import numpy as np \n",
    "import seaborn as sns\n",
    "from sklearn.model_selection import train_test_split \n",
    "from sklearn.linear_model import LinearRegression \n",
    "from sklearn.ensemble import RandomForestRegressor\n",
    "from sklearn.neural_network import MLPRegressor\n",
    "from sklearn import metrics "
   ]
  },
  {
   "cell_type": "code",
   "execution_count": null,
   "metadata": {},
   "outputs": [],
   "source": [
    "#\n",
    "# Laden der Daten aus einem CSV File. Der Separator ist hier ein ';'\n",
    "#\n",
    "df = pd.read_csv('data/winequality/winequality-red.csv', sep=';')"
   ]
  },
  {
   "cell_type": "code",
   "execution_count": null,
   "metadata": {},
   "outputs": [],
   "source": [
    "#\n",
    "# Anzeige der Dimensionen des Datensatzes\n",
    "#\n",
    "print(df.shape)"
   ]
  },
  {
   "cell_type": "code",
   "execution_count": null,
   "metadata": {},
   "outputs": [],
   "source": [
    "#\n",
    "# Anzeige der ersten Datensätze für Kontrolle\n",
    "#\n",
    "df.head(20)"
   ]
  },
  {
   "cell_type": "code",
   "execution_count": null,
   "metadata": {},
   "outputs": [],
   "source": [
    "df.tail()"
   ]
  },
  {
   "cell_type": "code",
   "execution_count": null,
   "metadata": {},
   "outputs": [],
   "source": [
    "#\n",
    "# Labels werden in x gespeichert, die restlichen Daten in x (ohne quality). Drop löscht ein Feature\n",
    "#\n",
    "y_complete = df['quality']\n",
    "x_complete = df.drop(['quality'], axis=1)\n"
   ]
  },
  {
   "cell_type": "code",
   "execution_count": null,
   "metadata": {},
   "outputs": [],
   "source": [
    "y_complete.head()"
   ]
  },
  {
   "cell_type": "code",
   "execution_count": null,
   "metadata": {},
   "outputs": [],
   "source": [
    "x_complete.head()"
   ]
  },
  {
   "cell_type": "code",
   "execution_count": null,
   "metadata": {},
   "outputs": [],
   "source": [
    "#\n",
    "# Aufteilen der Daten in Training Daten und Testdaten\n",
    "# Beachte auch die neue Schreibweise bei der Zuweisung eines Rückgabewertes der Funktion\n",
    "#\n",
    "x_train, x_test, y_train, y_test = train_test_split ( x_complete, y_complete, train_size=0.8, random_state=42 )"
   ]
  },
  {
   "cell_type": "code",
   "execution_count": null,
   "metadata": {},
   "outputs": [],
   "source": [
    "x_train.shape"
   ]
  },
  {
   "cell_type": "code",
   "execution_count": null,
   "metadata": {},
   "outputs": [],
   "source": [
    "#\n",
    "# Anlegen eines Modelles für lineare Regression\n",
    "# Training des Modelles mit Daten (fit)\n",
    "#\n",
    "regressor = LinearRegression()\n",
    "regressor.fit(x_train,y_train)"
   ]
  },
  {
   "cell_type": "code",
   "execution_count": null,
   "metadata": {},
   "outputs": [],
   "source": [
    "#\n",
    "# Kurzer Blick auf die Parameter des Modelles\n",
    "#\n",
    "print(regressor.coef_)"
   ]
  },
  {
   "cell_type": "code",
   "execution_count": null,
   "metadata": {},
   "outputs": [],
   "source": [
    "#\n",
    "# Test durch Vorhersage mit dem Modell auf beiden Datensätzen (test und train)\n",
    "#\n",
    "prediction_train = regressor.predict(x_train)\n",
    "prediction_test = regressor.predict(x_test) "
   ]
  },
  {
   "cell_type": "code",
   "execution_count": null,
   "metadata": {},
   "outputs": [],
   "source": [
    "prediction_train"
   ]
  },
  {
   "cell_type": "code",
   "execution_count": null,
   "metadata": {},
   "outputs": [],
   "source": [
    "# \n",
    "# Auswertungen der Qualität des Modelles für Regression\n",
    "# Unterschied zwischen test und train Qualität\n",
    "#\n",
    "print('test  root mean squared error: {}'.format(np.sqrt(metrics.mean_squared_error(y_test, prediction_test))))\n",
    "print('train root mean squared error: {}'.format(np.sqrt(metrics.mean_squared_error(y_train, prediction_train))))"
   ]
  },
  {
   "cell_type": "code",
   "execution_count": null,
   "metadata": {},
   "outputs": [],
   "source": [
    "#\n",
    "# Auswertung weiterer Qualitätsparameter für test\n",
    "#\n",
    "print('test mean absolute error:     {}'.format(metrics.mean_absolute_error(y_test, prediction_test)))\n",
    "print('test mean squared error:      {}'.format(metrics.mean_squared_error(y_test, prediction_test)))"
   ]
  },
  {
   "cell_type": "code",
   "execution_count": null,
   "metadata": {},
   "outputs": [],
   "source": [
    "#\n",
    "# Hilfsfunktion zum zählen\n",
    "#\n",
    "def countAccuracy(prediction,y):\n",
    "    prediction_quality_test = np.round_(prediction)\n",
    "    y_test_data = y.values\n",
    "\n",
    "    correct, incorrect = 0,0\n",
    "    for index in range(prediction_test.shape[0]):\n",
    "        if prediction_quality_test[index] == y_test_data[index]:\n",
    "            correct= correct + 1\n",
    "        else:\n",
    "            incorrect= incorrect + 1\n",
    "\n",
    "    print('count accuracy: {}'.format((correct/(correct+incorrect))))"
   ]
  },
  {
   "cell_type": "code",
   "execution_count": null,
   "metadata": {},
   "outputs": [],
   "source": [
    "#\n",
    "# Jetzt Aufruf der Funktion\n",
    "# Accuracy für Test Daten\n",
    "#\n",
    "countAccuracy(prediction_test,y_test)"
   ]
  },
  {
   "cell_type": "code",
   "execution_count": null,
   "metadata": {},
   "outputs": [],
   "source": [
    "#\n",
    "# Accuracy für Training Daten\n",
    "#\n",
    "countAccuracy(prediction_train,y_train)"
   ]
  },
  {
   "cell_type": "code",
   "execution_count": null,
   "metadata": {},
   "outputs": [],
   "source": [
    "#\n",
    "# Test eines anderen Modelles für Regression (randomforest regression)\n",
    "# \n",
    "random_regressor = RandomForestRegressor(n_estimators = 10, random_state = 42)\n",
    "random_regressor.fit(x_train, y_train);"
   ]
  },
  {
   "cell_type": "code",
   "execution_count": null,
   "metadata": {},
   "outputs": [],
   "source": [
    "prediction_train = random_regressor.predict(x_train)\n",
    "prediction_test = random_regressor.predict(x_test) \n",
    "\n",
    "print('test  root mean squared error: {}'.format(np.sqrt(metrics.mean_squared_error(y_test, prediction_test))))\n",
    "print('train root mean squared error: {}'.format(np.sqrt(metrics.mean_squared_error(y_train, prediction_train))))"
   ]
  },
  {
   "cell_type": "code",
   "execution_count": null,
   "metadata": {},
   "outputs": [],
   "source": [
    "countAccuracy(prediction_test,y_test)"
   ]
  },
  {
   "cell_type": "code",
   "execution_count": null,
   "metadata": {},
   "outputs": [],
   "source": [
    "#\n",
    "# Wie könnten wir Qualität in diesem Kontext breiter definieren?\n",
    "#"
   ]
  },
  {
   "cell_type": "code",
   "execution_count": null,
   "metadata": {},
   "outputs": [],
   "source": [
    "#\n",
    "# Hilfsfunktion zum zählen\n",
    "#\n",
    "def countAccuracyRelaxed(prediction,y):\n",
    "    prediction_quality_test = np.round_(prediction)\n",
    "    y_test_data = y.values\n",
    "\n",
    "    correct, incorrect = 0,0\n",
    "    for index in range(prediction_test.shape[0]):\n",
    "        if prediction_quality_test[index] == y_test_data[index]:\n",
    "            correct= correct + 1\n",
    "        elif prediction_quality_test[index] == y_test_data[index] + 1: \n",
    "            # wir betrachten die Qualität auch als richtig geschätzt, wenn es die nächsten oder vorherige Klasse war\n",
    "            correct= correct + 1\n",
    "        elif prediction_quality_test[index] == y_test_data[index] - 1:\n",
    "            correct= correct + 1\n",
    "        else:\n",
    "            incorrect= incorrect + 1\n",
    "\n",
    "    print('count accuracy: {}'.format((correct/(correct+incorrect))))\n"
   ]
  },
  {
   "cell_type": "code",
   "execution_count": null,
   "metadata": {},
   "outputs": [],
   "source": [
    "countAccuracyRelaxed(prediction_test,y_test)"
   ]
  },
  {
   "cell_type": "markdown",
   "metadata": {},
   "source": [
    "# Test eines Neuronalen Netzwerkes"
   ]
  },
  {
   "cell_type": "code",
   "execution_count": null,
   "metadata": {},
   "outputs": [],
   "source": [
    "nn_regressor = MLPRegressor(hidden_layer_sizes=(20,40,10), random_state=42, max_iter=2000, activation='relu')\n",
    "nn_regressor.fit(x_train, y_train);"
   ]
  },
  {
   "cell_type": "code",
   "execution_count": null,
   "metadata": {},
   "outputs": [],
   "source": [
    "prediction_train = nn_regressor.predict(x_train)\n",
    "prediction_test = nn_regressor.predict(x_test) \n",
    "\n",
    "print('test  root mean squared error: {}'.format(np.sqrt(metrics.mean_squared_error(y_test, prediction_test))))\n",
    "print('train root mean squared error: {}'.format(np.sqrt(metrics.mean_squared_error(y_train, prediction_train))))"
   ]
  },
  {
   "cell_type": "code",
   "execution_count": null,
   "metadata": {},
   "outputs": [],
   "source": [
    "countAccuracy(prediction_test,y_test)"
   ]
  },
  {
   "cell_type": "code",
   "execution_count": null,
   "metadata": {},
   "outputs": [],
   "source": [
    "countAccuracyRelaxed(prediction_test,y_test)"
   ]
  },
  {
   "cell_type": "code",
   "execution_count": null,
   "metadata": {},
   "outputs": [],
   "source": []
  }
 ],
 "metadata": {
  "kernelspec": {
   "display_name": "Python 3 (ipykernel)",
   "language": "python",
   "name": "python3"
  },
  "language_info": {
   "codemirror_mode": {
    "name": "ipython",
    "version": 3
   },
   "file_extension": ".py",
   "mimetype": "text/x-python",
   "name": "python",
   "nbconvert_exporter": "python",
   "pygments_lexer": "ipython3",
   "version": "3.7.8"
  }
 },
 "nbformat": 4,
 "nbformat_minor": 4
}
