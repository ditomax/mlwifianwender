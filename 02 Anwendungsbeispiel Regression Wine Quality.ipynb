{
 "cells": [
  {
   "cell_type": "markdown",
   "metadata": {},
   "source": [
    "<img src=\"header.png\" align=\"center\"/>"
   ]
  },
  {
   "cell_type": "markdown",
   "metadata": {},
   "source": [
    "# Anwendungsbeispiel Regression Wine Quality\n",
    "\n",
    "Das Ziel des Beispieles ist es, die Qualität eines Weines aus physikalischen Messgrößen zu schätzen. Dazu verwenden wir verschiedene Arten der Regression.\n",
    "Wir verwenden einen Datensatz von Weinen aus Portugal erstellt von Paulo Cortez [1]. Die Details der Erstellung der Daten sind unter folgendem Link zu finden [http://www3.dsi.uminho.pt/pcortez/wine5.pdf](http://www3.dsi.uminho.pt/pcortez/wine5.pdf). \n",
    "\n",
    "```\n",
    "[1] P. Cortez, A. Cerdeira, F. Almeida, T. Matos and J. Reis. \n",
    "  Modeling wine preferences by data mining from physicochemical properties.\n",
    "  In Decision Support Systems, Elsevier, 47(4):547-553. ISSN: 0167-9236.\n",
    "```\n",
    "\n"
   ]
  },
  {
   "cell_type": "markdown",
   "metadata": {},
   "source": [
    "## Methode und Details der Daten\n",
    "\n",
    "\n",
    "- Import der Module\n",
    "- Laden der Daten\n",
    "\n"
   ]
  },
  {
   "cell_type": "code",
   "execution_count": 1,
   "metadata": {},
   "outputs": [],
   "source": [
    "# Import der Module\n",
    "import pandas as pd \n",
    "from sklearn.model_selection import train_test_split \n",
    "from sklearn.linear_model import LinearRegression \n",
    "from sklearn import metrics \n",
    "import matplotlib.pyplot as plt \n",
    "import numpy as np \n",
    "import seaborn as sns"
   ]
  },
  {
   "cell_type": "code",
   "execution_count": 11,
   "metadata": {},
   "outputs": [
    {
     "data": {
      "text/html": [
       "<div>\n",
       "<style scoped>\n",
       "    .dataframe tbody tr th:only-of-type {\n",
       "        vertical-align: middle;\n",
       "    }\n",
       "\n",
       "    .dataframe tbody tr th {\n",
       "        vertical-align: top;\n",
       "    }\n",
       "\n",
       "    .dataframe thead th {\n",
       "        text-align: right;\n",
       "    }\n",
       "</style>\n",
       "<table border=\"1\" class=\"dataframe\">\n",
       "  <thead>\n",
       "    <tr style=\"text-align: right;\">\n",
       "      <th></th>\n",
       "      <th>fixed acidity</th>\n",
       "      <th>volatile acidity</th>\n",
       "      <th>citric acid</th>\n",
       "      <th>residual sugar</th>\n",
       "      <th>chlorides</th>\n",
       "      <th>free sulfur dioxide</th>\n",
       "      <th>total sulfur dioxide</th>\n",
       "      <th>density</th>\n",
       "      <th>pH</th>\n",
       "      <th>sulphates</th>\n",
       "      <th>alcohol</th>\n",
       "      <th>quality</th>\n",
       "    </tr>\n",
       "  </thead>\n",
       "  <tbody>\n",
       "    <tr>\n",
       "      <th>0</th>\n",
       "      <td>7.4</td>\n",
       "      <td>0.70</td>\n",
       "      <td>0.00</td>\n",
       "      <td>1.9</td>\n",
       "      <td>0.076</td>\n",
       "      <td>11.0</td>\n",
       "      <td>34.0</td>\n",
       "      <td>0.9978</td>\n",
       "      <td>3.51</td>\n",
       "      <td>0.56</td>\n",
       "      <td>9.4</td>\n",
       "      <td>5</td>\n",
       "    </tr>\n",
       "    <tr>\n",
       "      <th>1</th>\n",
       "      <td>7.8</td>\n",
       "      <td>0.88</td>\n",
       "      <td>0.00</td>\n",
       "      <td>2.6</td>\n",
       "      <td>0.098</td>\n",
       "      <td>25.0</td>\n",
       "      <td>67.0</td>\n",
       "      <td>0.9968</td>\n",
       "      <td>3.20</td>\n",
       "      <td>0.68</td>\n",
       "      <td>9.8</td>\n",
       "      <td>5</td>\n",
       "    </tr>\n",
       "    <tr>\n",
       "      <th>2</th>\n",
       "      <td>7.8</td>\n",
       "      <td>0.76</td>\n",
       "      <td>0.04</td>\n",
       "      <td>2.3</td>\n",
       "      <td>0.092</td>\n",
       "      <td>15.0</td>\n",
       "      <td>54.0</td>\n",
       "      <td>0.9970</td>\n",
       "      <td>3.26</td>\n",
       "      <td>0.65</td>\n",
       "      <td>9.8</td>\n",
       "      <td>5</td>\n",
       "    </tr>\n",
       "    <tr>\n",
       "      <th>3</th>\n",
       "      <td>11.2</td>\n",
       "      <td>0.28</td>\n",
       "      <td>0.56</td>\n",
       "      <td>1.9</td>\n",
       "      <td>0.075</td>\n",
       "      <td>17.0</td>\n",
       "      <td>60.0</td>\n",
       "      <td>0.9980</td>\n",
       "      <td>3.16</td>\n",
       "      <td>0.58</td>\n",
       "      <td>9.8</td>\n",
       "      <td>6</td>\n",
       "    </tr>\n",
       "    <tr>\n",
       "      <th>4</th>\n",
       "      <td>7.4</td>\n",
       "      <td>0.70</td>\n",
       "      <td>0.00</td>\n",
       "      <td>1.9</td>\n",
       "      <td>0.076</td>\n",
       "      <td>11.0</td>\n",
       "      <td>34.0</td>\n",
       "      <td>0.9978</td>\n",
       "      <td>3.51</td>\n",
       "      <td>0.56</td>\n",
       "      <td>9.4</td>\n",
       "      <td>5</td>\n",
       "    </tr>\n",
       "  </tbody>\n",
       "</table>\n",
       "</div>"
      ],
      "text/plain": [
       "   fixed acidity  volatile acidity  citric acid  residual sugar  chlorides  \\\n",
       "0            7.4              0.70         0.00             1.9      0.076   \n",
       "1            7.8              0.88         0.00             2.6      0.098   \n",
       "2            7.8              0.76         0.04             2.3      0.092   \n",
       "3           11.2              0.28         0.56             1.9      0.075   \n",
       "4            7.4              0.70         0.00             1.9      0.076   \n",
       "\n",
       "   free sulfur dioxide  total sulfur dioxide  density    pH  sulphates  \\\n",
       "0                 11.0                  34.0   0.9978  3.51       0.56   \n",
       "1                 25.0                  67.0   0.9968  3.20       0.68   \n",
       "2                 15.0                  54.0   0.9970  3.26       0.65   \n",
       "3                 17.0                  60.0   0.9980  3.16       0.58   \n",
       "4                 11.0                  34.0   0.9978  3.51       0.56   \n",
       "\n",
       "   alcohol  quality  \n",
       "0      9.4        5  \n",
       "1      9.8        5  \n",
       "2      9.8        5  \n",
       "3      9.8        6  \n",
       "4      9.4        5  "
      ]
     },
     "execution_count": 11,
     "metadata": {},
     "output_type": "execute_result"
    }
   ],
   "source": [
    "df = pd.read_csv('data/winequality/winequality-red.csv', sep=';')\n",
    "df.head()"
   ]
  },
  {
   "cell_type": "code",
   "execution_count": 12,
   "metadata": {},
   "outputs": [
    {
     "name": "stdout",
     "output_type": "stream",
     "text": [
      "fixed acidity           0.124052\n",
      "volatile acidity       -0.390558\n",
      "citric acid             0.226373\n",
      "residual sugar          0.013732\n",
      "chlorides              -0.128907\n",
      "free sulfur dioxide    -0.050656\n",
      "total sulfur dioxide   -0.185100\n",
      "density                -0.174919\n",
      "pH                     -0.057731\n",
      "sulphates               0.251397\n",
      "alcohol                 0.476166\n",
      "Name: quality, dtype: float64\n"
     ]
    }
   ],
   "source": [
    "correlations = df.corr()['quality'].drop('quality')\n",
    "print(correlations)"
   ]
  },
  {
   "cell_type": "code",
   "execution_count": 13,
   "metadata": {},
   "outputs": [
    {
     "data": {
      "text/html": [
       "<div>\n",
       "<style scoped>\n",
       "    .dataframe tbody tr th:only-of-type {\n",
       "        vertical-align: middle;\n",
       "    }\n",
       "\n",
       "    .dataframe tbody tr th {\n",
       "        vertical-align: top;\n",
       "    }\n",
       "\n",
       "    .dataframe thead th {\n",
       "        text-align: right;\n",
       "    }\n",
       "</style>\n",
       "<table border=\"1\" class=\"dataframe\">\n",
       "  <thead>\n",
       "    <tr style=\"text-align: right;\">\n",
       "      <th></th>\n",
       "      <th>fixed acidity</th>\n",
       "      <th>volatile acidity</th>\n",
       "      <th>citric acid</th>\n",
       "      <th>residual sugar</th>\n",
       "      <th>chlorides</th>\n",
       "      <th>free sulfur dioxide</th>\n",
       "      <th>total sulfur dioxide</th>\n",
       "      <th>density</th>\n",
       "      <th>pH</th>\n",
       "      <th>sulphates</th>\n",
       "      <th>alcohol</th>\n",
       "      <th>quality</th>\n",
       "    </tr>\n",
       "  </thead>\n",
       "  <tbody>\n",
       "    <tr>\n",
       "      <th>0</th>\n",
       "      <td>7.4</td>\n",
       "      <td>0.70</td>\n",
       "      <td>0.00</td>\n",
       "      <td>1.9</td>\n",
       "      <td>0.076</td>\n",
       "      <td>11.0</td>\n",
       "      <td>34.0</td>\n",
       "      <td>0.9978</td>\n",
       "      <td>3.51</td>\n",
       "      <td>0.56</td>\n",
       "      <td>9.4</td>\n",
       "      <td>5</td>\n",
       "    </tr>\n",
       "    <tr>\n",
       "      <th>1</th>\n",
       "      <td>7.8</td>\n",
       "      <td>0.88</td>\n",
       "      <td>0.00</td>\n",
       "      <td>2.6</td>\n",
       "      <td>0.098</td>\n",
       "      <td>25.0</td>\n",
       "      <td>67.0</td>\n",
       "      <td>0.9968</td>\n",
       "      <td>3.20</td>\n",
       "      <td>0.68</td>\n",
       "      <td>9.8</td>\n",
       "      <td>5</td>\n",
       "    </tr>\n",
       "    <tr>\n",
       "      <th>2</th>\n",
       "      <td>7.8</td>\n",
       "      <td>0.76</td>\n",
       "      <td>0.04</td>\n",
       "      <td>2.3</td>\n",
       "      <td>0.092</td>\n",
       "      <td>15.0</td>\n",
       "      <td>54.0</td>\n",
       "      <td>0.9970</td>\n",
       "      <td>3.26</td>\n",
       "      <td>0.65</td>\n",
       "      <td>9.8</td>\n",
       "      <td>5</td>\n",
       "    </tr>\n",
       "    <tr>\n",
       "      <th>3</th>\n",
       "      <td>11.2</td>\n",
       "      <td>0.28</td>\n",
       "      <td>0.56</td>\n",
       "      <td>1.9</td>\n",
       "      <td>0.075</td>\n",
       "      <td>17.0</td>\n",
       "      <td>60.0</td>\n",
       "      <td>0.9980</td>\n",
       "      <td>3.16</td>\n",
       "      <td>0.58</td>\n",
       "      <td>9.8</td>\n",
       "      <td>6</td>\n",
       "    </tr>\n",
       "    <tr>\n",
       "      <th>4</th>\n",
       "      <td>7.4</td>\n",
       "      <td>0.70</td>\n",
       "      <td>0.00</td>\n",
       "      <td>1.9</td>\n",
       "      <td>0.076</td>\n",
       "      <td>11.0</td>\n",
       "      <td>34.0</td>\n",
       "      <td>0.9978</td>\n",
       "      <td>3.51</td>\n",
       "      <td>0.56</td>\n",
       "      <td>9.4</td>\n",
       "      <td>5</td>\n",
       "    </tr>\n",
       "  </tbody>\n",
       "</table>\n",
       "</div>"
      ],
      "text/plain": [
       "   fixed acidity  volatile acidity  citric acid  residual sugar  chlorides  \\\n",
       "0            7.4              0.70         0.00             1.9      0.076   \n",
       "1            7.8              0.88         0.00             2.6      0.098   \n",
       "2            7.8              0.76         0.04             2.3      0.092   \n",
       "3           11.2              0.28         0.56             1.9      0.075   \n",
       "4            7.4              0.70         0.00             1.9      0.076   \n",
       "\n",
       "   free sulfur dioxide  total sulfur dioxide  density    pH  sulphates  \\\n",
       "0                 11.0                  34.0   0.9978  3.51       0.56   \n",
       "1                 25.0                  67.0   0.9968  3.20       0.68   \n",
       "2                 15.0                  54.0   0.9970  3.26       0.65   \n",
       "3                 17.0                  60.0   0.9980  3.16       0.58   \n",
       "4                 11.0                  34.0   0.9978  3.51       0.56   \n",
       "\n",
       "   alcohol  quality  \n",
       "0      9.4        5  \n",
       "1      9.8        5  \n",
       "2      9.8        5  \n",
       "3      9.8        6  \n",
       "4      9.4        5  "
      ]
     },
     "execution_count": 13,
     "metadata": {},
     "output_type": "execute_result"
    }
   ],
   "source": [
    "df.head()"
   ]
  },
  {
   "cell_type": "code",
   "execution_count": 14,
   "metadata": {},
   "outputs": [],
   "source": [
    "y = df['quality']\n",
    "x = df.drop(['quality'], axis=1)\n"
   ]
  },
  {
   "cell_type": "code",
   "execution_count": 15,
   "metadata": {},
   "outputs": [],
   "source": [
    "x_train,x_test,y_train,y_test=train_test_split(x,y,random_state=3)"
   ]
  },
  {
   "cell_type": "code",
   "execution_count": 16,
   "metadata": {},
   "outputs": [
    {
     "data": {
      "text/plain": [
       "LinearRegression(copy_X=True, fit_intercept=True, n_jobs=None, normalize=False)"
      ]
     },
     "execution_count": 16,
     "metadata": {},
     "output_type": "execute_result"
    }
   ],
   "source": [
    "regressor = LinearRegression()\n",
    "regressor.fit(x_train,y_train)"
   ]
  },
  {
   "cell_type": "code",
   "execution_count": 17,
   "metadata": {},
   "outputs": [
    {
     "name": "stdout",
     "output_type": "stream",
     "text": [
      "[ 2.32736478e-02 -9.91535569e-01 -1.41267594e-01  8.11925585e-03\n",
      " -1.59192407e+00  5.50005690e-03 -3.54198549e-03 -6.06916616e+00\n",
      " -4.06325022e-01  8.23603060e-01  2.94180891e-01]\n"
     ]
    }
   ],
   "source": [
    "print(regressor.coef_)"
   ]
  },
  {
   "cell_type": "code",
   "execution_count": 18,
   "metadata": {},
   "outputs": [
    {
     "name": "stdout",
     "output_type": "stream",
     "text": [
      "[5.33390209 5.33458216 5.94987004 ... 6.39109929 6.20184044 5.27719203]\n",
      "[5.09908272 5.65580865 5.90927233 6.13810421 5.00495043 5.44066916\n",
      " 5.05213654 6.15418124 5.52055599 5.77519663 5.61796132 5.23498287\n",
      " 5.23127869 5.31466808 6.46439345 5.04000017 5.85280918 5.19300859\n",
      " 6.0919118  6.34255254 6.41600994 5.52588684 5.80534686 4.93255733\n",
      " 5.16159004 5.48207651 5.13834113 6.59480979 5.89478275 5.73709\n",
      " 6.09133736 6.29529369 4.91616391 5.88376873 5.10515437 5.96400538\n",
      " 6.80732578 5.03724291 5.25485064 5.88376873 5.17431803 4.84899008\n",
      " 6.4903037  5.40465942 5.30375415 5.83513199 5.70825368 5.23988973\n",
      " 5.24870634 5.46267267 5.08516492 5.61701512 6.01804854 6.32751521\n",
      " 5.4628648  5.36127481 5.10151339 4.92009423 5.2240759  5.08722001\n",
      " 4.79258875 5.43567381 5.25054561 5.6798788  5.85050157 6.52603804\n",
      " 5.37941315 5.71598525 5.16966353 5.98159839 5.63912543 5.6004759\n",
      " 5.74068429 5.22739422 5.98184324 5.51332746 5.40647057 5.68342011\n",
      " 5.64578506 5.73709    6.23278066 5.29710528 4.66398697 6.0425789\n",
      " 5.53767287 5.17796008 5.21203744 5.95953904 5.51273214 5.64429718\n",
      " 5.70470381 5.64311292 5.72484629 5.31747436 5.37088603 5.40115158\n",
      " 4.81676854 5.44991141 5.47380406 6.536759   6.14384914 5.63963684\n",
      " 6.0764213  6.18184545 5.7333969  4.93007305 4.7323061  5.04093649\n",
      " 5.45014754 5.78173092 6.44429962 5.47723449 6.46843631 5.94017696\n",
      " 5.43087432 5.2047468  5.3484345  5.20416986 6.19702214 5.62516963\n",
      " 5.83959227 5.19657408 5.17215817 5.26956927 5.74449907 5.64311292\n",
      " 6.14688619 5.89603605 5.49258006 5.40446964 5.25143958 5.40731851\n",
      " 5.70426783 5.67629516 6.58239965 5.88935979 6.38222076 5.73042293\n",
      " 5.37034033 5.14004751 5.58608223 6.59675055 5.24400122 5.25667208\n",
      " 5.54847605 5.16833418 5.76174468 6.10180871 6.93344996 4.99041658\n",
      " 5.02045525 4.6936361  5.83279744 5.0202852  5.22739422 5.70787157\n",
      " 5.629781   5.33023534 5.22441656 5.84507489 5.6222602  5.78080916\n",
      " 5.52275613 6.07368903 5.63220544 5.49065808 5.96678121 4.82131562\n",
      " 5.25184801 5.67298643 5.7315135  6.61949155 5.0208738  5.90323477\n",
      " 5.85139093 5.20850319 5.68647856 5.5107533  5.40465942 6.37989991\n",
      " 6.72172128 4.98279688 5.87260366 5.75498799 5.74800561 5.61884195\n",
      " 5.711974   5.42385235 6.05973318 5.58256745 5.8850805  6.52201233\n",
      " 5.00475912 5.39601068 5.1816475  5.16966353 5.4628648  5.75133323\n",
      " 5.69516241 4.92576461 5.12771702 4.98053813 6.18910436 5.66320044\n",
      " 5.44465486 5.56328176 4.99497389 5.83781624 5.31649795 5.48545825\n",
      " 5.69404608 5.6982245  5.70724638 5.82340331 5.79368731 6.02336481\n",
      " 6.20271572 5.27399606 5.04145317 5.21266809 5.38322644 4.97897504\n",
      " 6.20624438 5.44065494 5.94166869 5.2181219  6.61288079 5.08900422\n",
      " 5.29347654 5.03590649 6.17278277 5.77436736 4.8608174  5.72198789\n",
      " 5.29496071 5.35533595 5.17179335 6.29984401 5.59779315 4.9609217\n",
      " 6.10214544 6.03200835 6.17804629 5.42115437 6.76301676 6.21226379\n",
      " 6.0861762  5.22659704 5.44997449 5.54506957 5.35533595 5.2412872\n",
      " 5.74150467 5.25027186 6.12552958 5.42771411 5.83939322 4.81992631\n",
      " 6.06232111 5.08298843 6.43084951 6.06506094 5.70218957 5.70426783\n",
      " 4.90078952 5.99868147 5.28886652 5.70122979 5.42595998 5.11848917\n",
      " 6.48395933 5.30489074 5.96848836 5.67858152 6.4906849  6.19855569\n",
      " 5.09593756 5.46687509 5.30216736 5.23795665 6.38222076 5.37816899\n",
      " 5.40613284 5.99854543 4.99943884 5.88539114 5.3527035  5.18049126\n",
      " 5.48464387 5.91747035 4.82427368 6.84444638 5.17024164 4.93584868\n",
      " 5.71503791 5.67672479 5.29391086 6.28837157 6.88282676 6.58112403\n",
      " 5.94280234 6.33341072 5.90237267 5.56893141 6.00359575 5.51815475\n",
      " 5.54851918 5.7333969  5.31204514 5.1501443  6.2167232  5.30100053\n",
      " 6.21938621 6.10351244 5.87211737 5.4294743  4.84344446 6.0468106\n",
      " 5.24475561 5.11875658 6.4639068  5.49851347 6.74724534 5.10901438\n",
      " 5.1652877  5.30672745 5.71398551 5.10794561 5.53117148 5.31620746\n",
      " 5.16515101 4.97232263 5.45290614 5.38377742 5.3484098  5.17608733\n",
      " 6.11753324 5.61279425 5.73151521 6.34758037 5.90725513 5.5107533\n",
      " 5.69333789 5.14471327 5.72896485 6.40189738 6.15898319 5.46033547\n",
      " 6.05278052 5.73135561 6.23901028 5.23795665 5.54774909 5.04649062\n",
      " 4.9961328  5.07773137 5.80157819 5.39684518 6.01142215 5.14597383\n",
      " 6.51552207 5.3931712  5.49159322 5.64862532 5.52478877 5.26990054\n",
      " 6.4906849  5.82378383 5.03571259 5.24297506 5.49335    5.28186183\n",
      " 5.50973691 5.04135168 5.29294649 5.45465132 5.36525182 6.12969147\n",
      " 4.99593587 5.30216736 6.07959665 5.2047468  5.13404621 4.65965123\n",
      " 6.15655748 6.15713628 6.50577148 5.79958773 5.72198789 6.39773211\n",
      " 6.13733354 5.89478275 6.05255784 6.03220643 5.37428389 5.40499404\n",
      " 5.6190012  5.40207228 5.75989893 5.25849574]\n"
     ]
    }
   ],
   "source": [
    "train_pred = regressor.predict(x_train)\n",
    "print(train_pred)\n",
    "test_pred = regressor.predict(x_test) \n",
    "print(test_pred)"
   ]
  },
  {
   "cell_type": "code",
   "execution_count": 23,
   "metadata": {},
   "outputs": [
    {
     "name": "stdout",
     "output_type": "stream",
     "text": [
      "0.6524682504422629\n",
      "0.6269476348621658\n",
      "Mean Absolute Error: 0.483685159820527\n",
      "Mean Squared Error: 0.39306333685926353\n",
      "Root Mean Squared Error: 0.6269476348621658\n"
     ]
    }
   ],
   "source": [
    "# calculating rmse\n",
    "train_rmse = metrics.mean_squared_error(train_pred, y_train) ** 0.5\n",
    "print(train_rmse)\n",
    "test_rmse = metrics.mean_squared_error(test_pred, y_test) ** 0.5\n",
    "print(test_rmse)\n",
    "# rounding off the predicted values for test set\n",
    "predicted_data = np.round_(test_pred)\n",
    "#print(predicted_data)\n",
    "print('Mean Absolute Error:', metrics.mean_absolute_error(y_test, test_pred))\n",
    "print('Mean Squared Error:', metrics.mean_squared_error(y_test, test_pred))\n",
    "print('Root Mean Squared Error:', np.sqrt(metrics.mean_squared_error(y_test, test_pred)))\n",
    "\n",
    "\n",
    "\n",
    "\n"
   ]
  },
  {
   "cell_type": "code",
   "execution_count": null,
   "metadata": {},
   "outputs": [],
   "source": []
  }
 ],
 "metadata": {
  "kernelspec": {
   "display_name": "Python 3",
   "language": "python",
   "name": "python3"
  },
  "language_info": {
   "codemirror_mode": {
    "name": "ipython",
    "version": 3
   },
   "file_extension": ".py",
   "mimetype": "text/x-python",
   "name": "python",
   "nbconvert_exporter": "python",
   "pygments_lexer": "ipython3",
   "version": "3.6.7"
  }
 },
 "nbformat": 4,
 "nbformat_minor": 4
}
