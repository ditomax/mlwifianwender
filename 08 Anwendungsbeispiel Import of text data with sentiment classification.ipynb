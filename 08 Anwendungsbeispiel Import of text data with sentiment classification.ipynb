{
 "cells": [
  {
   "cell_type": "markdown",
   "metadata": {},
   "source": [
    "<img src=\"header.png\" align=\"left\"/>"
   ]
  },
  {
   "cell_type": "markdown",
   "metadata": {},
   "source": [
    "# Anwendungsbeispiel Import of text data with sentiment classification\n",
    "\n",
    "In diesem Beispiel werden wir Textdaten behandeln und versuchen die Stimmung eines kurzen Stückes Text zu bestimmen. Damit können zum Beispiel eMails oder Social Media Beiträge gefiltert werden.\n",
    "\n",
    "\n",
    "\n",
    "\n",
    "\n",
    "- [2] [https://stackabuse.com/python-for-nlp-movie-sentiment-analysis-using-deep-learning-in-keras/](https://stackabuse.com/python-for-nlp-movie-sentiment-analysis-using-deep-learning-in-keras/)\n",
    "- [3] https://gdcoder.com/sentiment-clas/\n",
    "- [4] [https://nlp.stanford.edu/pubs/glove.pdf](https://nlp.stanford.edu/pubs/glove.pdf)\n",
    "\n",
    "\n",
    "Zitierungen GloVe [1] und Datensatz[2]:\n",
    "```\n",
    "[1] Jeffrey Pennington, Richard Socher, and Christopher D. Manning. 2014. GloVe: Global Vectors for Word Representation.\n",
    "\n",
    "[2] Maas, Andrew L.  and  Daly, Raymond E.  and  Pham, Peter T.  and  Huang, Dan  and  Ng, Andrew Y.  and  Potts, Christopher, Learning Word Vectors for Sentiment Analysis, Proceedings of the 49th Annual Meeting of the Association for Computational Linguistics: Human Language Technologies, June 2011, Portland, Oregon, USA, Association for Computational Linguistics, http://www.aclweb.org/anthology/P11-1015\n",
    "\n",
    "```\n",
    "\n",
    "\n",
    "\n",
    "\n",
    "\n",
    "\n",
    "\n"
   ]
  },
  {
   "cell_type": "markdown",
   "metadata": {},
   "source": [
    "# Import der Module"
   ]
  },
  {
   "cell_type": "code",
   "execution_count": 1,
   "metadata": {},
   "outputs": [
    {
     "name": "stdout",
     "output_type": "stream",
     "text": [
      "working on keras version 2.2.4-tf on tensorflow 2.1.0 using sklearn 0.23.2\n"
     ]
    }
   ],
   "source": [
    "#\n",
    "# Import der Module\n",
    "#\n",
    "import os\n",
    "import logging\n",
    "import re\n",
    "import string\n",
    "from urllib.request import urlretrieve\n",
    "import tarfile\n",
    "import zipfile\n",
    "from glob import glob\n",
    "\n",
    "import pandas as pd\n",
    "import numpy as np\n",
    "from numpy import array\n",
    "import matplotlib.pyplot as plt\n",
    "\n",
    "import nltk\n",
    "from nltk.corpus import stopwords\n",
    "\n",
    "import sklearn\n",
    "from sklearn.linear_model import LogisticRegression\n",
    "from sklearn.feature_extraction.text import CountVectorizer\n",
    "from sklearn.model_selection import train_test_split\n",
    "\n",
    "\n",
    "#\n",
    "# Abdrehen von Fehlermeldungen\n",
    "#\n",
    "from warnings import simplefilter\n",
    "# ignore all future warnings\n",
    "simplefilter(action='ignore', category=FutureWarning)\n",
    "simplefilter(action='ignore', category=Warning)\n",
    "simplefilter(action='ignore', category=RuntimeWarning)\n",
    "\n",
    "\n",
    "#\n",
    "# Tensorflow und Keras\n",
    "#\n",
    "import tensorflow as tf\n",
    "from tensorflow.keras.utils import to_categorical\n",
    "\n",
    "from tensorflow.keras.preprocessing.text import one_hot\n",
    "from tensorflow.keras.preprocessing.sequence import pad_sequences\n",
    "from tensorflow.keras.models import Sequential\n",
    "from tensorflow.keras.layers import Activation, Dropout, Dense, SpatialDropout1D\n",
    "from tensorflow.keras.layers import Flatten, LSTM\n",
    "from tensorflow.keras.layers import GlobalMaxPooling1D\n",
    "from tensorflow.keras.layers import Embedding\n",
    "from tensorflow.keras.preprocessing.text import Tokenizer\n",
    "\n",
    "\n",
    "#\n",
    "# Für GPU Support\n",
    "#\n",
    "tflogger = tf.get_logger()\n",
    "tflogger.setLevel(logging.ERROR)\n",
    "tf.compat.v1.logging.set_verbosity(tf.compat.v1.logging.ERROR )\n",
    "physical_devices = tf.config.experimental.list_physical_devices('GPU')\n",
    "if len(physical_devices) > 0:\n",
    "    tf.config.experimental.set_memory_growth(physical_devices[0], True)\n",
    "\n",
    "\n",
    "#\n",
    "# Einstellen der Grösse von Diagrammen\n",
    "#\n",
    "plt.rcParams['figure.figsize'] = [16, 9]\n",
    "\n",
    "\n",
    "#\n",
    "# Ausgabe der Versionen\n",
    "#\n",
    "print('working on keras version {} on tensorflow {} using sklearn {}'.format ( tf.keras.__version__, tf.version.VERSION, sklearn.__version__ ) )"
   ]
  },
  {
   "cell_type": "markdown",
   "metadata": {},
   "source": [
    "# Konstanten"
   ]
  },
  {
   "cell_type": "code",
   "execution_count": 2,
   "metadata": {},
   "outputs": [],
   "source": [
    "#\n",
    "# Konstanten für Dateien\n",
    "#\n",
    "urlDataSource = 'http://ai.stanford.edu/~amaas/data/sentiment/aclImdb_v1.tar.gz'\n",
    "localExtractionFolder = 'data/moviereviews'\n",
    "localDataArchive = localExtractionFolder + '/aclImdb_v1.tar.gz'\n",
    "textData = localExtractionFolder + '/aclImdb/'"
   ]
  },
  {
   "cell_type": "markdown",
   "metadata": {},
   "source": [
    "# Hilfsfunktionen"
   ]
  },
  {
   "cell_type": "code",
   "execution_count": 3,
   "metadata": {},
   "outputs": [],
   "source": [
    "#\n",
    "# Laden der Daten von einer URL\n",
    "#\n",
    "def download_dataset(url,dataset_file_path,extraction_directory):\n",
    "    if (not os.path.exists(extraction_directory)):\n",
    "        os.makedirs(extraction_directory)\n",
    "    if os.path.exists(dataset_file_path):\n",
    "        print(\"archive already downloaded.\")\n",
    "    else:\n",
    "        print(\"started loading archive from url {}\".format(url))\n",
    "        filename, headers = urlretrieve(url, dataset_file_path)\n",
    "        print(\"finished loading archive from url {} to {}\".format(url,filename))\n",
    "\n",
    "def extract_dataset(dataset_file_path, extraction_directory):\n",
    "    if (not os.path.exists(extraction_directory)):\n",
    "        os.makedirs(extraction_directory)\n",
    "    if (dataset_file_path.endswith(\"tar.gz\") or dataset_file_path.endswith(\".tgz\")):\n",
    "        tar = tarfile.open(dataset_file_path, \"r:gz\")\n",
    "        tar.extractall(path=extraction_directory)\n",
    "        tar.close()\n",
    "    elif (dataset_file_path.endswith(\"tar\")):\n",
    "        tar = tarfile.open(dataset_file_path, \"r:\")\n",
    "        tar.extractall(path=extraction_directory)\n",
    "        tar.close()\n",
    "    print(\"extraction of dataset from {} to {} done.\".format(dataset_file_path,extraction_directory) )\n"
   ]
  },
  {
   "cell_type": "markdown",
   "metadata": {},
   "source": [
    "# Laden und erster Check"
   ]
  },
  {
   "cell_type": "code",
   "execution_count": 4,
   "metadata": {},
   "outputs": [
    {
     "name": "stdout",
     "output_type": "stream",
     "text": [
      "archive already downloaded.\n"
     ]
    }
   ],
   "source": [
    "#\n",
    "# Laden der Daten ausführen\n",
    "#\n",
    "download_dataset(urlDataSource,localDataArchive,localExtractionFolder)"
   ]
  },
  {
   "cell_type": "code",
   "execution_count": 5,
   "metadata": {},
   "outputs": [
    {
     "name": "stdout",
     "output_type": "stream",
     "text": [
      "extraction of dataset from data/moviereviews/aclImdb_v1.tar.gz to data/moviereviews done.\n"
     ]
    }
   ],
   "source": [
    "#\n",
    "# Extrahieren der Daten\n",
    "#\n",
    "extract_dataset(localDataArchive,localExtractionFolder)"
   ]
  },
  {
   "cell_type": "markdown",
   "metadata": {},
   "source": [
    "# Wie sehen die Daten auf dem Filesystem aus?\n",
    "\n",
    "<img src=\"info.png\" align=\"left\"/> "
   ]
  },
  {
   "cell_type": "code",
   "execution_count": 6,
   "metadata": {},
   "outputs": [],
   "source": [
    "#\n",
    "# Sammeln der Daten aus den Files\n",
    "#\n",
    "def load_texts_labels_from_folders(path, folders):\n",
    "    print('scanning path {}'.format(path))\n",
    "    texts,labels = [],[]\n",
    "    for idx,label in enumerate(folders):\n",
    "        print('scanning {}'.format(idx))\n",
    "        for fname in glob(os.path.join(path, label, '*.*')):\n",
    "            texts.append(open(fname, 'r').read())\n",
    "            labels.append(idx)\n",
    "    return texts, np.array(labels).astype(np.int8)"
   ]
  },
  {
   "cell_type": "code",
   "execution_count": 7,
   "metadata": {},
   "outputs": [
    {
     "name": "stdout",
     "output_type": "stream",
     "text": [
      "scanning path data/moviereviews/aclImdb/train\n",
      "scanning 0\n",
      "scanning 1\n",
      "scanning path data/moviereviews/aclImdb/test\n",
      "scanning 0\n",
      "scanning 1\n"
     ]
    }
   ],
   "source": [
    "#\n",
    "# Laden der positiven und negativen Beispiele\n",
    "#\n",
    "classes = ['neg','pos']\n",
    "x_train,y_train = load_texts_labels_from_folders( textData + 'train', classes)\n",
    "x_test,y_test = load_texts_labels_from_folders( textData + 'test', classes)"
   ]
  },
  {
   "cell_type": "code",
   "execution_count": 8,
   "metadata": {},
   "outputs": [
    {
     "data": {
      "text/plain": [
       "(25000, 25000, 25000, 25000)"
      ]
     },
     "execution_count": 8,
     "metadata": {},
     "output_type": "execute_result"
    }
   ],
   "source": [
    "len(x_train),len(y_train),len(x_test),len(y_test)"
   ]
  },
  {
   "cell_type": "code",
   "execution_count": 9,
   "metadata": {},
   "outputs": [
    {
     "data": {
      "text/plain": [
       "(list, numpy.ndarray)"
      ]
     },
     "execution_count": 9,
     "metadata": {},
     "output_type": "execute_result"
    }
   ],
   "source": [
    "#\n",
    "# Prüfen des Datentypen\n",
    "#\n",
    "(type(x_train),type(y_train))"
   ]
  },
  {
   "cell_type": "code",
   "execution_count": 10,
   "metadata": {},
   "outputs": [
    {
     "data": {
      "text/plain": [
       "array([0, 1], dtype=int8)"
      ]
     },
     "execution_count": 10,
     "metadata": {},
     "output_type": "execute_result"
    }
   ],
   "source": [
    "#\n",
    "# Prüfen der Klassen\n",
    "#\n",
    "np.unique(y_train)"
   ]
  },
  {
   "cell_type": "code",
   "execution_count": 11,
   "metadata": {},
   "outputs": [
    {
     "name": "stdout",
     "output_type": "stream",
     "text": [
      "I thought the movie (especially the plot) needs a lot of work. The elements of the movie remains westernized and untrue to the attempt of trying to produce an eastern feel in the movie. I'll give three out of many of the flaws of the movie:<br /><br />First, when Shen told Wendy that he would help her study the history of China, I was really happy that the audience would receive some information about Chinese history; but it turns out that the movie did not exactly show Wendy actually studying Chinese history; yet instead, the movie only shows Wendy practicing the method of remembering what she had studied, which frustrated and put me in dismay.<br /><br />Second, which really bothered me, is how the characters kept mentioning about moon cakes -- moon cakes this and moon cakes that and how good it tastes. Yet they didn't really mention the real significance of it. The only they they talked about that had any relevance to the moon cake was the Autumn Festival, which they did not explain or go in depth. They could have mentioned the myth that correlates with the moon cake -- the Moon Lady. The myth starts of with how there once exists ten suns and each would rotate rising, but one day all ten suns rose up, drying up the land with the rising intense heat; so the Divine Archer, Hou Yi, shot nine of the ten suns, leaving only one sun (there are different versions where the Hou Yi shot the eight out of nine suns). Because of his heroic contribution, he was given the pill of immortality so he could live on forever in case the ten suns do rise up again, but his wife, Chang-O stole it. After stealing it, she fled to the moon, where she met a hare. She then came upon an idea and told the hare to pound the pill into many piece so she could spread the pill all over earth, giving everyone immortality. (There are a few variations of this story but throughout my childhood, I, most of the time, heard about this version). I thought details such as this would make the plot more culturally Chinese oriented.<br /><br />The last thing I would point out is the last battle scene of the movie. The teachers that were possessed by the monks were fighting the Terra-cotta Warriors (the life-like statues of the soldiers) went against the idea of how important Chinese history is to the Chinese. The Terra-cotta Warrors serves as a connection of China's past and it was very westernized (where evil must be killed in anyway possible) that the monks in the movies were willing to destroy that connection. It would be understandable if Wendy, considering she is Chinese-American and doesn't have full Chinese knowledge, had no problem destroying these priceless artifacts.<br /><br />The whole movie was westernized because it seemed that all the monks and Shen want to do is fight... I mean, it's rated TVPG due to violence, which goes against the Confucius thinking of cooperation and harmony. It would seem more accurate that the monks try to avoid violence and try to work things out peacefully before having to resort to violence.<br /><br />All in all, all of or either of the producer, writer, or director did not do their research thoroughly and did a messy and effortless job instead. I would suggest that they either stop airing this movie or that they re-shoot the movie so it contains more accurate information; however, I would give it credit (2 stars) for removing one stereotype of Asians and Asian-Americans of being smart and quiet.\n",
      "label 0\n",
      "\n"
     ]
    }
   ],
   "source": [
    "#\n",
    "# negative Beispiele\n",
    "#\n",
    "for index in range (0,1):\n",
    "    print(x_train[index])\n",
    "    print(\"label {}\".format(y_train[index]))\n",
    "    print()"
   ]
  },
  {
   "cell_type": "code",
   "execution_count": 12,
   "metadata": {},
   "outputs": [
    {
     "name": "stdout",
     "output_type": "stream",
     "text": [
      "My personal feeling is that you cannot divorce this movie from its political/historical underpinnings like so many (American) reviewers tend to do. This is not about growing up on Main Street, USA. It is about growing up in Yugoslavia at a time when it was torn between the East and the West. Just like the guys are torn between Esther and everybody else, and Esther is torn between the \"Tovarish Joe\" and the guys. There is shame in certain situations that is lost on an audience that has never lived under Tito. I feel the movie is under-rated and it is too bad we have lost the director. Movies like this make freedom feel more important. It is not just \"another Eastern European coming of age film\"...it is a sensitive portrayal of teenagers walking a fine line that might eventually lead them to real freedom.\n",
      "label 1\n",
      "\n"
     ]
    }
   ],
   "source": [
    "#\n",
    "# positive Beispiele\n",
    "#\n",
    "for index in range (13001,13002):\n",
    "    print(x_train[index])\n",
    "    print(\"label {}\".format(y_train[index]))\n",
    "    print()\n"
   ]
  },
  {
   "cell_type": "markdown",
   "metadata": {},
   "source": [
    "# Zerlegen der Texte in Worte und Reinigung"
   ]
  },
  {
   "cell_type": "code",
   "execution_count": 13,
   "metadata": {},
   "outputs": [],
   "source": [
    "#\n",
    "# Reinigungsfunktion\n",
    "#\n",
    "TAG_RE = re.compile(r'<[^>]+>')\n",
    "def remove_tags(text):\n",
    "    return TAG_RE.sub('', text)\n",
    "\n",
    "def preprocess_text(sen):\n",
    "    # convert to lowercase\n",
    "    sen = sen.lower()\n",
    "    # Removing html tags\n",
    "    sentence = remove_tags(sen)\n",
    "    # Remove punctuations and numbers\n",
    "    sentence = re.sub('[^a-zA-Z]', ' ', sentence)\n",
    "    # Single character removal\n",
    "    sentence = re.sub(r\"\\s+[a-zA-Z]\\s+\", ' ', sentence)\n",
    "    # Removing multiple spaces\n",
    "    sentence = re.sub(r'\\s+', ' ', sentence)\n",
    "    return sentence"
   ]
  },
  {
   "cell_type": "code",
   "execution_count": 14,
   "metadata": {},
   "outputs": [],
   "source": [
    "x_train_clean = []\n",
    "for review in x_train:\n",
    "    x_train_clean.append(preprocess_text(review))\n",
    "    \n",
    "x_test_clean = []\n",
    "for review in x_test:\n",
    "    x_test_clean.append(preprocess_text(review))  \n",
    "    \n",
    "x_test = x_test_clean\n",
    "x_train = x_train_clean"
   ]
  },
  {
   "cell_type": "code",
   "execution_count": 15,
   "metadata": {},
   "outputs": [
    {
     "name": "stdout",
     "output_type": "stream",
     "text": [
      "i thought the movie especially the plot needs lot of work the elements of the movie remains westernized and untrue to the attempt of trying to produce an eastern feel in the movie ll give three out of many of the flaws of the movie first when shen told wendy that he would help her study the history of china was really happy that the audience would receive some information about chinese history but it turns out that the movie did not exactly show wendy actually studying chinese history yet instead the movie only shows wendy practicing the method of remembering what she had studied which frustrated and put me in dismay second which really bothered me is how the characters kept mentioning about moon cakes moon cakes this and moon cakes that and how good it tastes yet they didn really mention the real significance of it the only they they talked about that had any relevance to the moon cake was the autumn festival which they did not explain or go in depth they could have mentioned the myth that correlates with the moon cake the moon lady the myth starts of with how there once exists ten suns and each would rotate rising but one day all ten suns rose up drying up the land with the rising intense heat so the divine archer hou yi shot nine of the ten suns leaving only one sun there are different versions where the hou yi shot the eight out of nine suns because of his heroic contribution he was given the pill of immortality so he could live on forever in case the ten suns do rise up again but his wife chang stole it after stealing it she fled to the moon where she met hare she then came upon an idea and told the hare to pound the pill into many piece so she could spread the pill all over earth giving everyone immortality there are few variations of this story but throughout my childhood most of the time heard about this version thought details such as this would make the plot more culturally chinese oriented the last thing would point out is the last battle scene of the movie the teachers that were possessed by the monks were fighting the terra cotta warriors the life like statues of the soldiers went against the idea of how important chinese history is to the chinese the terra cotta warrors serves as connection of china past and it was very westernized where evil must be killed in anyway possible that the monks in the movies were willing to destroy that connection it would be understandable if wendy considering she is chinese american and doesn have full chinese knowledge had no problem destroying these priceless artifacts the whole movie was westernized because it seemed that all the monks and shen want to do is fight mean it rated tvpg due to violence which goes against the confucius thinking of cooperation and harmony it would seem more accurate that the monks try to avoid violence and try to work things out peacefully before having to resort to violence all in all all of or either of the producer writer or director did not do their research thoroughly and did messy and effortless job instead would suggest that they either stop airing this movie or that they re shoot the movie so it contains more accurate information however would give it credit stars for removing one stereotype of asians and asian americans of being smart and quiet \n",
      "label 0\n",
      "\n"
     ]
    }
   ],
   "source": [
    "for index in range (0,1):\n",
    "    print(x_train[index])\n",
    "    print(\"label {}\".format(y_train[index]))\n",
    "    print()"
   ]
  },
  {
   "cell_type": "markdown",
   "metadata": {},
   "source": [
    "# Umwandeln der Worte in Vektoren"
   ]
  },
  {
   "cell_type": "code",
   "execution_count": 16,
   "metadata": {},
   "outputs": [],
   "source": [
    "#\n",
    "# Lernen der Umrechnung der Worte in Wortindizes\n",
    "#\n",
    "tokenizer = Tokenizer(num_words=5000, lower=True, oov_token='unknwn')\n",
    "tokenizer.fit_on_texts(x_train)"
   ]
  },
  {
   "cell_type": "code",
   "execution_count": 17,
   "metadata": {},
   "outputs": [],
   "source": [
    "# \n",
    "# Umrechnen der Sätze in Listen von Wortindizes\n",
    "#\n",
    "x_train_v = tokenizer.texts_to_sequences(x_train)\n",
    "x_test_v = tokenizer.texts_to_sequences(x_test)"
   ]
  },
  {
   "cell_type": "code",
   "execution_count": 18,
   "metadata": {},
   "outputs": [
    {
     "name": "stdout",
     "output_type": "stream",
     "text": [
      "[128, 193, 2, 15, 254, 2, 108, 721, 172, 4, 156, 2, 773, 4, 2, 15, 1251, 1, 3, 1, 5, 2, 575, 4, 261, 5, 2194, 31, 4905, 227, 8, 2, 15, 232, 198, 284, 41, 4, 105, 4, 2, 1481, 4, 2, 15, 80, 50, 1, 565, 4303, 10, 21, 57, 333, 37, 2034, 2, 465, 4, 2563, 11, 61, 627, 10, 2, 297, 57, 3861, 45, 1588, 40, 1578, 465, 16, 7, 495, 41, 10, 2, 15, 116, 20, 603, 117, 4303, 163, 1, 1578, 465, 241, 300, 2, 15, 60, 283, 4303, 1, 2, 4131, 4, 1, 44, 49, 64, 1, 58, 3520, 3, 269, 67, 8, 1, 327, 58, 61, 2582, 67, 6, 83, 2, 99, 807, 4803, 40, 1761, 1, 1761, 1, 9, 3, 1761, 1, 10, 3, 83, 46, 7, 1, 241, 29, 157, 61, 744, 2, 143, 1, 4, 7, 2, 60, 29, 29, 3496, 40, 10, 64, 96, 1, 5, 2, 1761, 4304, 11, 2, 1, 1371, 58, 29, 116, 20, 1233, 38, 137, 8, 1106, 29, 93, 24, 1022, 2, 1, 10, 1, 14, 2, 1761, 4304, 2, 1761, 716, 2, 1, 503, 4, 14, 83, 36, 278, 2916, 726, 1, 3, 250, 57, 1, 4643, 16, 26, 242, 27, 726, 1, 2083, 52, 1, 52, 2, 1482, 14, 2, 4643, 1553, 3447, 33, 2, 1, 1, 1, 1, 317, 2917, 4, 2, 726, 1, 1172, 60, 26, 2498, 36, 22, 268, 2018, 114, 2, 1, 1, 317, 2, 2260, 41, 4, 2917, 1, 82, 4, 23, 3780, 1, 21, 11, 342, 2, 1, 4, 1, 33, 21, 93, 404, 19, 1398, 8, 412, 2, 726, 1, 76, 2146, 52, 171, 16, 23, 308, 1, 3781, 7, 97, 3162, 7, 49, 1, 5, 2, 1761, 114, 49, 1808, 1, 49, 89, 376, 706, 31, 319, 3, 565, 2, 1, 5, 1, 2, 1, 79, 105, 409, 33, 49, 93, 4558, 2, 1, 27, 115, 659, 724, 292, 1, 36, 22, 168, 1, 4, 9, 59, 16, 459, 56, 1507, 86, 4, 2, 53, 544, 40, 9, 307, 193, 1333, 138, 12, 9, 57, 91, 2, 108, 48, 1, 1578, 1, 2, 229, 151, 57, 208, 41, 6, 2, 229, 959, 132, 4, 2, 15, 2, 1, 10, 66, 3970, 30, 2, 1, 66, 973, 2, 1, 1, 4960, 2, 106, 35, 1, 4, 2, 1296, 428, 425, 2, 319, 4, 83, 657, 1578, 465, 6, 5, 2, 1578, 2, 1, 1, 1, 2409, 12, 1988, 4, 2563, 489, 3, 7, 11, 51, 1, 114, 437, 204, 25, 545, 8, 541, 599, 10, 2, 1, 8, 2, 95, 66, 1648, 5, 2275, 10, 1988, 7, 57, 25, 4343, 42, 4303, 1046, 49, 6, 1578, 291, 3, 150, 24, 358, 1578, 1825, 64, 54, 433, 4447, 130, 4762, 1, 2, 219, 15, 11, 1, 82, 7, 458, 10, 27, 2, 1, 3, 1, 179, 5, 76, 6, 531, 372, 7, 1119, 1, 672, 5, 553, 58, 263, 425, 2, 1, 523, 4, 1, 3, 1, 7, 57, 303, 48, 1818, 10, 2, 1, 345, 5, 777, 553, 3, 345, 5, 156, 180, 41, 1, 159, 252, 5, 4644, 5, 553, 27, 8, 27, 27, 4, 38, 339, 4, 2, 1265, 530, 38, 155, 116, 20, 76, 63, 2253, 1527, 3, 116, 1, 3, 1, 286, 300, 57, 1432, 10, 29, 339, 555, 1, 9, 15, 38, 10, 29, 148, 1212, 2, 15, 33, 7, 1328, 48, 1818, 1588, 187, 57, 198, 7, 1069, 371, 13, 1, 26, 4305, 4, 1, 3, 2128, 1475, 4, 107, 1348, 3, 1819]\n"
     ]
    }
   ],
   "source": [
    "print(x_train_v[0])"
   ]
  },
  {
   "cell_type": "code",
   "execution_count": 19,
   "metadata": {},
   "outputs": [
    {
     "name": "stdout",
     "output_type": "stream",
     "text": [
      "vectorized length mean 222.87924\n"
     ]
    },
    {
     "data": {
      "image/png": "[encoded data removed]",
      "text/plain": [
       "<Figure size 1152x648 with 1 Axes>"
      ]
     },
     "metadata": {
      "needs_background": "light"
     },
     "output_type": "display_data"
    }
   ],
   "source": [
    "#\n",
    "# Zählen der Längen der vektorisierten Texte\n",
    "#\n",
    "textLength = []\n",
    "for index in range (0,len(x_train_v)):\n",
    "    textLength.append(len(x_train_v[index]))\n",
    "\n",
    "plt.hist(textLength)\n",
    "lengthArray = np.array(textLength)\n",
    "print('vectorized length mean {}'.format(np.mean(lengthArray)))"
   ]
  },
  {
   "cell_type": "code",
   "execution_count": 20,
   "metadata": {},
   "outputs": [
    {
     "name": "stdout",
     "output_type": "stream",
     "text": [
      "count of words 74220\n"
     ]
    }
   ],
   "source": [
    "#\n",
    "#\n",
    "#\n",
    "vocab_size = len(tokenizer.word_index) + 1\n",
    "print('count of words {}'.format(vocab_size))"
   ]
  },
  {
   "cell_type": "code",
   "execution_count": 21,
   "metadata": {},
   "outputs": [],
   "source": [
    "maxlen = 200\n",
    "\n",
    "x_train = pad_sequences(x_train_v, padding='post', maxlen=maxlen)\n",
    "x_test = pad_sequences(x_test_v, padding='post', maxlen=maxlen)"
   ]
  },
  {
   "cell_type": "markdown",
   "metadata": {},
   "source": [
    "# Umrechnung in einen dichten Vektorraum (glove)"
   ]
  },
  {
   "cell_type": "code",
   "execution_count": 22,
   "metadata": {},
   "outputs": [],
   "source": [
    "gloveUrl = 'http://nlp.stanford.edu/data/glove.6B.zip'\n",
    "gloveExtractionFolder = 'data/glove'\n",
    "gloveDataArchive = gloveExtractionFolder + '/glove.6B.zip'\n",
    "gloveData = gloveExtractionFolder + '/' + 'glove.6B.100d.txt'\n",
    "\n",
    "gloveDims = 100"
   ]
  },
  {
   "cell_type": "code",
   "execution_count": 23,
   "metadata": {},
   "outputs": [],
   "source": [
    "def unzip_dataset(dataset_file_path, extraction_directory):  \n",
    "    if (not os.path.exists(extraction_directory)):\n",
    "        os.makedirs(extraction_directory)        \n",
    "    zip = zipfile.ZipFile(dataset_file_path)\n",
    "    zip.extractall(path=extraction_directory)        \n",
    "    print(\"extraction of dataset from {} to {} done.\".format(dataset_file_path,extraction_directory) )"
   ]
  },
  {
   "cell_type": "code",
   "execution_count": 24,
   "metadata": {},
   "outputs": [],
   "source": [
    "#\n",
    "# Laden der Daten ausführen\n",
    "#\n",
    "if ( not os.path.exists(gloveData)):\n",
    "    download_dataset(gloveUrl,gloveDataArchive,gloveExtractionFolder)"
   ]
  },
  {
   "cell_type": "code",
   "execution_count": 25,
   "metadata": {},
   "outputs": [],
   "source": [
    "if ( not os.path.exists(gloveData)):\n",
    "    unzip_dataset(gloveDataArchive,gloveExtractionFolder)"
   ]
  },
  {
   "cell_type": "code",
   "execution_count": 26,
   "metadata": {},
   "outputs": [],
   "source": [
    "#\n",
    "# Laden der GloVe Vektoren für die Worte\n",
    "#\n",
    "embeddings_dictionary = dict()\n",
    "glove_file = open(gloveData, encoding=\"utf8\")\n",
    "for line in glove_file:\n",
    "    records = line.split()\n",
    "    word = records[0]\n",
    "    vector_dimensions = np.asarray(records[1:], dtype='float32')\n",
    "    embeddings_dictionary [word] = vector_dimensions\n",
    "glove_file.close()"
   ]
  },
  {
   "cell_type": "code",
   "execution_count": 27,
   "metadata": {},
   "outputs": [],
   "source": [
    "#\n",
    "# Erstellen einer Matrix für die Umrechung von Worten in die dichten Vektoren über\n",
    "# die Wortindizes\n",
    "#\n",
    "embedding_matrix = np.zeros((vocab_size, gloveDims))\n",
    "for word, index in tokenizer.word_index.items():\n",
    "    embedding_vector = embeddings_dictionary.get(word)\n",
    "    if embedding_vector is not None:\n",
    "        embedding_matrix[index] = embedding_vector"
   ]
  },
  {
   "cell_type": "code",
   "execution_count": 28,
   "metadata": {},
   "outputs": [
    {
     "name": "stdout",
     "output_type": "stream",
     "text": [
      "(74220, 100)\n"
     ]
    }
   ],
   "source": [
    "print(embedding_matrix.shape)"
   ]
  },
  {
   "cell_type": "markdown",
   "metadata": {},
   "source": [
    "# Erstellen eines Modelles"
   ]
  },
  {
   "cell_type": "code",
   "execution_count": 29,
   "metadata": {},
   "outputs": [],
   "source": [
    "def createNNModel():\n",
    "    model = Sequential()\n",
    "    embedding_layer = Embedding(vocab_size, gloveDims, weights=[embedding_matrix], input_length=maxlen , trainable=False)\n",
    "    model.add(embedding_layer)\n",
    "    model.add(Flatten())\n",
    "    model.add(Dense(100, activation='sigmoid'))\n",
    "    model.add(Dropout(0.5))\n",
    "    model.add(Dense(1, activation='sigmoid'))\n",
    "    return model"
   ]
  },
  {
   "cell_type": "code",
   "execution_count": 30,
   "metadata": {},
   "outputs": [
    {
     "name": "stdout",
     "output_type": "stream",
     "text": [
      "Model: \"sequential\"\n",
      "_________________________________________________________________\n",
      "Layer (type)                 Output Shape              Param #   \n",
      "=================================================================\n",
      "embedding (Embedding)        (None, 200, 100)          7422000   \n",
      "_________________________________________________________________\n",
      "flatten (Flatten)            (None, 20000)             0         \n",
      "_________________________________________________________________\n",
      "dense (Dense)                (None, 100)               2000100   \n",
      "_________________________________________________________________\n",
      "dropout (Dropout)            (None, 100)               0         \n",
      "_________________________________________________________________\n",
      "dense_1 (Dense)              (None, 1)                 101       \n",
      "=================================================================\n",
      "Total params: 9,422,201\n",
      "Trainable params: 2,000,201\n",
      "Non-trainable params: 7,422,000\n",
      "_________________________________________________________________\n",
      "None\n"
     ]
    }
   ],
   "source": [
    "model = createNNModel()\n",
    "model.compile(optimizer='adam', loss='binary_crossentropy', metrics=['acc'])\n",
    "print(model.summary())"
   ]
  },
  {
   "cell_type": "code",
   "execution_count": 31,
   "metadata": {},
   "outputs": [
    {
     "name": "stdout",
     "output_type": "stream",
     "text": [
      "Train on 20000 samples, validate on 5000 samples\n",
      "Epoch 1/30\n",
      "20000/20000 [==============================] - 3s 138us/sample - loss: 0.7155 - acc: 0.5995 - val_loss: 0.9752 - val_acc: 0.1724\n",
      "Epoch 2/30\n",
      "20000/20000 [==============================] - 2s 77us/sample - loss: 0.5856 - acc: 0.6901 - val_loss: 0.6889 - val_acc: 0.6186\n",
      "Epoch 3/30\n",
      "20000/20000 [==============================] - 2s 85us/sample - loss: 0.5128 - acc: 0.7599 - val_loss: 0.6981 - val_acc: 0.6286\n",
      "Epoch 4/30\n",
      "20000/20000 [==============================] - 2s 77us/sample - loss: 0.4568 - acc: 0.7986 - val_loss: 0.7081 - val_acc: 0.6322\n",
      "Epoch 5/30\n",
      "20000/20000 [==============================] - 2s 77us/sample - loss: 0.4171 - acc: 0.8202 - val_loss: 0.7471 - val_acc: 0.6274\n",
      "Epoch 6/30\n",
      "20000/20000 [==============================] - 2s 77us/sample - loss: 0.3758 - acc: 0.8483 - val_loss: 0.8358 - val_acc: 0.5996\n",
      "Epoch 7/30\n",
      "20000/20000 [==============================] - 2s 79us/sample - loss: 0.3382 - acc: 0.8654 - val_loss: 0.8571 - val_acc: 0.6066\n",
      "Epoch 8/30\n",
      "20000/20000 [==============================] - 2s 82us/sample - loss: 0.3075 - acc: 0.8813 - val_loss: 0.8617 - val_acc: 0.6206\n",
      "Epoch 9/30\n",
      "20000/20000 [==============================] - 2s 85us/sample - loss: 0.2770 - acc: 0.8946 - val_loss: 0.8557 - val_acc: 0.6586\n",
      "Epoch 10/30\n",
      "20000/20000 [==============================] - 2s 79us/sample - loss: 0.2487 - acc: 0.9061 - val_loss: 0.8595 - val_acc: 0.6570\n",
      "Epoch 11/30\n",
      "20000/20000 [==============================] - 2s 79us/sample - loss: 0.2249 - acc: 0.9175 - val_loss: 0.7580 - val_acc: 0.7120\n",
      "Epoch 12/30\n",
      "20000/20000 [==============================] - 2s 85us/sample - loss: 0.1987 - acc: 0.9283 - val_loss: 1.1288 - val_acc: 0.5994\n",
      "Epoch 13/30\n",
      "20000/20000 [==============================] - 2s 78us/sample - loss: 0.1830 - acc: 0.9362 - val_loss: 0.9526 - val_acc: 0.6626\n",
      "Epoch 14/30\n",
      "20000/20000 [==============================] - 2s 82us/sample - loss: 0.1661 - acc: 0.9438 - val_loss: 1.1969 - val_acc: 0.5928\n",
      "Epoch 15/30\n",
      "20000/20000 [==============================] - 2s 78us/sample - loss: 0.1496 - acc: 0.9507 - val_loss: 1.1341 - val_acc: 0.6276\n",
      "Epoch 16/30\n",
      "20000/20000 [==============================] - 2s 85us/sample - loss: 0.1475 - acc: 0.9492 - val_loss: 1.1372 - val_acc: 0.6378\n",
      "Epoch 17/30\n",
      "20000/20000 [==============================] - 2s 84us/sample - loss: 0.1336 - acc: 0.9551 - val_loss: 1.0863 - val_acc: 0.6426\n",
      "Epoch 18/30\n",
      "20000/20000 [==============================] - 2s 79us/sample - loss: 0.1191 - acc: 0.9621 - val_loss: 1.3165 - val_acc: 0.6308\n",
      "Epoch 19/30\n",
      "20000/20000 [==============================] - 2s 77us/sample - loss: 0.1110 - acc: 0.9653 - val_loss: 1.3134 - val_acc: 0.6294\n",
      "Epoch 20/30\n",
      "20000/20000 [==============================] - 2s 77us/sample - loss: 0.1140 - acc: 0.9639 - val_loss: 1.5130 - val_acc: 0.5748\n",
      "Epoch 21/30\n",
      "20000/20000 [==============================] - 2s 82us/sample - loss: 0.1097 - acc: 0.9642 - val_loss: 1.4417 - val_acc: 0.5880\n",
      "Epoch 22/30\n",
      "20000/20000 [==============================] - 1s 72us/sample - loss: 0.1075 - acc: 0.9663 - val_loss: 1.6409 - val_acc: 0.5608\n",
      "Epoch 23/30\n",
      "20000/20000 [==============================] - 1s 72us/sample - loss: 0.1078 - acc: 0.9659 - val_loss: 1.2013 - val_acc: 0.6640\n",
      "Epoch 24/30\n",
      "20000/20000 [==============================] - 2s 80us/sample - loss: 0.1028 - acc: 0.9661 - val_loss: 1.3921 - val_acc: 0.6148\n",
      "Epoch 25/30\n",
      "20000/20000 [==============================] - 1s 72us/sample - loss: 0.0891 - acc: 0.9713 - val_loss: 1.2545 - val_acc: 0.6806\n",
      "Epoch 26/30\n",
      "20000/20000 [==============================] - 2s 81us/sample - loss: 0.0822 - acc: 0.9731 - val_loss: 1.7222 - val_acc: 0.5844\n",
      "Epoch 27/30\n",
      "20000/20000 [==============================] - 1s 70us/sample - loss: 0.0795 - acc: 0.9739 - val_loss: 1.6518 - val_acc: 0.6230\n",
      "Epoch 28/30\n",
      "20000/20000 [==============================] - 2s 78us/sample - loss: 0.0783 - acc: 0.9748 - val_loss: 1.1855 - val_acc: 0.6948\n",
      "Epoch 29/30\n",
      "20000/20000 [==============================] - 1s 74us/sample - loss: 0.0757 - acc: 0.9756 - val_loss: 1.7055 - val_acc: 0.6200\n",
      "Epoch 30/30\n",
      "20000/20000 [==============================] - 2s 82us/sample - loss: 0.0707 - acc: 0.9776 - val_loss: 1.6858 - val_acc: 0.6240\n"
     ]
    }
   ],
   "source": [
    "history = model.fit(x_train, y_train, batch_size=128, epochs=30, verbose=1, validation_split=0.2)"
   ]
  },
  {
   "cell_type": "code",
   "execution_count": 32,
   "metadata": {},
   "outputs": [
    {
     "name": "stdout",
     "output_type": "stream",
     "text": [
      "25000/25000 [==============================] - 3s 123us/sample - loss: 1.1750 - acc: 0.7145\n"
     ]
    }
   ],
   "source": [
    "score = model.evaluate(x_test, y_test, verbose=1)"
   ]
  },
  {
   "cell_type": "code",
   "execution_count": 33,
   "metadata": {},
   "outputs": [
    {
     "name": "stdout",
     "output_type": "stream",
     "text": [
      "test loss: 1.1749985257434845\n",
      "test accuracy: 0.71452\n"
     ]
    }
   ],
   "source": [
    "print(\"test loss:\", score[0])\n",
    "print(\"test accuracy:\", score[1])"
   ]
  },
  {
   "cell_type": "code",
   "execution_count": 34,
   "metadata": {},
   "outputs": [],
   "source": [
    "def plotResults(history):\n",
    "    plt.plot(history.history['acc'])\n",
    "    plt.plot(history.history['val_acc'])\n",
    "    plt.title('model accuracy')\n",
    "    plt.ylabel('accuracy')\n",
    "    plt.xlabel('epoch')\n",
    "    plt.legend(['train','test'], loc='upper left')\n",
    "    plt.show()\n",
    "\n",
    "    plt.plot(history.history['loss'])\n",
    "    plt.plot(history.history['val_loss'])\n",
    "\n",
    "    plt.title('model loss')\n",
    "    plt.ylabel('loss')\n",
    "    plt.xlabel('epoch')\n",
    "    plt.legend(['train','test'], loc='upper left')\n",
    "    plt.show()"
   ]
  },
  {
   "cell_type": "code",
   "execution_count": 35,
   "metadata": {},
   "outputs": [
    {
     "data": {
      "image/png": "[encoded data removed]",
      "text/plain": [
       "<Figure size 1152x648 with 1 Axes>"
      ]
     },
     "metadata": {
      "needs_background": "light"
     },
     "output_type": "display_data"
    },
    {
     "data": {
      "image/png": "[encoded data removed]",
      "text/plain": [
       "<Figure size 1152x648 with 1 Axes>"
      ]
     },
     "metadata": {
      "needs_background": "light"
     },
     "output_type": "display_data"
    }
   ],
   "source": [
    "plotResults(history)"
   ]
  },
  {
   "cell_type": "markdown",
   "metadata": {},
   "source": [
    "# Verbessertes Modell\n",
    "\n",
    "Beschreibung von LSTMs: https://towardsdatascience.com/understanding-lstm-and-its-quick-implementation-in-keras-for-sentiment-analysis-af410fd85b47\n",
    "\n",
    "Hinweise für bessere Modelle gefunden auf Kaggle [https://www.kaggle.com/ngyptr/lstm-sentiment-analysis-keras](https://www.kaggle.com/ngyptr/lstm-sentiment-analysis-keras).\n",
    "\n",
    "<img src=\"info.png\" align=\"left\"/>"
   ]
  },
  {
   "cell_type": "code",
   "execution_count": 36,
   "metadata": {},
   "outputs": [],
   "source": [
    "def createLSTMModel():\n",
    "    model = Sequential()\n",
    "    model.add(Embedding(vocab_size, gloveDims, weights=[embedding_matrix], input_length=maxlen , trainable=False))\n",
    "    model.add(SpatialDropout1D(0.3))\n",
    "    model.add(LSTM(150, dropout=0.2, recurrent_dropout=0.2))\n",
    "    model.add(Dense(1, activation='sigmoid'))\n",
    "    model.compile(optimizer='adam', loss='binary_crossentropy', metrics=['acc'])\n",
    "    return model"
   ]
  },
  {
   "cell_type": "code",
   "execution_count": 37,
   "metadata": {},
   "outputs": [
    {
     "name": "stdout",
     "output_type": "stream",
     "text": [
      "Model: \"sequential_1\"\n",
      "_________________________________________________________________\n",
      "Layer (type)                 Output Shape              Param #   \n",
      "=================================================================\n",
      "embedding_1 (Embedding)      (None, 200, 100)          7422000   \n",
      "_________________________________________________________________\n",
      "spatial_dropout1d (SpatialDr (None, 200, 100)          0         \n",
      "_________________________________________________________________\n",
      "lstm (LSTM)                  (None, 150)               150600    \n",
      "_________________________________________________________________\n",
      "dense_2 (Dense)              (None, 1)                 151       \n",
      "=================================================================\n",
      "Total params: 7,572,751\n",
      "Trainable params: 150,751\n",
      "Non-trainable params: 7,422,000\n",
      "_________________________________________________________________\n",
      "None\n"
     ]
    }
   ],
   "source": [
    "model = createLSTMModel()\n",
    "model.compile(optimizer='adam', loss='binary_crossentropy', metrics=['acc'])\n",
    "print(model.summary())"
   ]
  },
  {
   "cell_type": "code",
   "execution_count": 38,
   "metadata": {},
   "outputs": [
    {
     "name": "stdout",
     "output_type": "stream",
     "text": [
      "Train on 20000 samples, validate on 5000 samples\n",
      "Epoch 1/10\n",
      "20000/20000 [==============================] - 71s 4ms/sample - loss: 0.6555 - acc: 0.6294 - val_loss: 0.9719 - val_acc: 0.1162\n",
      "Epoch 2/10\n",
      "20000/20000 [==============================] - 68s 3ms/sample - loss: 0.6426 - acc: 0.6439 - val_loss: 0.9893 - val_acc: 0.1422\n",
      "Epoch 3/10\n",
      "20000/20000 [==============================] - 67s 3ms/sample - loss: 0.6328 - acc: 0.6575 - val_loss: 1.1662 - val_acc: 0.1020\n",
      "Epoch 4/10\n",
      "20000/20000 [==============================] - 69s 3ms/sample - loss: 0.6305 - acc: 0.6564 - val_loss: 0.7421 - val_acc: 0.6062\n",
      "Epoch 5/10\n",
      "20000/20000 [==============================] - 67s 3ms/sample - loss: 0.6021 - acc: 0.6758 - val_loss: 0.7121 - val_acc: 0.3728\n",
      "Epoch 6/10\n",
      "20000/20000 [==============================] - 69s 3ms/sample - loss: 0.6438 - acc: 0.6417 - val_loss: 0.8099 - val_acc: 0.2582\n",
      "Epoch 7/10\n",
      "20000/20000 [==============================] - 58s 3ms/sample - loss: 0.6275 - acc: 0.6600 - val_loss: 0.9228 - val_acc: 0.0392\n",
      "Epoch 8/10\n",
      "20000/20000 [==============================] - 33s 2ms/sample - loss: 0.6428 - acc: 0.6389 - val_loss: 0.8402 - val_acc: 0.2754\n",
      "Epoch 9/10\n",
      "20000/20000 [==============================] - 33s 2ms/sample - loss: 0.6008 - acc: 0.6770 - val_loss: 0.9654 - val_acc: 0.5024\n",
      "Epoch 10/10\n",
      "20000/20000 [==============================] - 33s 2ms/sample - loss: 0.5790 - acc: 0.6687 - val_loss: 1.0201 - val_acc: 0.5322\n",
      "25000/25000 [==============================] - 31s 1ms/sample - loss: 0.6349 - acc: 0.7248\n"
     ]
    }
   ],
   "source": [
    "history = model.fit(x_train, y_train, batch_size=128, epochs=10, verbose=1, validation_split=0.2)\n",
    "score = model.evaluate(x_test, y_test, verbose=1)"
   ]
  },
  {
   "cell_type": "code",
   "execution_count": 39,
   "metadata": {},
   "outputs": [
    {
     "name": "stdout",
     "output_type": "stream",
     "text": [
      "test loss: 0.6349217654228211\n",
      "test accuracy: 0.72476\n"
     ]
    }
   ],
   "source": [
    "print(\"test loss:\", score[0])\n",
    "print(\"test accuracy:\", score[1])"
   ]
  },
  {
   "cell_type": "code",
   "execution_count": 40,
   "metadata": {},
   "outputs": [
    {
     "data": {
      "image/png": "[encoded data removed]",
      "text/plain": [
       "<Figure size 1152x648 with 1 Axes>"
      ]
     },
     "metadata": {
      "needs_background": "light"
     },
     "output_type": "display_data"
    },
    {
     "data": {
      "image/png": "[encoded data removed]",
      "text/plain": [
       "<Figure size 1152x648 with 1 Axes>"
      ]
     },
     "metadata": {
      "needs_background": "light"
     },
     "output_type": "display_data"
    }
   ],
   "source": [
    "plotResults(history)"
   ]
  },
  {
   "cell_type": "markdown",
   "metadata": {},
   "source": [
    "# Test mit neuen Daten"
   ]
  },
  {
   "cell_type": "code",
   "execution_count": 42,
   "metadata": {},
   "outputs": [],
   "source": [
    "def sentiment(text):\n",
    "    \n",
    "    instance = tokenizer.texts_to_sequences(text)\n",
    "    flat_list = []\n",
    "    for sublist in instance:\n",
    "        for item in sublist:\n",
    "            flat_list.append(item)\n",
    "\n",
    "    flat_list = [flat_list]\n",
    "    instance = pad_sequences(flat_list, padding='post', maxlen=maxlen)\n",
    "    sentiment = model.predict(instance)\n",
    "    \n",
    "    comment = 'meh'\n",
    "    if sentiment > 0.85:\n",
    "        comment = 'very good'\n",
    "    elif sentiment > 0.75:\n",
    "        comment = 'good'\n",
    "    elif sentiment > 0.50:\n",
    "        comment = 'moderate'\n",
    "    return sentiment,comment"
   ]
  },
  {
   "cell_type": "code",
   "execution_count": 43,
   "metadata": {},
   "outputs": [
    {
     "name": "stdout",
     "output_type": "stream",
     "text": [
      "(array([[0.61628145]], dtype=float32), 'moderate')\n"
     ]
    }
   ],
   "source": [
    "test1 = \"I simply don't like this film. I does not reach to any expectations.\"\n",
    "print ( sentiment(test1))"
   ]
  },
  {
   "cell_type": "code",
   "execution_count": 44,
   "metadata": {},
   "outputs": [
    {
     "name": "stdout",
     "output_type": "stream",
     "text": [
      "(array([[0.61628157]], dtype=float32), 'moderate')\n"
     ]
    }
   ],
   "source": [
    "test1 = \"I hate this film. It is the worst garbage on earth.\"\n",
    "print ( sentiment(test1))"
   ]
  },
  {
   "cell_type": "markdown",
   "metadata": {},
   "source": [
    "# Weiterführende Schritte\n",
    "\n",
    "\n",
    "Stimmungsanalyse für Deutsch [https://machine-learning-blog.de/2019/06/03/stimmungsanalyse-sentiment-analysis-auf-deutsch-mit-python/](https://machine-learning-blog.de/2019/06/03/stimmungsanalyse-sentiment-analysis-auf-deutsch-mit-python/)\n",
    "\n",
    "Anleitung für Zugriff auf twitter API [https://www.geeksforgeeks.org/twitter-sentiment-analysis-using-python/](https://www.geeksforgeeks.org/twitter-sentiment-analysis-using-python/)\n",
    "\n",
    "<img src=\"info.png\" align=\"left\"/>\n"
   ]
  },
  {
   "cell_type": "code",
   "execution_count": null,
   "metadata": {},
   "outputs": [],
   "source": []
  }
 ],
 "metadata": {
  "kernelspec": {
   "display_name": "Python 3 (ipykernel)",
   "language": "python",
   "name": "python3"
  },
  "language_info": {
   "codemirror_mode": {
    "name": "ipython",
    "version": 3
   },
   "file_extension": ".py",
   "mimetype": "text/x-python",
   "name": "python",
   "nbconvert_exporter": "python",
   "pygments_lexer": "ipython3",
   "version": "3.9.15"
  }
 },
 "nbformat": 4,
 "nbformat_minor": 4
}
