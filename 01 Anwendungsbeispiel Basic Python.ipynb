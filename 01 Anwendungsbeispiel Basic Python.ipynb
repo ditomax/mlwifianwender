{
 "cells": [
  {
   "cell_type": "markdown",
   "metadata": {},
   "source": [
    "<img src=\"header_anwender.png\" align=\"left\"/>"
   ]
  },
  {
   "cell_type": "markdown",
   "metadata": {},
   "source": [
    "# KI-Anwender: Python Basis"
   ]
  },
  {
   "cell_type": "markdown",
   "metadata": {},
   "source": [
    "In diesem Beispiel werden wir einige einfache Grundlagen der Programmiersprache Python erarbeiten:\n",
    "- Was ist Python\n",
    "- Einfache Anweisungen, Variablen und Berechnungen\n",
    "- Schleifen\n",
    "- Funktionen\n",
    "- Listen\n",
    "- Module\n",
    "- numpy Matrizen\n",
    "- pandas Datensätze\n",
    "- matplotlib Graphen"
   ]
  },
  {
   "cell_type": "markdown",
   "metadata": {},
   "source": [
    "# Was ist Python\n",
    "\n",
    "Python ist eine Programmiersprache, die von [Guido van Rossum](https://de.wikipedia.org/wiki/Guido_van_Rossum) 1991 entwickelt wurde. Python, ist eine universelle, üblicherweise interpretierte höhere Programmiersprache. Sie hat den Anspruch, einen gut lesbaren, knappen Programmierstil zu fördern. So werden beispielsweise Blöcke nicht durch geschweifte Klammern, sondern durch Einrückungen strukturiert. Wegen ihrer klaren und übersichtlichen Syntax gilt Python als einfach zu erlernen [Link](https://de.wikipedia.org/wiki/Python_(Programmiersprache)).\n",
    "In den letzten Jahren hat sich python im Bereich Machine Learning start festgesetzt. Viele Frameworks unterstützen python als primäre Verwendungssprache.\n",
    "\n",
    "\n",
    "\n"
   ]
  },
  {
   "cell_type": "markdown",
   "metadata": {},
   "source": [
    "# Einfache Anweisungen, Variable und Berechnungen\n",
    "\n",
    "Anweisungen dienen dazu Rechenoperationen durchzuführen und die Resultate abzuspeichern. Ebenso werden Anweisungen verwendet um Daten zu laden oder zu speichern. Daten werden in Variablen gespeichert. Variablen haben einen Namen. Eine einfache Variable kann einen Wert speichern.\n"
   ]
  },
  {
   "cell_type": "code",
   "execution_count": null,
   "metadata": {},
   "outputs": [],
   "source": [
    "# eine Zahl in einer Variablen speichern\n",
    "a = 10 / 3"
   ]
  },
  {
   "cell_type": "code",
   "execution_count": null,
   "metadata": {},
   "outputs": [],
   "source": [
    "# den Inhalt einer Variable anzeigen\n",
    "print(a)"
   ]
  },
  {
   "cell_type": "code",
   "execution_count": null,
   "metadata": {},
   "outputs": [],
   "source": [
    "# eine Zeichenkette in eine Variable speichern\n",
    "name = \"Donaudampfschifffahrtskapitän\""
   ]
  },
  {
   "cell_type": "code",
   "execution_count": null,
   "metadata": {},
   "outputs": [],
   "source": [
    "print(name)"
   ]
  },
  {
   "cell_type": "code",
   "execution_count": null,
   "metadata": {},
   "outputs": [],
   "source": [
    "# Länge der Zeichenkette\n",
    "print(len(name))"
   ]
  },
  {
   "cell_type": "code",
   "execution_count": null,
   "metadata": {},
   "outputs": [],
   "source": [
    "# den Inhalt einer Variablen nach einer Berechnung ändern. Die meisten allgemeinen Rechenoperationen werden \n",
    "# von python unterstützt (+,-,*,/)\n",
    "a = a + 10\n",
    "print(a)"
   ]
  },
  {
   "cell_type": "code",
   "execution_count": null,
   "metadata": {},
   "outputs": [],
   "source": [
    "# Anweisungen werden hintereinander ausgeführt\n",
    "b = a + 10\n",
    "print(b)\n",
    "print(\"Ausgabe mit Text: a = {:.3f}\".format(a))\n"
   ]
  },
  {
   "cell_type": "markdown",
   "metadata": {},
   "source": [
    "# Schleifen\n",
    "\n",
    "Schleifen dienen dazu eine Reihe von Anweisungen mehrmals hintereinander auszuführen. Zur Verwaltung der Durchläufe wird eine Schleifenvariable verwendet. Diese Variable enthält jeweils den aktuellen Stand der Schleife. Der Start und das Ende der Schleifendurchläufe werden durch eine Liste gesteuert. Ein solche Liste kann mit einer Funktion erzeugt werden."
   ]
  },
  {
   "cell_type": "code",
   "execution_count": null,
   "metadata": {},
   "outputs": [],
   "source": [
    "# Eine Anweisung 10 mal ausführen. Beachte die Zählweise. Informatiker zählen immer von 0 weg.\n",
    "# Beachte die Einrückung um 4 Leerzeichen. Dadurch kann python den Inhalt der Schleife bestimmen.\n",
    "for index in range(10):\n",
    "    print(index)\n",
    "print('das ende der schleife')"
   ]
  },
  {
   "cell_type": "code",
   "execution_count": null,
   "metadata": {},
   "outputs": [],
   "source": [
    "# Eine Schleife kann auch anders gesteuert werden. \n",
    "for index in range( 1, 11, 2 ):\n",
    "    print(index)"
   ]
  },
  {
   "cell_type": "markdown",
   "metadata": {},
   "source": [
    "# Funktionen\n",
    "\n",
    "Funktionen verpacken mehrere Anweisungen und geben einen Namen dazu. Immer, wenn die Funktion als Anweisung in einer Zeile steht, werden die Anweisungen der Funktion ausgeführt.\n",
    "Eine Funktion kann Parameter übernehmen, die beim Aufruf übergeben werden. Das Resultat einer Funktion kann wieder einer Variable zugewiesen werden. In der Funktion wird das Resultat mit return bestimmt. Nach dem Aufruf von Return wird die Ausführung der Funktion beendet.\n"
   ]
  },
  {
   "cell_type": "code",
   "execution_count": null,
   "metadata": {},
   "outputs": [],
   "source": [
    "# einfache Funktion\n",
    "def mittelwert(a,b):\n",
    "    print('Aufruf von mittelwert mit den Parametern {} und {}'.format(a,b))\n",
    "    m = (a+b) / 2\n",
    "    return m"
   ]
  },
  {
   "cell_type": "code",
   "execution_count": null,
   "metadata": {},
   "outputs": [],
   "source": [
    "mittel = mittelwert(10,20)\n",
    "print(mittel)"
   ]
  },
  {
   "cell_type": "markdown",
   "metadata": {},
   "source": [
    "# Listen\n",
    "\n",
    "Listen sind Variablen, die mehr als einen Wert speichern können. Eine Liste kann mit Werten angelegt werden. Neue Werte können am Ende angehängt oder an beliebiger Stelle eingefügt sowie gelöscht werden.\n"
   ]
  },
  {
   "cell_type": "code",
   "execution_count": null,
   "metadata": {},
   "outputs": [],
   "source": [
    "# Liste mit Werten anlegen\n",
    "liste = ['Butter','Brot','Äpfel']\n",
    "print('geplanter Einkauf: {}'.format(liste) )"
   ]
  },
  {
   "cell_type": "code",
   "execution_count": null,
   "metadata": {},
   "outputs": [],
   "source": [
    "# Werte einfügen\n",
    "liste.append('Schokolade')\n",
    "print('realer Einkauf: {}'.format(liste) )"
   ]
  },
  {
   "cell_type": "code",
   "execution_count": null,
   "metadata": {},
   "outputs": [],
   "source": [
    "# Werte an anderen Stellen einfügen\n",
    "liste.insert(1,'Erdbeermarmelade')\n",
    "print('Einkauf nach Anruf: {}'.format(liste) )"
   ]
  },
  {
   "cell_type": "code",
   "execution_count": null,
   "metadata": {},
   "outputs": [],
   "source": [
    "# bestimmte Werte entfernen\n",
    "liste.remove('Schokolade')\n",
    "print('Einkauf nach Blick auf den Bauch: {}'.format(liste) )"
   ]
  },
  {
   "cell_type": "code",
   "execution_count": null,
   "metadata": {},
   "outputs": [],
   "source": [
    "# Liste bestehend aus Zahlen\n",
    "list = [1, 2, 3, 3.9, 4.5]\n",
    "print(list)"
   ]
  },
  {
   "cell_type": "code",
   "execution_count": null,
   "metadata": {},
   "outputs": [],
   "source": [
    "# Multiplikation einer Liste\n",
    "list = list * 2\n",
    "print(list)"
   ]
  },
  {
   "cell_type": "markdown",
   "metadata": {},
   "source": [
    "# Module und numpy\n",
    "\n",
    "Module sind python Programme, die viele Funktionen enthalten. Die meisten Machine Learning Funktionen sind in Modulen enthalten. \n",
    "Module müssen importiert werden. Beim Import kann einem Modul ein eigener Name vergeben werden. Beispiele für Module sind:\n",
    "- numpy: Matrizen und Operationen für Machine Learning\n",
    "- pandas: Verarbeitung von Datensätzen im Speicher\n",
    "- matplotlib: Diagramme"
   ]
  },
  {
   "cell_type": "markdown",
   "metadata": {},
   "source": [
    "# Numpy Module\n",
    "\n",
    "Numpy ist ein python Module für Matematik- und Machine Learning Anwendungen. Die Hauptdatenstruktur von Numpy sind Matrizen. \n"
   ]
  },
  {
   "cell_type": "code",
   "execution_count": null,
   "metadata": {},
   "outputs": [],
   "source": [
    "# Module importieren\n",
    "import numpy as np\n",
    "import matplotlib.pyplot as plt"
   ]
  },
  {
   "cell_type": "code",
   "execution_count": null,
   "metadata": {},
   "outputs": [],
   "source": [
    "# numpy Array aus Liste erstellen\n",
    "nlist = np.array(list)\n",
    "print(nlist)"
   ]
  },
  {
   "cell_type": "code",
   "execution_count": null,
   "metadata": {},
   "outputs": [],
   "source": [
    "# Array anzeigen\n",
    "plt.plot(nlist)"
   ]
  },
  {
   "cell_type": "code",
   "execution_count": null,
   "metadata": {},
   "outputs": [],
   "source": [
    "# Elemente aus Array lesen\n",
    "x = nlist[3]\n",
    "print(x)"
   ]
  },
  {
   "cell_type": "code",
   "execution_count": null,
   "metadata": {},
   "outputs": [],
   "source": [
    "# Bereich aus Array herausschneiden (slice operator)\n",
    "x = nlist[1:4]\n",
    "print(x)"
   ]
  },
  {
   "cell_type": "code",
   "execution_count": null,
   "metadata": {},
   "outputs": [],
   "source": [
    "# Berechnungen mit Matrizen\n",
    "x = nlist * 2\n",
    "print(nlist)\n",
    "print(x)"
   ]
  },
  {
   "cell_type": "code",
   "execution_count": null,
   "metadata": {},
   "outputs": [],
   "source": [
    "# Anlegen einer Matrize mit 2 Dimensionen\n",
    "y = np.array([[4, 1],[2, 2]])\n",
    "z = np.array([[1, 0],[0, 1]])"
   ]
  },
  {
   "cell_type": "code",
   "execution_count": null,
   "metadata": {},
   "outputs": [],
   "source": [
    "# Echte Matrizenmultiplikation\n",
    "x = np.matmul(y,z)\n",
    "print(x)"
   ]
  },
  {
   "cell_type": "code",
   "execution_count": null,
   "metadata": {},
   "outputs": [],
   "source": []
  },
  {
   "cell_type": "markdown",
   "metadata": {},
   "source": [
    "# Pandas Module\n",
    "\n",
    "Das Pandas Modul unterstützt das Einlesen, die Umwandlung und das Schreiben von großen Datenmengen in python. Eines der möglichen Formate für Daten ist das CVS Format (comma separated values). Pandas unterstützt einzelne Features als **Series** oder ganze Datensätze als **DataFrame**."
   ]
  },
  {
   "cell_type": "code",
   "execution_count": null,
   "metadata": {},
   "outputs": [],
   "source": [
    "import pandas as pd"
   ]
  },
  {
   "cell_type": "code",
   "execution_count": null,
   "metadata": {},
   "outputs": [],
   "source": [
    "# Anlegen einer Serie\n",
    "s = pd.Series([1, np.nan, 3, 4, 5, np.nan, 8])\n",
    "print(s)"
   ]
  },
  {
   "cell_type": "code",
   "execution_count": null,
   "metadata": {},
   "outputs": [],
   "source": [
    "# Anlegen eines DataFrame mit 4 Features\n",
    "df = pd.DataFrame(np.random.randn(7, 4), columns=['A','B','C','D'])\n",
    "print(df)"
   ]
  },
  {
   "cell_type": "code",
   "execution_count": null,
   "metadata": {},
   "outputs": [],
   "source": [
    "# Anzeige der ersten Daten\n",
    "df.head(2)"
   ]
  },
  {
   "cell_type": "code",
   "execution_count": null,
   "metadata": {},
   "outputs": [],
   "source": [
    "# Anzeige der letzten Daten\n",
    "df.tail(2)"
   ]
  },
  {
   "cell_type": "code",
   "execution_count": null,
   "metadata": {},
   "outputs": [],
   "source": [
    "# Anzeige der statistischen Werte \n",
    "df.describe()"
   ]
  },
  {
   "cell_type": "code",
   "execution_count": null,
   "metadata": {},
   "outputs": [],
   "source": [
    "# Zugriff auf ein Feature\n",
    "df['A']"
   ]
  },
  {
   "cell_type": "code",
   "execution_count": null,
   "metadata": {},
   "outputs": [],
   "source": [
    "# Zugriff auf bestimmte Reihen\n",
    "df[1:4]"
   ]
  },
  {
   "cell_type": "code",
   "execution_count": null,
   "metadata": {},
   "outputs": [],
   "source": [
    "# Zufügen einer Serie als neues Feature\n",
    "df['E'] = s\n",
    "df.head()"
   ]
  },
  {
   "cell_type": "markdown",
   "metadata": {},
   "source": [
    "# Matplotlib Graphen\n",
    "\n",
    "Matplotlib ist ein Modul mit vielen Funktionen für die Anzeige von Daten. Ein Graph (**plot**)hat mehrere Axen. Mehrere Graphen können in einer Figure zusammengefasst werden. \n"
   ]
  },
  {
   "cell_type": "code",
   "execution_count": null,
   "metadata": {},
   "outputs": [],
   "source": [
    "# Einfacher Graph mit automatischer X Achse\n",
    "plt.plot([1, 3, 2, 4, 5, 7, 9, 5])\n",
    "plt.ylabel('Werte ohne Bedeutung')\n",
    "plt.xlabel('Automatische X Werte')\n",
    "plt.show()"
   ]
  },
  {
   "cell_type": "code",
   "execution_count": null,
   "metadata": {},
   "outputs": [],
   "source": [
    "# Einfacher Graph mit expliziter X Achse (erste Liste)\n",
    "plt.plot([1, 2, 3, 4, 5, 6, 7], [1, 4, 9, 16, 18, 17, 15])"
   ]
  },
  {
   "cell_type": "code",
   "execution_count": null,
   "metadata": {},
   "outputs": [],
   "source": [
    "# Anzeige unseres DataFrame als Graph. Beachte die Probleme durch die NaN (not a number)\n",
    "df.plot()"
   ]
  },
  {
   "cell_type": "code",
   "execution_count": null,
   "metadata": {},
   "outputs": [],
   "source": [
    "# Histogram von 1000 Zufallswerten\n",
    "x = np.random.randn(1000000)\n",
    "\n",
    "plt.hist(x, 20, density=1, facecolor='b', alpha=0.65)\n",
    "plt.xlabel('X')\n",
    "plt.ylabel('Probability')\n",
    "plt.title('Histogram von 1000 Zufallswerten (Mittelwert 0, Varianz 1)')\n",
    "plt.grid(True)\n",
    "plt.show()\n"
   ]
  },
  {
   "cell_type": "code",
   "execution_count": null,
   "metadata": {},
   "outputs": [],
   "source": []
  },
  {
   "cell_type": "code",
   "execution_count": null,
   "metadata": {},
   "outputs": [],
   "source": []
  },
  {
   "cell_type": "code",
   "execution_count": null,
   "metadata": {},
   "outputs": [],
   "source": []
  }
 ],
 "metadata": {
  "kernelspec": {
   "display_name": "Python 3",
   "language": "python",
   "name": "python3"
  },
  "language_info": {
   "codemirror_mode": {
    "name": "ipython",
    "version": 3
   },
   "file_extension": ".py",
   "mimetype": "text/x-python",
   "name": "python",
   "nbconvert_exporter": "python",
   "pygments_lexer": "ipython3",
   "version": "3.6.10"
  }
 },
 "nbformat": 4,
 "nbformat_minor": 4
}
