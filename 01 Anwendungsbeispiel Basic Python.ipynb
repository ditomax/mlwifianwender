{
 "cells": [
  {
   "cell_type": "markdown",
   "metadata": {},
   "source": [
    "<img src=\"header.png\" align=\"center\"/>"
   ]
  },
  {
   "cell_type": "markdown",
   "metadata": {},
   "source": [
    "# KI-Anwender: Python Basis"
   ]
  },
  {
   "cell_type": "markdown",
   "metadata": {},
   "source": [
    "In diesem Beispiel werden wir einige einfache Grundlagen der Programmiersprache Python erarbeiten:\n",
    "- Was ist Python\n",
    "- Einfache Anweisungen, Variablen und Berechnungen\n",
    "- Schleifen\n",
    "- Funktionen\n",
    "- Listen\n",
    "- Module\n",
    "- numpy Matrizen\n",
    "- pandas Datensätze\n",
    "- matplotlib Graphen"
   ]
  },
  {
   "cell_type": "markdown",
   "metadata": {},
   "source": [
    "# Was ist Python\n",
    "\n",
    "Python ist eine Programmiersprache, die von [Guido van Rossum](https://de.wikipedia.org/wiki/Guido_van_Rossum) 1991 entwickelt wurde. Python, ist eine universelle, üblicherweise interpretierte höhere Programmiersprache. Sie hat den Anspruch, einen gut lesbaren, knappen Programmierstil zu fördern. So werden beispielsweise Blöcke nicht durch geschweifte Klammern, sondern durch Einrückungen strukturiert. Wegen ihrer klaren und übersichtlichen Syntax gilt Python als einfach zu erlernen [Link](https://de.wikipedia.org/wiki/Python_(Programmiersprache)).\n",
    "In den letzten Jahren hat sich python im Bereich Machine Learning start festgesetzt. Viele Frameworks unterstützen python als primäre Verwendungssprache.\n",
    "\n",
    "\n",
    "\n"
   ]
  },
  {
   "cell_type": "markdown",
   "metadata": {},
   "source": [
    "# Einfache Anweisungen, Variable und Berechnungen\n",
    "\n",
    "Anweisungen dienen dazu Rechenoperationen durchzuführen und die Resultate abzuspeichern. Ebenso werden Anweisungen verwendet um Daten zu laden oder zu speichern. Daten werden in Variablen gespeichert. Variablen haben einen Namen. Eine einfache Variable kann einen Wert speichern.\n"
   ]
  },
  {
   "cell_type": "code",
   "execution_count": 2,
   "metadata": {},
   "outputs": [],
   "source": [
    "# eine Zahl in einer Variablen speichern\n",
    "a = 10"
   ]
  },
  {
   "cell_type": "code",
   "execution_count": 4,
   "metadata": {},
   "outputs": [
    {
     "name": "stdout",
     "output_type": "stream",
     "text": [
      "10\n"
     ]
    }
   ],
   "source": [
    "# den Inhalt einer Variable anzeigen\n",
    "print(a)"
   ]
  },
  {
   "cell_type": "code",
   "execution_count": 23,
   "metadata": {},
   "outputs": [],
   "source": [
    "# eine Zeichenkette in eine Variable speichern\n",
    "name = \"Donaudampfschifffahrtskapitän\""
   ]
  },
  {
   "cell_type": "code",
   "execution_count": 24,
   "metadata": {},
   "outputs": [
    {
     "name": "stdout",
     "output_type": "stream",
     "text": [
      "Donaudampfschifffahrtskapitän\n"
     ]
    }
   ],
   "source": [
    "print(name)"
   ]
  },
  {
   "cell_type": "code",
   "execution_count": 22,
   "metadata": {},
   "outputs": [
    {
     "name": "stdout",
     "output_type": "stream",
     "text": [
      "15\n"
     ]
    }
   ],
   "source": [
    "# den Inhalt einer Variablen nach einer Berechnung ändern. Die meisten allgemeinen Rechenoperationen werden \n",
    "# von python unterstützt (+,-,*,/)\n",
    "a = a + 1\n",
    "print(a)"
   ]
  },
  {
   "cell_type": "code",
   "execution_count": 9,
   "metadata": {},
   "outputs": [
    {
     "name": "stdout",
     "output_type": "stream",
     "text": [
      "23\n",
      "Ausgabe mit Text: a = 13\n"
     ]
    }
   ],
   "source": [
    "# Anweisungen werden hintereinander ausgeführt\n",
    "b = a + 10\n",
    "print(b)\n",
    "print(\"Ausgabe mit Text: a = {}\".format(a))\n"
   ]
  },
  {
   "cell_type": "markdown",
   "metadata": {},
   "source": [
    "# Schleifen\n",
    "\n",
    "Schleifen dienen dazu eine Reihe von Anweisungen mehrmals hintereinander auszuführen. Zur Verwaltung der Durchläufe wird eine Schleifenvariable verwendet. Diese Variable enthält jeweils den aktuellen Stand der Schleife. Der Start und das Ende der Schleifendurchläufe werden durch eine Liste gesteuert. Ein solche Liste kann mit einer Funktion erzeugt werden."
   ]
  },
  {
   "cell_type": "code",
   "execution_count": 16,
   "metadata": {},
   "outputs": [
    {
     "name": "stdout",
     "output_type": "stream",
     "text": [
      "0\n",
      "1\n",
      "2\n",
      "3\n",
      "4\n",
      "5\n",
      "6\n",
      "7\n",
      "8\n",
      "9\n",
      "das ende der schleife\n"
     ]
    }
   ],
   "source": [
    "# Eine Anweisung 10 mal ausführen. Beachte die Zählweise. Informatiker zählen immer von 0 weg.\n",
    "# Beachte die Einrückung um 4 Leerzeichen. Dadurch kann python den Inhalt der Schleife bestimmen.\n",
    "for index in range(10):\n",
    "    print(index)\n",
    "print('das ende der schleife')"
   ]
  },
  {
   "cell_type": "code",
   "execution_count": 14,
   "metadata": {},
   "outputs": [
    {
     "name": "stdout",
     "output_type": "stream",
     "text": [
      "1\n",
      "3\n",
      "5\n",
      "7\n",
      "9\n"
     ]
    }
   ],
   "source": [
    "# Eine Schleife kann auch anders gesteuert werden. \n",
    "for index in range( 1, 11, 2 ):\n",
    "    print(index)"
   ]
  },
  {
   "cell_type": "markdown",
   "metadata": {},
   "source": [
    "# Funktionen\n",
    "\n",
    "Funktionen verpacken mehrere Anweisungen und geben einen Namen dazu. Immer, wenn die Funktion als Anweisung in einer Zeile steht, werden die Anweisungen der Funktion ausgeführt.\n",
    "Eine Funktion kann Parameter übernehmen, die beim Aufruf übergeben werden. Das Resultat einer Funktion kann wieder einer Variable zugewiesen werden. In der Funktion wird das Resultat mit return bestimmt. Nach dem Aufruf von Return wird die Ausführung der Funktion beendet.\n"
   ]
  },
  {
   "cell_type": "code",
   "execution_count": 19,
   "metadata": {},
   "outputs": [],
   "source": [
    "# einfache Funktion\n",
    "def mittelwert(a,b):\n",
    "    print('Aufruf von mittelwert mit den Parametern {} und {}'.format(a,b))\n",
    "    m = (a+b) / 2\n",
    "    return m"
   ]
  },
  {
   "cell_type": "code",
   "execution_count": 20,
   "metadata": {},
   "outputs": [
    {
     "name": "stdout",
     "output_type": "stream",
     "text": [
      "Aufruf von mittelwert mit den Parametern 10 und 20\n",
      "15.0\n"
     ]
    }
   ],
   "source": [
    "mittel = mittelwert(10,20)\n",
    "print(mittel)"
   ]
  },
  {
   "cell_type": "markdown",
   "metadata": {},
   "source": [
    "# Listen\n",
    "\n",
    "Listen sind Variablen, die mehr als einen Wert speichern können. Eine Liste kann mit Werten angelegt werden. Neue Werte können am Ende angehängt oder an beliebiger Stelle eingefügt sowie gelöscht werden.\n"
   ]
  },
  {
   "cell_type": "code",
   "execution_count": 31,
   "metadata": {},
   "outputs": [
    {
     "name": "stdout",
     "output_type": "stream",
     "text": [
      "geplanter Einkauf: ['Butter', 'Brot', 'Äpfel']\n"
     ]
    }
   ],
   "source": [
    "# Liste mit Werten anlegen\n",
    "liste = ['Butter','Brot','Äpfel']\n",
    "print('geplanter Einkauf: {}'.format(liste) )"
   ]
  },
  {
   "cell_type": "code",
   "execution_count": 32,
   "metadata": {},
   "outputs": [
    {
     "name": "stdout",
     "output_type": "stream",
     "text": [
      "realer Einkauf: ['Butter', 'Brot', 'Äpfel', 'Schokolade']\n"
     ]
    }
   ],
   "source": [
    "# Werte einfügen\n",
    "liste.append('Schokolade')\n",
    "print('realer Einkauf: {}'.format(liste) )"
   ]
  },
  {
   "cell_type": "code",
   "execution_count": 33,
   "metadata": {},
   "outputs": [
    {
     "name": "stdout",
     "output_type": "stream",
     "text": [
      "Einkauf nach Anruf: ['Butter', 'Erdbeermarmelade', 'Brot', 'Äpfel', 'Schokolade']\n"
     ]
    }
   ],
   "source": [
    "# Werte an anderen Stellen einfügen\n",
    "liste.insert(1,'Erdbeermarmelade')\n",
    "print('Einkauf nach Anruf: {}'.format(liste) )"
   ]
  },
  {
   "cell_type": "code",
   "execution_count": 34,
   "metadata": {},
   "outputs": [
    {
     "name": "stdout",
     "output_type": "stream",
     "text": [
      "Einkauf nach Blick auf den Bauch: ['Butter', 'Erdbeermarmelade', 'Brot', 'Äpfel']\n"
     ]
    }
   ],
   "source": [
    "# bestimmte Werte entfernen\n",
    "liste.remove('Schokolade')\n",
    "print('Einkauf nach Blick auf den Bauch: {}'.format(liste) )"
   ]
  },
  {
   "cell_type": "code",
   "execution_count": 51,
   "metadata": {},
   "outputs": [
    {
     "name": "stdout",
     "output_type": "stream",
     "text": [
      "[1, 2, 3, 3.9, 4.5]\n"
     ]
    }
   ],
   "source": [
    "# Liste bestehend aus Zahlen\n",
    "list = [1, 2, 3, 3.9, 4.5]\n",
    "print(list)"
   ]
  },
  {
   "cell_type": "code",
   "execution_count": 52,
   "metadata": {},
   "outputs": [
    {
     "name": "stdout",
     "output_type": "stream",
     "text": [
      "[1, 2, 3, 3.9, 4.5, 1, 2, 3, 3.9, 4.5, 1, 2, 3, 3.9, 4.5]\n"
     ]
    }
   ],
   "source": [
    "# Multiplikation einer Liste\n",
    "list = list * 3\n",
    "print(list)"
   ]
  },
  {
   "cell_type": "markdown",
   "metadata": {},
   "source": [
    "# Module\n",
    "\n",
    "Module sind python Programme, die viele Funktionen enthalten. Die meisten Machine Learning Funktionen sind in Modulen enthalten. \n",
    "Module müssen importiert werden. Beim Import kann einem Modul ein eigener Name vergeben werden. Beispiele für Module sind:\n",
    "- numpy: Matrizen und Operationen für Machine Learning\n",
    "- pandas: Verarbeitung von Datensätzen im Speicher\n",
    "- matplotlib: Diagramme"
   ]
  },
  {
   "cell_type": "code",
   "execution_count": 53,
   "metadata": {},
   "outputs": [],
   "source": [
    "# Module importieren\n",
    "import numpy as np\n",
    "import matplotlib.pyplot as plt"
   ]
  },
  {
   "cell_type": "code",
   "execution_count": 57,
   "metadata": {},
   "outputs": [
    {
     "name": "stdout",
     "output_type": "stream",
     "text": [
      "[1.  2.  3.  3.9 4.5 1.  2.  3.  3.9 4.5 1.  2.  3.  3.9 4.5]\n"
     ]
    }
   ],
   "source": [
    "# numpy Array aus Liste erstellen\n",
    "nlist = np.array(list)\n",
    "print(nlist)"
   ]
  },
  {
   "cell_type": "code",
   "execution_count": 58,
   "metadata": {},
   "outputs": [
    {
     "data": {
      "text/plain": [
       "[<matplotlib.lines.Line2D at 0x121e32390>]"
      ]
     },
     "execution_count": 58,
     "metadata": {},
     "output_type": "execute_result"
    },
    {
     "data": {
      "image/png": "[encoded data removed]",
      "text/plain": [
       "<Figure size 432x288 with 1 Axes>"
      ]
     },
     "metadata": {
      "needs_background": "light"
     },
     "output_type": "display_data"
    }
   ],
   "source": [
    "# Array anzeigen\n",
    "plt.plot(nlist)"
   ]
  },
  {
   "cell_type": "code",
   "execution_count": 59,
   "metadata": {},
   "outputs": [
    {
     "name": "stdout",
     "output_type": "stream",
     "text": [
      "3.0\n"
     ]
    }
   ],
   "source": [
    "# Elemente aus Array lesen\n",
    "x = nlist[2]\n",
    "print(x)"
   ]
  },
  {
   "cell_type": "code",
   "execution_count": 63,
   "metadata": {},
   "outputs": [
    {
     "name": "stdout",
     "output_type": "stream",
     "text": [
      "[2.  3.  3.9]\n"
     ]
    }
   ],
   "source": [
    "# Bereich aus Array herausschneiden (slice operator)\n",
    "x = nlist[1:4]\n",
    "print(x)"
   ]
  },
  {
   "cell_type": "code",
   "execution_count": null,
   "metadata": {},
   "outputs": [],
   "source": []
  }
 ],
 "metadata": {
  "kernelspec": {
   "display_name": "Python 3",
   "language": "python",
   "name": "python3"
  },
  "language_info": {
   "codemirror_mode": {
    "name": "ipython",
    "version": 3
   },
   "file_extension": ".py",
   "mimetype": "text/x-python",
   "name": "python",
   "nbconvert_exporter": "python",
   "pygments_lexer": "ipython3",
   "version": "3.6.7"
  }
 },
 "nbformat": 4,
 "nbformat_minor": 4
}
