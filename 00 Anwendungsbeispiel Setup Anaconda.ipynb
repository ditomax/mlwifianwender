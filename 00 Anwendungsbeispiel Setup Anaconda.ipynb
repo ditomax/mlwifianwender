{
 "cells": [
  {
   "cell_type": "markdown",
   "metadata": {},
   "source": [
    "<img src=\"header.png\" align=\"left\"/>"
   ]
  },
  {
   "cell_type": "markdown",
   "metadata": {},
   "source": [
    "# Installation von Anaconda\n",
    "\n"
   ]
  },
  {
   "cell_type": "markdown",
   "metadata": {},
   "source": [
    "Anaconda ist ein Software Paket, das eine vollständige Installation von python und wesentliche Machine Learning Pakete zusammenfasst. Lange Zeit war es sehr aufwändig, eine vollständige und funktionsfähige Installation von python zu erhalten und zu pflegen. Spätestens nach ein oder zwei Updates von python Modulen waren Inkompatibilitäten zu erwarten. Anaconda löst dieses Problem und bietet zusätzlich virtuelle Installationen. Damit können auf dem selben Computer verschiedene Versionen von python und anderen Modulen installiert werden, ohne sich gegenseitig zu stören."
   ]
  },
  {
   "cell_type": "markdown",
   "metadata": {},
   "source": [
    "# Download von Anaconda\n",
    "\n",
    "Gehe auf die Seite von Anaconda [https://docs.anaconda.com/anaconda/install/](https://docs.anaconda.com/anaconda/install/) und suche nach dem passenden Betriebssystem. Lade die passende Version für das Betriebssystem mit python 3.7 und je nach Speicher den graphical oder GUI Installer. Folge der Installationsanleitung.\n",
    "\n"
   ]
  },
  {
   "cell_type": "markdown",
   "metadata": {},
   "source": [
    "# Installation von git\n",
    "\n",
    "Git ist ein Versionierungssystem für Software. Die Beispiele für den Kurs sind in einem Git Repository gespeichert. Von dort werden wir die aktuelle Version der Beispiele clonen.\n",
    "Installiere dazu git in Anaconda. Öffne ein Terminal und starte das folgende Kommando:\n",
    "\n",
    "```\n",
    "conda install -c anaconda git\n",
    "```"
   ]
  },
  {
   "cell_type": "markdown",
   "metadata": {},
   "source": [
    "# Prüfen der Installation\n",
    "\n",
    "Nach der Installation sollte die korrekte Funktion von Anaconda geprüft werden. Folge dazu der Anleitung auf\n",
    "[https://docs.anaconda.com/anaconda/install/verify-install/](https://docs.anaconda.com/anaconda/install/verify-install/).\n"
   ]
  },
  {
   "cell_type": "markdown",
   "metadata": {},
   "source": [
    "# Anlegen eines Verzeichnisses\n",
    "\n",
    "Je nach Betriebssystem unterschiedlich. Unter Windows öffne ein Terminalfenster und gebe folgendes Kommando ein:\n",
    "\n",
    "```\n",
    "md kianwender\n",
    "cd kianwender\n",
    "```\n"
   ]
  },
  {
   "cell_type": "markdown",
   "metadata": {},
   "source": [
    "# Clonen oder Kopieren der Ordners mit den Beispielen\n",
    "\n",
    "Es gibt zwei Möglichkeiten, die Anwendungsbeispiele auf einen Computer zu laden. Entweder Download eines ZIP Files und entpacken, oder clonen von github.\n",
    "\n",
    "## Download des ZIP Files\n",
    "\n",
    "Öffne den Link [https://github.com/ditomax/mlwifianwender](https://github.com/ditomax/mlwifianwender) und suche den Button **Clone or download**. Lade das ZIP File auf den Computer und entpacke es in das neue Verzeichnis.\n",
    "\n",
    "\n",
    "## Clonen von github\n",
    "\n",
    "Der bessere Weg ist die Verwendung von **git**. Mit git kann ein clone angelegt werden, der später auch Korrekturen und Verbesserungen einfach zugänglich macht. Installiere dazu zuerst **git** in das Anaconda System (falls nicht schon vorhanden).\n",
    "\n",
    "```\n",
    "conda install -c anaconda git\n",
    "```\n",
    "\n",
    "Danach clone das git repository auf den Computer.\n",
    "\n",
    "```\n",
    "git clone https://github.com/ditomax/mlwifianwender.git\n",
    "```\n"
   ]
  },
  {
   "cell_type": "markdown",
   "metadata": {},
   "source": [
    "# Anlegen einer Umgebung in Anaconda\n",
    "\n",
    "Für die Verwendung von Anaconda mit python legen wir uns eine Umgebung (environment) mit dem Namen **wificlass** an. Dazu gehen wir im Terminal in das Verzeichnis mit den Anwendungsbeispielen geben wir den folgenden Befehl in dem Anaconda Terminal (Anaconda Prompt) ein:\n",
    "\n",
    "```\n",
    "conda env create -f environment.yml\n",
    "```\n",
    "\n",
    "Danach (hoffentlich ohne Fehlermeldungen) kann das Environment aktiviert werden mit:\n",
    "\n",
    "```\n",
    "conda activate wificlass\n",
    "```\n",
    "\n"
   ]
  },
  {
   "cell_type": "markdown",
   "metadata": {},
   "source": [
    "# Prüfen der Funktion\n",
    "\n",
    "Gehe in das Verzeichnis mit den Anwendungsbeispielen, stelle sicher, dass das richtige Environment läuft (wificlass) und starte jupyter durch das Kommando:\n",
    "\n",
    "```\n",
    "jupyter notebook\n",
    "```\n",
    "\n",
    "Danach startet ein Browserfenster. Dort sind die Anwendungsbeispiele zu sehen. Öffne das Anwendungsbeispiel **00 Anwendungsbeispiel Setup Anaconda**.\n",
    "\n",
    "Führe den folgenden python Code aus um die Installation zu testen ."
   ]
  },
  {
   "cell_type": "code",
   "execution_count": null,
   "metadata": {},
   "outputs": [],
   "source": [
    "import base64\n",
    "base64_message = 'V2lsbGtvbW1lbiBiZWkgcHl0aG9uIGF1ZiBBbmFjb25kYSE='\n",
    "base64_bytes = base64_message.encode('ascii')\n",
    "message_bytes = base64.b64decode(base64_bytes)\n",
    "message = message_bytes.decode('ascii')\n",
    "print(message)"
   ]
  },
  {
   "cell_type": "code",
   "execution_count": null,
   "metadata": {},
   "outputs": [],
   "source": []
  }
 ],
 "metadata": {
  "kernelspec": {
   "display_name": "Python 3",
   "language": "python",
   "name": "python3"
  },
  "language_info": {
   "codemirror_mode": {
    "name": "ipython",
    "version": 3
   },
   "file_extension": ".py",
   "mimetype": "text/x-python",
   "name": "python",
   "nbconvert_exporter": "python",
   "pygments_lexer": "ipython3",
   "version": "3.6.7"
  }
 },
 "nbformat": 4,
 "nbformat_minor": 4
}
