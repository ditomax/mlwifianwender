{
 "cells": [
  {
   "cell_type": "markdown",
   "metadata": {},
   "source": [
    "<img src=\"header.png\" align=\"center\"/>"
   ]
  },
  {
   "cell_type": "markdown",
   "metadata": {},
   "source": [
    "# Installation von Anaconda\n",
    "\n"
   ]
  },
  {
   "cell_type": "markdown",
   "metadata": {},
   "source": [
    "Anaconda ist ein Software Paket, das eine vollständige Installation von python und allen wesentlichen Machine Learning Paketen zusammenfasst. Lange Zeit war es sehr aufwändig, eine vollständige und funktionsfähige Installation von python zu erhalten und zu warten. Spätestens nach ein oder zwei Updates von python Modulen waren Inkompatibilitäten zu erwarten.\n",
    "Anaconda bietet zusätzlich virtuelle Installationen. Damit können auf dem selben Computer verschiedene Versionen von python und anderen Modulen installiert werden, ohne sich gegenseitig zu stören."
   ]
  },
  {
   "cell_type": "markdown",
   "metadata": {},
   "source": [
    "# Download von Anaconda\n",
    "\n",
    "Gehe auf die Seite von Anaconda [https://docs.anaconda.com/anaconda/install/](https://docs.anaconda.com/anaconda/install/) und suche nach dem passenden Betriebssystem. Lade die passende Version für das Betriebssystem mit python 3.7 und je nach Speicher den graphical oder GUI Installer. Folge der Installationsanleitung.\n",
    "\n"
   ]
  },
  {
   "cell_type": "markdown",
   "metadata": {},
   "source": [
    "# Installation von git\n",
    "\n",
    "Git ist ein Versionierungssystem für Software. Die Beispiele für den Kurs sind in einem Git Repository gespeichert. Von dort werden wir die aktuelle Version der Beispiele clonen.\n",
    "Installiere dazu git in Anaconda. Öffne ein Terminal und starte das folgende Kommando:\n",
    "\n",
    "```\n",
    "conda install -c anaconda git\n",
    "```"
   ]
  },
  {
   "cell_type": "markdown",
   "metadata": {},
   "source": [
    "# Prüfen der Installation\n",
    "\n",
    "Nach der Installation sollte die korrekte Funktion von Anaconda geprüft werden. Folge dazu der Anleitung auf\n",
    "[https://docs.anaconda.com/anaconda/install/verify-install/](https://docs.anaconda.com/anaconda/install/verify-install/).\n"
   ]
  },
  {
   "cell_type": "code",
   "execution_count": null,
   "metadata": {},
   "outputs": [],
   "source": [
    "# Anlegen eines Verzeichnisses"
   ]
  },
  {
   "cell_type": "code",
   "execution_count": null,
   "metadata": {},
   "outputs": [],
   "source": []
  },
  {
   "cell_type": "code",
   "execution_count": null,
   "metadata": {},
   "outputs": [],
   "source": [
    "# Clonen der Ordners mit den Beispielen"
   ]
  },
  {
   "cell_type": "markdown",
   "metadata": {},
   "source": [
    "# Prüfen der Funktion\n",
    "\n",
    "Führe den folgenden python Code aus um die Installation zu testen ."
   ]
  },
  {
   "cell_type": "code",
   "execution_count": null,
   "metadata": {},
   "outputs": [],
   "source": [
    "import base64\n",
    "base64_message = 'V2lsbGtvbW1lbiBiZWkgcHl0aG9uIGF1ZiBBbmFjb25kYSE='\n",
    "base64_bytes = base64_message.encode('ascii')\n",
    "message_bytes = base64.b64decode(base64_bytes)\n",
    "message = message_bytes.decode('ascii')\n",
    "print(message)"
   ]
  },
  {
   "cell_type": "code",
   "execution_count": null,
   "metadata": {},
   "outputs": [],
   "source": []
  }
 ],
 "metadata": {
  "kernelspec": {
   "display_name": "Python 3",
   "language": "python",
   "name": "python3"
  },
  "language_info": {
   "codemirror_mode": {
    "name": "ipython",
    "version": 3
   },
   "file_extension": ".py",
   "mimetype": "text/x-python",
   "name": "python",
   "nbconvert_exporter": "python",
   "pygments_lexer": "ipython3",
   "version": "3.6.7"
  }
 },
 "nbformat": 4,
 "nbformat_minor": 4
}
