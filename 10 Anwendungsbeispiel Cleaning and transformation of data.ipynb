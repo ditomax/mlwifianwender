{
 "cells": [
  {
   "cell_type": "markdown",
   "metadata": {},
   "source": [
    "<img src=\"header.png\" align=\"left\"/>"
   ]
  },
  {
   "cell_type": "markdown",
   "metadata": {},
   "source": [
    "# Anwendungsbeispiel Cleaning and transformation of data\n",
    "\n",
    "Das Ziel dieses Beispieles ist es einige Aufgaben der Reinigung und Transformation von Daten zu erklären und den Effekt zu testen.\n",
    "\n",
    "\n",
    "Konkret werden wir folgende Punkte durchgehen:\n",
    "\n",
    "- Reiningen von unbenötigten Samples und Features\n",
    "- Füllen von ungültigen und leeren Werten\n",
    "- Reinigen von Textfeldern\n",
    "- Entfernen von Duplikaten\n",
    "- Prüfen von Wertebereichen\n",
    "- Umwandeln von Datumswerten\n",
    "- Resampling und accumulation\n",
    "- Transformationen von Features und Labels\n",
    "\n",
    "\n",
    "\n",
    "\n",
    "Die Beispiele wurden aus folgenden Quellen entnommen:\n",
    "\n",
    "- [1] [https://www.import.io/post/what-is-data-cleansing-and-transformation-wrangling/](https://www.import.io/post/what-is-data-cleansing-and-transformation-wrangling/) \n",
    "- [2] [https://realpython.com/python-data-cleaning-numpy-pandas/](https://realpython.com/python-data-cleaning-numpy-pandas/)\n",
    "\n",
    "\n",
    "Die Daten wurden entnommen von:\n",
    "\n",
    "- [https://finance.yahoo.com/quote/%5EDJI/history/](https://finance.yahoo.com/quote/%5EDJI/history/)\n",
    "- [https://fred.stlouisfed.org/series/MCOILBRENTEU](https://fred.stlouisfed.org/series/MCOILBRENTEU)\n",
    "- [http://www.sca.isr.umich.edu/](http://www.sca.isr.umich.edu/)\n"
   ]
  },
  {
   "cell_type": "markdown",
   "metadata": {},
   "source": [
    "# Motivation\n",
    "\n",
    "Eine gute Übersicht zum Thema liefert dieser Artikel: [https://cleverdata.io/clean-select-transform-data/](https://cleverdata.io/clean-select-transform-data/)\n",
    "\n",
    "<img src=\"info.png\" align=\"left\"/> "
   ]
  },
  {
   "cell_type": "markdown",
   "metadata": {},
   "source": [
    "# Importe"
   ]
  },
  {
   "cell_type": "code",
   "execution_count": 1,
   "metadata": {},
   "outputs": [],
   "source": [
    "#\n",
    "# modules\n",
    "#\n",
    "import pandas as pd\n",
    "import numpy as np\n",
    "import matplotlib.pyplot as plt\n",
    "\n",
    "from scipy import stats\n",
    "from datetime import datetime\n",
    "from functools import reduce\n",
    "import datetime\n",
    "\n",
    "\n",
    "#\n",
    "# Einstellen der Grösse von Diagrammen\n",
    "#\n",
    "plt.rcParams['figure.figsize'] = [16, 9]"
   ]
  },
  {
   "cell_type": "markdown",
   "metadata": {},
   "source": [
    "# Beispiel Datensatz mit Zahlen und Texten"
   ]
  },
  {
   "cell_type": "markdown",
   "metadata": {},
   "source": [
    "## Laden von Daten"
   ]
  },
  {
   "cell_type": "code",
   "execution_count": 2,
   "metadata": {},
   "outputs": [],
   "source": [
    "df = pd.read_csv('data/BL-Flickr-Images-Book.csv')"
   ]
  },
  {
   "cell_type": "code",
   "execution_count": 3,
   "metadata": {},
   "outputs": [
    {
     "data": {
      "text/html": [
       "<div>\n",
       "<style scoped>\n",
       "    .dataframe tbody tr th:only-of-type {\n",
       "        vertical-align: middle;\n",
       "    }\n",
       "\n",
       "    .dataframe tbody tr th {\n",
       "        vertical-align: top;\n",
       "    }\n",
       "\n",
       "    .dataframe thead th {\n",
       "        text-align: right;\n",
       "    }\n",
       "</style>\n",
       "<table border=\"1\" class=\"dataframe\">\n",
       "  <thead>\n",
       "    <tr style=\"text-align: right;\">\n",
       "      <th></th>\n",
       "      <th>Identifier</th>\n",
       "      <th>Edition Statement</th>\n",
       "      <th>Place of Publication</th>\n",
       "      <th>Date of Publication</th>\n",
       "      <th>Publisher</th>\n",
       "      <th>Title</th>\n",
       "      <th>Author</th>\n",
       "      <th>Contributors</th>\n",
       "      <th>Corporate Author</th>\n",
       "      <th>Corporate Contributors</th>\n",
       "      <th>Former owner</th>\n",
       "      <th>Engraver</th>\n",
       "      <th>Issuance type</th>\n",
       "      <th>Flickr URL</th>\n",
       "      <th>Shelfmarks</th>\n",
       "    </tr>\n",
       "  </thead>\n",
       "  <tbody>\n",
       "    <tr>\n",
       "      <th>0</th>\n",
       "      <td>206</td>\n",
       "      <td>NaN</td>\n",
       "      <td>London</td>\n",
       "      <td>1879 [1878]</td>\n",
       "      <td>S. Tinsley &amp; Co.</td>\n",
       "      <td>Walter Forbes. [A novel.] By A. A</td>\n",
       "      <td>A. A.</td>\n",
       "      <td>FORBES, Walter.</td>\n",
       "      <td>NaN</td>\n",
       "      <td>NaN</td>\n",
       "      <td>NaN</td>\n",
       "      <td>NaN</td>\n",
       "      <td>monographic</td>\n",
       "      <td>http://www.flickr.com/photos/britishlibrary/ta...</td>\n",
       "      <td>British Library HMNTS 12641.b.30.</td>\n",
       "    </tr>\n",
       "    <tr>\n",
       "      <th>1</th>\n",
       "      <td>216</td>\n",
       "      <td>NaN</td>\n",
       "      <td>London; Virtue &amp; Yorston</td>\n",
       "      <td>1868</td>\n",
       "      <td>Virtue &amp; Co.</td>\n",
       "      <td>All for Greed. [A novel. The dedication signed...</td>\n",
       "      <td>A., A. A.</td>\n",
       "      <td>BLAZE DE BURY, Marie Pauline Rose - Baroness</td>\n",
       "      <td>NaN</td>\n",
       "      <td>NaN</td>\n",
       "      <td>NaN</td>\n",
       "      <td>NaN</td>\n",
       "      <td>monographic</td>\n",
       "      <td>http://www.flickr.com/photos/britishlibrary/ta...</td>\n",
       "      <td>British Library HMNTS 12626.cc.2.</td>\n",
       "    </tr>\n",
       "    <tr>\n",
       "      <th>2</th>\n",
       "      <td>218</td>\n",
       "      <td>NaN</td>\n",
       "      <td>London</td>\n",
       "      <td>1869</td>\n",
       "      <td>Bradbury, Evans &amp; Co.</td>\n",
       "      <td>Love the Avenger. By the author of “All for Gr...</td>\n",
       "      <td>A., A. A.</td>\n",
       "      <td>BLAZE DE BURY, Marie Pauline Rose - Baroness</td>\n",
       "      <td>NaN</td>\n",
       "      <td>NaN</td>\n",
       "      <td>NaN</td>\n",
       "      <td>NaN</td>\n",
       "      <td>monographic</td>\n",
       "      <td>http://www.flickr.com/photos/britishlibrary/ta...</td>\n",
       "      <td>British Library HMNTS 12625.dd.1.</td>\n",
       "    </tr>\n",
       "    <tr>\n",
       "      <th>3</th>\n",
       "      <td>472</td>\n",
       "      <td>NaN</td>\n",
       "      <td>London</td>\n",
       "      <td>1851</td>\n",
       "      <td>James Darling</td>\n",
       "      <td>Welsh Sketches, chiefly ecclesiastical, to the...</td>\n",
       "      <td>A., E. S.</td>\n",
       "      <td>Appleyard, Ernest Silvanus.</td>\n",
       "      <td>NaN</td>\n",
       "      <td>NaN</td>\n",
       "      <td>NaN</td>\n",
       "      <td>NaN</td>\n",
       "      <td>monographic</td>\n",
       "      <td>http://www.flickr.com/photos/britishlibrary/ta...</td>\n",
       "      <td>British Library HMNTS 10369.bbb.15.</td>\n",
       "    </tr>\n",
       "    <tr>\n",
       "      <th>4</th>\n",
       "      <td>480</td>\n",
       "      <td>A new edition, revised, etc.</td>\n",
       "      <td>London</td>\n",
       "      <td>1857</td>\n",
       "      <td>Wertheim &amp; Macintosh</td>\n",
       "      <td>[The World in which I live, and my place in it...</td>\n",
       "      <td>A., E. S.</td>\n",
       "      <td>BROOME, John Henry.</td>\n",
       "      <td>NaN</td>\n",
       "      <td>NaN</td>\n",
       "      <td>NaN</td>\n",
       "      <td>NaN</td>\n",
       "      <td>monographic</td>\n",
       "      <td>http://www.flickr.com/photos/britishlibrary/ta...</td>\n",
       "      <td>British Library HMNTS 9007.d.28.</td>\n",
       "    </tr>\n",
       "  </tbody>\n",
       "</table>\n",
       "</div>"
      ],
      "text/plain": [
       "   Identifier             Edition Statement      Place of Publication  \\\n",
       "0         206                           NaN                    London   \n",
       "1         216                           NaN  London; Virtue & Yorston   \n",
       "2         218                           NaN                    London   \n",
       "3         472                           NaN                    London   \n",
       "4         480  A new edition, revised, etc.                    London   \n",
       "\n",
       "  Date of Publication              Publisher  \\\n",
       "0         1879 [1878]       S. Tinsley & Co.   \n",
       "1                1868           Virtue & Co.   \n",
       "2                1869  Bradbury, Evans & Co.   \n",
       "3                1851          James Darling   \n",
       "4                1857   Wertheim & Macintosh   \n",
       "\n",
       "                                               Title     Author  \\\n",
       "0                  Walter Forbes. [A novel.] By A. A      A. A.   \n",
       "1  All for Greed. [A novel. The dedication signed...  A., A. A.   \n",
       "2  Love the Avenger. By the author of “All for Gr...  A., A. A.   \n",
       "3  Welsh Sketches, chiefly ecclesiastical, to the...  A., E. S.   \n",
       "4  [The World in which I live, and my place in it...  A., E. S.   \n",
       "\n",
       "                                   Contributors  Corporate Author  \\\n",
       "0                               FORBES, Walter.               NaN   \n",
       "1  BLAZE DE BURY, Marie Pauline Rose - Baroness               NaN   \n",
       "2  BLAZE DE BURY, Marie Pauline Rose - Baroness               NaN   \n",
       "3                   Appleyard, Ernest Silvanus.               NaN   \n",
       "4                           BROOME, John Henry.               NaN   \n",
       "\n",
       "   Corporate Contributors Former owner  Engraver Issuance type  \\\n",
       "0                     NaN          NaN       NaN   monographic   \n",
       "1                     NaN          NaN       NaN   monographic   \n",
       "2                     NaN          NaN       NaN   monographic   \n",
       "3                     NaN          NaN       NaN   monographic   \n",
       "4                     NaN          NaN       NaN   monographic   \n",
       "\n",
       "                                          Flickr URL  \\\n",
       "0  http://www.flickr.com/photos/britishlibrary/ta...   \n",
       "1  http://www.flickr.com/photos/britishlibrary/ta...   \n",
       "2  http://www.flickr.com/photos/britishlibrary/ta...   \n",
       "3  http://www.flickr.com/photos/britishlibrary/ta...   \n",
       "4  http://www.flickr.com/photos/britishlibrary/ta...   \n",
       "\n",
       "                            Shelfmarks  \n",
       "0    British Library HMNTS 12641.b.30.  \n",
       "1    British Library HMNTS 12626.cc.2.  \n",
       "2    British Library HMNTS 12625.dd.1.  \n",
       "3  British Library HMNTS 10369.bbb.15.  \n",
       "4     British Library HMNTS 9007.d.28.  "
      ]
     },
     "execution_count": 3,
     "metadata": {},
     "output_type": "execute_result"
    }
   ],
   "source": [
    "df.head()"
   ]
  },
  {
   "cell_type": "markdown",
   "metadata": {},
   "source": [
    "## Entfernen von nicht notwendigen Features"
   ]
  },
  {
   "cell_type": "code",
   "execution_count": 4,
   "metadata": {},
   "outputs": [],
   "source": [
    "to_drop = ['Edition Statement','Corporate Author','Corporate Contributors','Former owner','Engraver','Contributors','Issuance type','Shelfmarks']"
   ]
  },
  {
   "cell_type": "code",
   "execution_count": 5,
   "metadata": {},
   "outputs": [],
   "source": [
    "df.drop(to_drop, inplace=True, axis=1)"
   ]
  },
  {
   "cell_type": "code",
   "execution_count": 6,
   "metadata": {},
   "outputs": [
    {
     "data": {
      "text/html": [
       "<div>\n",
       "<style scoped>\n",
       "    .dataframe tbody tr th:only-of-type {\n",
       "        vertical-align: middle;\n",
       "    }\n",
       "\n",
       "    .dataframe tbody tr th {\n",
       "        vertical-align: top;\n",
       "    }\n",
       "\n",
       "    .dataframe thead th {\n",
       "        text-align: right;\n",
       "    }\n",
       "</style>\n",
       "<table border=\"1\" class=\"dataframe\">\n",
       "  <thead>\n",
       "    <tr style=\"text-align: right;\">\n",
       "      <th></th>\n",
       "      <th>Identifier</th>\n",
       "      <th>Place of Publication</th>\n",
       "      <th>Date of Publication</th>\n",
       "      <th>Publisher</th>\n",
       "      <th>Title</th>\n",
       "      <th>Author</th>\n",
       "      <th>Flickr URL</th>\n",
       "    </tr>\n",
       "  </thead>\n",
       "  <tbody>\n",
       "    <tr>\n",
       "      <th>0</th>\n",
       "      <td>206</td>\n",
       "      <td>London</td>\n",
       "      <td>1879 [1878]</td>\n",
       "      <td>S. Tinsley &amp; Co.</td>\n",
       "      <td>Walter Forbes. [A novel.] By A. A</td>\n",
       "      <td>A. A.</td>\n",
       "      <td>http://www.flickr.com/photos/britishlibrary/ta...</td>\n",
       "    </tr>\n",
       "    <tr>\n",
       "      <th>1</th>\n",
       "      <td>216</td>\n",
       "      <td>London; Virtue &amp; Yorston</td>\n",
       "      <td>1868</td>\n",
       "      <td>Virtue &amp; Co.</td>\n",
       "      <td>All for Greed. [A novel. The dedication signed...</td>\n",
       "      <td>A., A. A.</td>\n",
       "      <td>http://www.flickr.com/photos/britishlibrary/ta...</td>\n",
       "    </tr>\n",
       "    <tr>\n",
       "      <th>2</th>\n",
       "      <td>218</td>\n",
       "      <td>London</td>\n",
       "      <td>1869</td>\n",
       "      <td>Bradbury, Evans &amp; Co.</td>\n",
       "      <td>Love the Avenger. By the author of “All for Gr...</td>\n",
       "      <td>A., A. A.</td>\n",
       "      <td>http://www.flickr.com/photos/britishlibrary/ta...</td>\n",
       "    </tr>\n",
       "    <tr>\n",
       "      <th>3</th>\n",
       "      <td>472</td>\n",
       "      <td>London</td>\n",
       "      <td>1851</td>\n",
       "      <td>James Darling</td>\n",
       "      <td>Welsh Sketches, chiefly ecclesiastical, to the...</td>\n",
       "      <td>A., E. S.</td>\n",
       "      <td>http://www.flickr.com/photos/britishlibrary/ta...</td>\n",
       "    </tr>\n",
       "    <tr>\n",
       "      <th>4</th>\n",
       "      <td>480</td>\n",
       "      <td>London</td>\n",
       "      <td>1857</td>\n",
       "      <td>Wertheim &amp; Macintosh</td>\n",
       "      <td>[The World in which I live, and my place in it...</td>\n",
       "      <td>A., E. S.</td>\n",
       "      <td>http://www.flickr.com/photos/britishlibrary/ta...</td>\n",
       "    </tr>\n",
       "  </tbody>\n",
       "</table>\n",
       "</div>"
      ],
      "text/plain": [
       "   Identifier      Place of Publication Date of Publication  \\\n",
       "0         206                    London         1879 [1878]   \n",
       "1         216  London; Virtue & Yorston                1868   \n",
       "2         218                    London                1869   \n",
       "3         472                    London                1851   \n",
       "4         480                    London                1857   \n",
       "\n",
       "               Publisher                                              Title  \\\n",
       "0       S. Tinsley & Co.                  Walter Forbes. [A novel.] By A. A   \n",
       "1           Virtue & Co.  All for Greed. [A novel. The dedication signed...   \n",
       "2  Bradbury, Evans & Co.  Love the Avenger. By the author of “All for Gr...   \n",
       "3          James Darling  Welsh Sketches, chiefly ecclesiastical, to the...   \n",
       "4   Wertheim & Macintosh  [The World in which I live, and my place in it...   \n",
       "\n",
       "      Author                                         Flickr URL  \n",
       "0      A. A.  http://www.flickr.com/photos/britishlibrary/ta...  \n",
       "1  A., A. A.  http://www.flickr.com/photos/britishlibrary/ta...  \n",
       "2  A., A. A.  http://www.flickr.com/photos/britishlibrary/ta...  \n",
       "3  A., E. S.  http://www.flickr.com/photos/britishlibrary/ta...  \n",
       "4  A., E. S.  http://www.flickr.com/photos/britishlibrary/ta...  "
      ]
     },
     "execution_count": 6,
     "metadata": {},
     "output_type": "execute_result"
    }
   ],
   "source": [
    "df.head()"
   ]
  },
  {
   "cell_type": "markdown",
   "metadata": {},
   "source": [
    "## Festlegen eines Index zum Zugriff auf die Daten"
   ]
  },
  {
   "cell_type": "code",
   "execution_count": 7,
   "metadata": {},
   "outputs": [
    {
     "data": {
      "text/plain": [
       "True"
      ]
     },
     "execution_count": 7,
     "metadata": {},
     "output_type": "execute_result"
    }
   ],
   "source": [
    "#\n",
    "# Prüfen ob Identifier ein geeigneter Index ist\n",
    "#\n",
    "df['Identifier'].is_unique"
   ]
  },
  {
   "cell_type": "code",
   "execution_count": 8,
   "metadata": {},
   "outputs": [],
   "source": [
    "df = df.set_index('Identifier')"
   ]
  },
  {
   "cell_type": "code",
   "execution_count": 9,
   "metadata": {},
   "outputs": [
    {
     "data": {
      "text/html": [
       "<div>\n",
       "<style scoped>\n",
       "    .dataframe tbody tr th:only-of-type {\n",
       "        vertical-align: middle;\n",
       "    }\n",
       "\n",
       "    .dataframe tbody tr th {\n",
       "        vertical-align: top;\n",
       "    }\n",
       "\n",
       "    .dataframe thead th {\n",
       "        text-align: right;\n",
       "    }\n",
       "</style>\n",
       "<table border=\"1\" class=\"dataframe\">\n",
       "  <thead>\n",
       "    <tr style=\"text-align: right;\">\n",
       "      <th></th>\n",
       "      <th>Place of Publication</th>\n",
       "      <th>Date of Publication</th>\n",
       "      <th>Publisher</th>\n",
       "      <th>Title</th>\n",
       "      <th>Author</th>\n",
       "      <th>Flickr URL</th>\n",
       "    </tr>\n",
       "    <tr>\n",
       "      <th>Identifier</th>\n",
       "      <th></th>\n",
       "      <th></th>\n",
       "      <th></th>\n",
       "      <th></th>\n",
       "      <th></th>\n",
       "      <th></th>\n",
       "    </tr>\n",
       "  </thead>\n",
       "  <tbody>\n",
       "    <tr>\n",
       "      <th>206</th>\n",
       "      <td>London</td>\n",
       "      <td>1879 [1878]</td>\n",
       "      <td>S. Tinsley &amp; Co.</td>\n",
       "      <td>Walter Forbes. [A novel.] By A. A</td>\n",
       "      <td>A. A.</td>\n",
       "      <td>http://www.flickr.com/photos/britishlibrary/ta...</td>\n",
       "    </tr>\n",
       "    <tr>\n",
       "      <th>216</th>\n",
       "      <td>London; Virtue &amp; Yorston</td>\n",
       "      <td>1868</td>\n",
       "      <td>Virtue &amp; Co.</td>\n",
       "      <td>All for Greed. [A novel. The dedication signed...</td>\n",
       "      <td>A., A. A.</td>\n",
       "      <td>http://www.flickr.com/photos/britishlibrary/ta...</td>\n",
       "    </tr>\n",
       "    <tr>\n",
       "      <th>218</th>\n",
       "      <td>London</td>\n",
       "      <td>1869</td>\n",
       "      <td>Bradbury, Evans &amp; Co.</td>\n",
       "      <td>Love the Avenger. By the author of “All for Gr...</td>\n",
       "      <td>A., A. A.</td>\n",
       "      <td>http://www.flickr.com/photos/britishlibrary/ta...</td>\n",
       "    </tr>\n",
       "    <tr>\n",
       "      <th>472</th>\n",
       "      <td>London</td>\n",
       "      <td>1851</td>\n",
       "      <td>James Darling</td>\n",
       "      <td>Welsh Sketches, chiefly ecclesiastical, to the...</td>\n",
       "      <td>A., E. S.</td>\n",
       "      <td>http://www.flickr.com/photos/britishlibrary/ta...</td>\n",
       "    </tr>\n",
       "    <tr>\n",
       "      <th>480</th>\n",
       "      <td>London</td>\n",
       "      <td>1857</td>\n",
       "      <td>Wertheim &amp; Macintosh</td>\n",
       "      <td>[The World in which I live, and my place in it...</td>\n",
       "      <td>A., E. S.</td>\n",
       "      <td>http://www.flickr.com/photos/britishlibrary/ta...</td>\n",
       "    </tr>\n",
       "  </tbody>\n",
       "</table>\n",
       "</div>"
      ],
      "text/plain": [
       "                Place of Publication Date of Publication  \\\n",
       "Identifier                                                 \n",
       "206                           London         1879 [1878]   \n",
       "216         London; Virtue & Yorston                1868   \n",
       "218                           London                1869   \n",
       "472                           London                1851   \n",
       "480                           London                1857   \n",
       "\n",
       "                        Publisher  \\\n",
       "Identifier                          \n",
       "206              S. Tinsley & Co.   \n",
       "216                  Virtue & Co.   \n",
       "218         Bradbury, Evans & Co.   \n",
       "472                 James Darling   \n",
       "480          Wertheim & Macintosh   \n",
       "\n",
       "                                                        Title     Author  \\\n",
       "Identifier                                                                 \n",
       "206                         Walter Forbes. [A novel.] By A. A      A. A.   \n",
       "216         All for Greed. [A novel. The dedication signed...  A., A. A.   \n",
       "218         Love the Avenger. By the author of “All for Gr...  A., A. A.   \n",
       "472         Welsh Sketches, chiefly ecclesiastical, to the...  A., E. S.   \n",
       "480         [The World in which I live, and my place in it...  A., E. S.   \n",
       "\n",
       "                                                   Flickr URL  \n",
       "Identifier                                                     \n",
       "206         http://www.flickr.com/photos/britishlibrary/ta...  \n",
       "216         http://www.flickr.com/photos/britishlibrary/ta...  \n",
       "218         http://www.flickr.com/photos/britishlibrary/ta...  \n",
       "472         http://www.flickr.com/photos/britishlibrary/ta...  \n",
       "480         http://www.flickr.com/photos/britishlibrary/ta...  "
      ]
     },
     "execution_count": 9,
     "metadata": {},
     "output_type": "execute_result"
    }
   ],
   "source": [
    "df.head()"
   ]
  },
  {
   "cell_type": "code",
   "execution_count": 10,
   "metadata": {},
   "outputs": [
    {
     "data": {
      "text/html": [
       "<div>\n",
       "<style scoped>\n",
       "    .dataframe tbody tr th:only-of-type {\n",
       "        vertical-align: middle;\n",
       "    }\n",
       "\n",
       "    .dataframe tbody tr th {\n",
       "        vertical-align: top;\n",
       "    }\n",
       "\n",
       "    .dataframe thead th {\n",
       "        text-align: right;\n",
       "    }\n",
       "</style>\n",
       "<table border=\"1\" class=\"dataframe\">\n",
       "  <thead>\n",
       "    <tr style=\"text-align: right;\">\n",
       "      <th></th>\n",
       "      <th>Place of Publication</th>\n",
       "      <th>Date of Publication</th>\n",
       "      <th>Publisher</th>\n",
       "      <th>Title</th>\n",
       "      <th>Author</th>\n",
       "      <th>Flickr URL</th>\n",
       "    </tr>\n",
       "    <tr>\n",
       "      <th>Identifier</th>\n",
       "      <th></th>\n",
       "      <th></th>\n",
       "      <th></th>\n",
       "      <th></th>\n",
       "      <th></th>\n",
       "      <th></th>\n",
       "    </tr>\n",
       "  </thead>\n",
       "  <tbody>\n",
       "    <tr>\n",
       "      <th>4158088</th>\n",
       "      <td>London</td>\n",
       "      <td>1838</td>\n",
       "      <td>NaN</td>\n",
       "      <td>The Parochial History of Cornwall, founded on,...</td>\n",
       "      <td>GIDDY, afterwards GILBERT, Davies.</td>\n",
       "      <td>http://www.flickr.com/photos/britishlibrary/ta...</td>\n",
       "    </tr>\n",
       "    <tr>\n",
       "      <th>4158128</th>\n",
       "      <td>Derby</td>\n",
       "      <td>1831, 32</td>\n",
       "      <td>M. Mozley &amp; Son</td>\n",
       "      <td>The History and Gazetteer of the County of Der...</td>\n",
       "      <td>GLOVER, Stephen - of Derby</td>\n",
       "      <td>http://www.flickr.com/photos/britishlibrary/ta...</td>\n",
       "    </tr>\n",
       "    <tr>\n",
       "      <th>4159563</th>\n",
       "      <td>London</td>\n",
       "      <td>[1806]-22</td>\n",
       "      <td>T. Cadell and W. Davies</td>\n",
       "      <td>Magna Britannia; being a concise topographical...</td>\n",
       "      <td>LYSONS, Daniel - M.A., F.R.S., and LYSONS (Sam...</td>\n",
       "      <td>http://www.flickr.com/photos/britishlibrary/ta...</td>\n",
       "    </tr>\n",
       "    <tr>\n",
       "      <th>4159587</th>\n",
       "      <td>Newcastle upon Tyne</td>\n",
       "      <td>1834</td>\n",
       "      <td>Mackenzie &amp; Dent</td>\n",
       "      <td>An historical, topographical and descriptive v...</td>\n",
       "      <td>Mackenzie, E. (Eneas)</td>\n",
       "      <td>http://www.flickr.com/photos/britishlibrary/ta...</td>\n",
       "    </tr>\n",
       "    <tr>\n",
       "      <th>4160339</th>\n",
       "      <td>London</td>\n",
       "      <td>1834-43</td>\n",
       "      <td>NaN</td>\n",
       "      <td>Collectanea Topographica et Genealogica. [Firs...</td>\n",
       "      <td>NaN</td>\n",
       "      <td>http://www.flickr.com/photos/britishlibrary/ta...</td>\n",
       "    </tr>\n",
       "  </tbody>\n",
       "</table>\n",
       "</div>"
      ],
      "text/plain": [
       "           Place of Publication Date of Publication                Publisher  \\\n",
       "Identifier                                                                     \n",
       "4158088                  London                1838                      NaN   \n",
       "4158128                   Derby            1831, 32          M. Mozley & Son   \n",
       "4159563                  London           [1806]-22  T. Cadell and W. Davies   \n",
       "4159587     Newcastle upon Tyne                1834         Mackenzie & Dent   \n",
       "4160339                  London             1834-43                      NaN   \n",
       "\n",
       "                                                        Title  \\\n",
       "Identifier                                                      \n",
       "4158088     The Parochial History of Cornwall, founded on,...   \n",
       "4158128     The History and Gazetteer of the County of Der...   \n",
       "4159563     Magna Britannia; being a concise topographical...   \n",
       "4159587     An historical, topographical and descriptive v...   \n",
       "4160339     Collectanea Topographica et Genealogica. [Firs...   \n",
       "\n",
       "                                                       Author  \\\n",
       "Identifier                                                      \n",
       "4158088                    GIDDY, afterwards GILBERT, Davies.   \n",
       "4158128                            GLOVER, Stephen - of Derby   \n",
       "4159563     LYSONS, Daniel - M.A., F.R.S., and LYSONS (Sam...   \n",
       "4159587                                 Mackenzie, E. (Eneas)   \n",
       "4160339                                                   NaN   \n",
       "\n",
       "                                                   Flickr URL  \n",
       "Identifier                                                     \n",
       "4158088     http://www.flickr.com/photos/britishlibrary/ta...  \n",
       "4158128     http://www.flickr.com/photos/britishlibrary/ta...  \n",
       "4159563     http://www.flickr.com/photos/britishlibrary/ta...  \n",
       "4159587     http://www.flickr.com/photos/britishlibrary/ta...  \n",
       "4160339     http://www.flickr.com/photos/britishlibrary/ta...  "
      ]
     },
     "execution_count": 10,
     "metadata": {},
     "output_type": "execute_result"
    }
   ],
   "source": [
    "df.tail()"
   ]
  },
  {
   "cell_type": "code",
   "execution_count": 11,
   "metadata": {},
   "outputs": [
    {
     "data": {
      "text/plain": [
       "Place of Publication                  pp. 40. G. Bryan & Co: Oxford, 1898\n",
       "Date of Publication                                                   NaN\n",
       "Publisher                                                             NaN\n",
       "Title                   The Coming of Spring, and other poems. By J. A...\n",
       "Author                                                      A., J.|A., J.\n",
       "Flickr URL              http://www.flickr.com/photos/britishlibrary/ta...\n",
       "Name: 667, dtype: object"
      ]
     },
     "execution_count": 11,
     "metadata": {},
     "output_type": "execute_result"
    }
   ],
   "source": [
    "#\n",
    "# Zugriff mit Hilfe des Index Feldes\n",
    "#\n",
    "df.loc[667]"
   ]
  },
  {
   "cell_type": "code",
   "execution_count": 12,
   "metadata": {},
   "outputs": [
    {
     "data": {
      "text/plain": [
       "Identifier\n",
       "1905           1888\n",
       "1929    1839, 38-54\n",
       "2836           1897\n",
       "2854           1865\n",
       "2956        1860-63\n",
       "2957           1873\n",
       "3017           1866\n",
       "3131           1899\n",
       "4598           1814\n",
       "4884           1820\n",
       "Name: Date of Publication, dtype: object"
      ]
     },
     "execution_count": 12,
     "metadata": {},
     "output_type": "execute_result"
    }
   ],
   "source": [
    "df.loc[1905:, 'Date of Publication'].head(10)"
   ]
  },
  {
   "cell_type": "markdown",
   "metadata": {},
   "source": [
    "## Reinigen von Zahlen und Textfeldern"
   ]
  },
  {
   "cell_type": "code",
   "execution_count": 13,
   "metadata": {},
   "outputs": [],
   "source": [
    "#\n",
    "# Reinigen der Datumswerte um einen einzelnen Wert zu erhalten\n",
    "# mehr zu Regex ist hier zu finden: https://docs.python.org/3.6/howto/regex.html\n",
    "#\n",
    "extr = df['Date of Publication'].str.extract(r'^(\\d{4})', expand=False)"
   ]
  },
  {
   "cell_type": "code",
   "execution_count": 14,
   "metadata": {},
   "outputs": [
    {
     "data": {
      "text/plain": [
       "Identifier\n",
       "206     1879\n",
       "216     1868\n",
       "218     1869\n",
       "472     1851\n",
       "480     1857\n",
       "481     1875\n",
       "519     1872\n",
       "667      NaN\n",
       "874     1676\n",
       "1143    1679\n",
       "Name: Date of Publication, dtype: object"
      ]
     },
     "execution_count": 14,
     "metadata": {},
     "output_type": "execute_result"
    }
   ],
   "source": [
    "extr.head(10)"
   ]
  },
  {
   "cell_type": "code",
   "execution_count": 15,
   "metadata": {},
   "outputs": [],
   "source": [
    "#\n",
    "# Zurückschreiben der gesäuberten Werte als Zahl\n",
    "#\n",
    "df['Date of Publication'] = pd.to_numeric(extr)"
   ]
  },
  {
   "cell_type": "code",
   "execution_count": 16,
   "metadata": {},
   "outputs": [
    {
     "data": {
      "text/plain": [
       "Identifier\n",
       "1905    1888.0\n",
       "1929    1839.0\n",
       "2836    1897.0\n",
       "2854    1865.0\n",
       "2956    1860.0\n",
       "2957    1873.0\n",
       "3017    1866.0\n",
       "3131    1899.0\n",
       "4598    1814.0\n",
       "4884    1820.0\n",
       "Name: Date of Publication, dtype: float64"
      ]
     },
     "execution_count": 16,
     "metadata": {},
     "output_type": "execute_result"
    }
   ],
   "source": [
    "df.loc[1905:, 'Date of Publication'].head(10)"
   ]
  },
  {
   "cell_type": "code",
   "execution_count": 17,
   "metadata": {},
   "outputs": [
    {
     "data": {
      "text/plain": [
       "971"
      ]
     },
     "execution_count": 17,
     "metadata": {},
     "output_type": "execute_result"
    }
   ],
   "source": [
    "#\n",
    "# Zählen der Felder mit null Werten\n",
    "#\n",
    "df['Date of Publication'].isnull().sum()"
   ]
  },
  {
   "cell_type": "code",
   "execution_count": 18,
   "metadata": {},
   "outputs": [
    {
     "data": {
      "text/html": [
       "<div>\n",
       "<style scoped>\n",
       "    .dataframe tbody tr th:only-of-type {\n",
       "        vertical-align: middle;\n",
       "    }\n",
       "\n",
       "    .dataframe tbody tr th {\n",
       "        vertical-align: top;\n",
       "    }\n",
       "\n",
       "    .dataframe thead th {\n",
       "        text-align: right;\n",
       "    }\n",
       "</style>\n",
       "<table border=\"1\" class=\"dataframe\">\n",
       "  <thead>\n",
       "    <tr style=\"text-align: right;\">\n",
       "      <th></th>\n",
       "      <th>Place of Publication</th>\n",
       "      <th>Date of Publication</th>\n",
       "      <th>Publisher</th>\n",
       "      <th>Title</th>\n",
       "      <th>Author</th>\n",
       "      <th>Flickr URL</th>\n",
       "    </tr>\n",
       "    <tr>\n",
       "      <th>Identifier</th>\n",
       "      <th></th>\n",
       "      <th></th>\n",
       "      <th></th>\n",
       "      <th></th>\n",
       "      <th></th>\n",
       "      <th></th>\n",
       "    </tr>\n",
       "  </thead>\n",
       "  <tbody>\n",
       "    <tr>\n",
       "      <th>667</th>\n",
       "      <td>pp. 40. G. Bryan &amp; Co: Oxford, 1898</td>\n",
       "      <td>NaN</td>\n",
       "      <td>NaN</td>\n",
       "      <td>The Coming of Spring, and other poems. By J. A...</td>\n",
       "      <td>A., J.|A., J.</td>\n",
       "      <td>http://www.flickr.com/photos/britishlibrary/ta...</td>\n",
       "    </tr>\n",
       "    <tr>\n",
       "      <th>5385</th>\n",
       "      <td>London</td>\n",
       "      <td>NaN</td>\n",
       "      <td>Bradbury, Agnew &amp; Co.</td>\n",
       "      <td>[The comic history of England ... With twenty ...</td>\n",
       "      <td>A'BECKETT, Gilbert Abbott.</td>\n",
       "      <td>http://www.flickr.com/photos/britishlibrary/ta...</td>\n",
       "    </tr>\n",
       "    <tr>\n",
       "      <th>5389</th>\n",
       "      <td>London</td>\n",
       "      <td>NaN</td>\n",
       "      <td>Bradbury, Agnew &amp; Co.</td>\n",
       "      <td>[The Comic History of Rome ... Illustrated by ...</td>\n",
       "      <td>A'BECKETT, Gilbert Abbott.</td>\n",
       "      <td>http://www.flickr.com/photos/britishlibrary/ta...</td>\n",
       "    </tr>\n",
       "    <tr>\n",
       "      <th>11361</th>\n",
       "      <td>Leipzig</td>\n",
       "      <td>NaN</td>\n",
       "      <td>NaN</td>\n",
       "      <td>Tirol und Vorarlberg ... Mit ... einer Karte, ...</td>\n",
       "      <td>ACHLEITNER, Arthur - and UBL (E.)</td>\n",
       "      <td>http://www.flickr.com/photos/britishlibrary/ta...</td>\n",
       "    </tr>\n",
       "    <tr>\n",
       "      <th>11852</th>\n",
       "      <td>pp. 40. W. Cann: Plymouth, [1876?]</td>\n",
       "      <td>NaN</td>\n",
       "      <td>NaN</td>\n",
       "      <td>A Question of Holy Writ, suggested by a lectur...</td>\n",
       "      <td>ACKLAND - Lieut., R.N</td>\n",
       "      <td>http://www.flickr.com/photos/britishlibrary/ta...</td>\n",
       "    </tr>\n",
       "    <tr>\n",
       "      <th>13364</th>\n",
       "      <td>London</td>\n",
       "      <td>NaN</td>\n",
       "      <td>Griffith, Farran &amp; Co.</td>\n",
       "      <td>A Hand-book and History of Sidmouth from the T...</td>\n",
       "      <td>NaN</td>\n",
       "      <td>http://www.flickr.com/photos/britishlibrary/ta...</td>\n",
       "    </tr>\n",
       "    <tr>\n",
       "      <th>14466</th>\n",
       "      <td>London</td>\n",
       "      <td>NaN</td>\n",
       "      <td>Adams &amp; King</td>\n",
       "      <td>The Historie of Eald Street, now called Old St...</td>\n",
       "      <td>NaN</td>\n",
       "      <td>http://www.flickr.com/photos/britishlibrary/ta...</td>\n",
       "    </tr>\n",
       "    <tr>\n",
       "      <th>17752</th>\n",
       "      <td>Upsaliæ</td>\n",
       "      <td>NaN</td>\n",
       "      <td>NaN</td>\n",
       "      <td>Acta historiam regis Chistierni II. illustrant...</td>\n",
       "      <td>ADDE, Petrus Adolphus.</td>\n",
       "      <td>http://www.flickr.com/photos/britishlibrary/ta...</td>\n",
       "    </tr>\n",
       "    <tr>\n",
       "      <th>21782</th>\n",
       "      <td>London</td>\n",
       "      <td>NaN</td>\n",
       "      <td>J. Johnston</td>\n",
       "      <td>The Adventures of a Post Captain. By a Naval O...</td>\n",
       "      <td>NaN</td>\n",
       "      <td>http://www.flickr.com/photos/britishlibrary/ta...</td>\n",
       "    </tr>\n",
       "    <tr>\n",
       "      <th>27797</th>\n",
       "      <td>London</td>\n",
       "      <td>NaN</td>\n",
       "      <td>William W. Clowes</td>\n",
       "      <td>Prospectus of an Expedition into the Interior ...</td>\n",
       "      <td>NaN</td>\n",
       "      <td>http://www.flickr.com/photos/britishlibrary/ta...</td>\n",
       "    </tr>\n",
       "  </tbody>\n",
       "</table>\n",
       "</div>"
      ],
      "text/plain": [
       "                           Place of Publication  Date of Publication  \\\n",
       "Identifier                                                             \n",
       "667         pp. 40. G. Bryan & Co: Oxford, 1898                  NaN   \n",
       "5385                                     London                  NaN   \n",
       "5389                                     London                  NaN   \n",
       "11361                                   Leipzig                  NaN   \n",
       "11852        pp. 40. W. Cann: Plymouth, [1876?]                  NaN   \n",
       "13364                                    London                  NaN   \n",
       "14466                                    London                  NaN   \n",
       "17752                                   Upsaliæ                  NaN   \n",
       "21782                                    London                  NaN   \n",
       "27797                                    London                  NaN   \n",
       "\n",
       "                         Publisher  \\\n",
       "Identifier                           \n",
       "667                            NaN   \n",
       "5385         Bradbury, Agnew & Co.   \n",
       "5389         Bradbury, Agnew & Co.   \n",
       "11361                          NaN   \n",
       "11852                          NaN   \n",
       "13364       Griffith, Farran & Co.   \n",
       "14466                 Adams & King   \n",
       "17752                          NaN   \n",
       "21782                  J. Johnston   \n",
       "27797            William W. Clowes   \n",
       "\n",
       "                                                        Title  \\\n",
       "Identifier                                                      \n",
       "667         The Coming of Spring, and other poems. By J. A...   \n",
       "5385        [The comic history of England ... With twenty ...   \n",
       "5389        [The Comic History of Rome ... Illustrated by ...   \n",
       "11361       Tirol und Vorarlberg ... Mit ... einer Karte, ...   \n",
       "11852       A Question of Holy Writ, suggested by a lectur...   \n",
       "13364       A Hand-book and History of Sidmouth from the T...   \n",
       "14466       The Historie of Eald Street, now called Old St...   \n",
       "17752       Acta historiam regis Chistierni II. illustrant...   \n",
       "21782       The Adventures of a Post Captain. By a Naval O...   \n",
       "27797       Prospectus of an Expedition into the Interior ...   \n",
       "\n",
       "                                       Author  \\\n",
       "Identifier                                      \n",
       "667                             A., J.|A., J.   \n",
       "5385               A'BECKETT, Gilbert Abbott.   \n",
       "5389               A'BECKETT, Gilbert Abbott.   \n",
       "11361       ACHLEITNER, Arthur - and UBL (E.)   \n",
       "11852                   ACKLAND - Lieut., R.N   \n",
       "13364                                     NaN   \n",
       "14466                                     NaN   \n",
       "17752                  ADDE, Petrus Adolphus.   \n",
       "21782                                     NaN   \n",
       "27797                                     NaN   \n",
       "\n",
       "                                                   Flickr URL  \n",
       "Identifier                                                     \n",
       "667         http://www.flickr.com/photos/britishlibrary/ta...  \n",
       "5385        http://www.flickr.com/photos/britishlibrary/ta...  \n",
       "5389        http://www.flickr.com/photos/britishlibrary/ta...  \n",
       "11361       http://www.flickr.com/photos/britishlibrary/ta...  \n",
       "11852       http://www.flickr.com/photos/britishlibrary/ta...  \n",
       "13364       http://www.flickr.com/photos/britishlibrary/ta...  \n",
       "14466       http://www.flickr.com/photos/britishlibrary/ta...  \n",
       "17752       http://www.flickr.com/photos/britishlibrary/ta...  \n",
       "21782       http://www.flickr.com/photos/britishlibrary/ta...  \n",
       "27797       http://www.flickr.com/photos/britishlibrary/ta...  "
      ]
     },
     "execution_count": 18,
     "metadata": {},
     "output_type": "execute_result"
    }
   ],
   "source": [
    "#\n",
    "# Anzeige von Feldern mit null Werten\n",
    "#\n",
    "df[df['Date of Publication'].isnull()].head(10)"
   ]
  },
  {
   "cell_type": "code",
   "execution_count": 19,
   "metadata": {},
   "outputs": [
    {
     "data": {
      "text/plain": [
       "1915.0"
      ]
     },
     "execution_count": 19,
     "metadata": {},
     "output_type": "execute_result"
    }
   ],
   "source": [
    "#\n",
    "# Anzeigen von Extremwerten einer Spalte\n",
    "#\n",
    "df['Date of Publication'].max()"
   ]
  },
  {
   "cell_type": "code",
   "execution_count": 20,
   "metadata": {},
   "outputs": [
    {
     "data": {
      "text/plain": [
       "1510.0"
      ]
     },
     "execution_count": 20,
     "metadata": {},
     "output_type": "execute_result"
    }
   ],
   "source": [
    "df['Date of Publication'].min()"
   ]
  },
  {
   "cell_type": "code",
   "execution_count": 21,
   "metadata": {},
   "outputs": [],
   "source": [
    "#\n",
    "# Belegen der fehlenden Werte mit einem fixen Wert\n",
    "#\n",
    "df['Date of Publication'].fillna(1900, inplace=True)"
   ]
  },
  {
   "cell_type": "code",
   "execution_count": 22,
   "metadata": {},
   "outputs": [
    {
     "data": {
      "text/plain": [
       "Place of Publication                  pp. 40. G. Bryan & Co: Oxford, 1898\n",
       "Date of Publication                                                1900.0\n",
       "Publisher                                                             NaN\n",
       "Title                   The Coming of Spring, and other poems. By J. A...\n",
       "Author                                                      A., J.|A., J.\n",
       "Flickr URL              http://www.flickr.com/photos/britishlibrary/ta...\n",
       "Name: 667, dtype: object"
      ]
     },
     "execution_count": 22,
     "metadata": {},
     "output_type": "execute_result"
    }
   ],
   "source": [
    "#\n",
    "# Test\n",
    "#\n",
    "df.loc[667]"
   ]
  },
  {
   "cell_type": "code",
   "execution_count": 23,
   "metadata": {},
   "outputs": [
    {
     "data": {
      "text/plain": [
       "0"
      ]
     },
     "execution_count": 23,
     "metadata": {},
     "output_type": "execute_result"
    }
   ],
   "source": [
    "#\n",
    "# Nächste Baustelle sind die Orte der Veröffentlichung\n",
    "#\n",
    "df['Place of Publication'].isnull().sum()"
   ]
  },
  {
   "cell_type": "code",
   "execution_count": 24,
   "metadata": {},
   "outputs": [],
   "source": [
    "uniquePlaceList = df['Place of Publication'].unique()\n",
    "uniquePlaceListWithBlank = [s for s in uniquePlaceList if \" \" in s]\n",
    "uniquePlaces = '|'.join(uniquePlaceListWithBlank)"
   ]
  },
  {
   "cell_type": "code",
   "execution_count": 25,
   "metadata": {},
   "outputs": [
    {
     "name": "stdout",
     "output_type": "stream",
     "text": [
      "London; Virtue & Yorston|pp. 40. G. Bryan & Co: Oxford, 1898|New York|pp. 40. W. Cann: Plymouth, [1876?]|St. Petersburg|Carlstad, Stockholm|A. Millar|D. Appleton & Co|Ἐν Κερκυρᾳ|w Krakowie|Cambridge, [Mass.]|Edinburgh & London|Edinburgh; John Murray|pp. vi. 216. Hatchards: London, 1888|S. Paulo|Londini Gothorum|J. Vincent; London|London & New York|London; Oxford|Great Yarmouth|New York, London|pp. 64. W. Cann: Plymouth, [1870?]|Meriden, Conn|Paris; Moulins|T. C. Newby; London|pp. 95. Erskine Macdonald: London, 1921|pp. xi. 59. J. Parker & Co.: Oxford, [1900.]|Hartford, Conn|Springfield, Mass|Phila., Pa|Edinburgh; reprinted by B. Dewhirst|Cooperstown, N.Y|Newark, N.J|Windsor, Vt|London; W. Frederick|Springfield, O|Dover, N.H|pp. xii. 59. Thomas Burleigh: London, 1900|Frederick Warne & Co|Le Mans|v Praze|Hagae Comitum|Москва, 1857-60|Richmond, Va|London; F. P. Harper|pp. 92. Heath Cranton: London, 1919|pp. x. 429. John Murray: London, 1894|2 vol. W. Blackwood & Sons: Edinburgh, 1888|London; G. C. Whitney|E. Lloyd|Berne & Neuchâtel|Boston, Lincs|La Paz|H. D. Symonds|Bristol; Longmans & Co|Les Andelis|pp. 31. S. Harper & Sons: Barnstaple, 1899|F. & C. Rivington|Glasgow & London|Privately printed|London; Phillipson & Golder|Frankfort, Ky|1-3. Paris|2 Bdchn. Berlin|Stuttgart & Tübingen|v. Tarnopol|ἐν Πατραις|London; Paris [printed]|Chambersburg, Pa|Citta di Castello|Wisbech; Simpkin, Marshall & Co|'s Gravenhage|Cape Town|London & Bombay|Buenos Aires|Portland [Maine]|Torre del Greco|Porto & Braga|London & Belfast|Madrid; Bayonne [printed]|Cookshire, Que|Les Andelys|Cambridge [Mass.]|Printed for private circulation|London; Nuremberg [printed]|San Francisco|Silva Junior & C.a|La Rochelle|w Warszawie|Lugduni Batavorum|Albany, N.Y|v. Méjico|Manchester; Lupton Bros|С. Петербургъ|pp. 281. Hatchards: London, [1889.]|London; Cole's Book Arcade|J. Bell|Londres, et se trouve à Paris|'s Hertogenbosch|London; E. P. Dutton & Co|London; Munich printed|Neuva York [sic]|pp. 128. R. Aickin & Co.: Belfast, 1896|pp. 64. W. & J. Kennedy: Hawick, 1899|New York & London|Ἐν Ἀθηναις|pp. 359. Thomas Nelson & Sons: London, 1889 [1888]|pp. 349. Griffith, Farran, Okeden & Welsh: London, [1888.]|London, Aylesbury|ἐν Ἀθηναις|London; Scribner, Welford, & Armstrong|St. Louis|Doylestown, Pa|London; T. Merrill|New Haven|London; Nuremberg printed|Cambridge, Mass|] London|pp. 59. Blackwell: Oxford, [1919.]|Boston; Carey & Lea|pp. 110. John Lane: London, New York, 1918|Cambridge, London|pp. 221. George Routledge & Sons: London, 1887|Bradbury & Evans|2 Bd. Naumburg|London and Sydney|W. H. Allen & Co|Macmillan & Co|Jena, Naumburg a. S. [printed]|pp. 152. Москва, 1898|Chiswick Press|Neustadt an der Haardt|2 Thle. Frankfurt am Main, 1880, 8º|Bury St. Edmunds|London & Edinburgh|Denver, Colorado|Salem, Mass|Санктпетербургъ, 1867|pp. vi. 250. W. Blackwood: Edinburgh, 1889|Paris, Corbeil [printed|J. & R. Tonson|James Nichol, etc|W. P. Nimmo|London; Edinburgh printed|pp. 332. Hurst & Blackett: London; Bolton [printed], 1889 [1888.]|Paris, Corbeil [printed]|Frankfurt a. M|Kirby Moorside|London, Newcastle [printed]|London; Edinburgh [printed]|London, Sunderland [printed]|pp. vi. 344. Chapman & Hall: London, 1887|St. Pétersbourg|Longman & Co. London|A. Green|London, Hertford [printed]|Boston, Mass|Boston [Mass.]|Franz Duncker|Harper & Bros|London, Lewes|London, [Edinburgh, printed]|London, Oxford [printed]|London, Edinburgh [printed]|] Barth, printer, Wych Street, Strand|2 vol. Chatto & Windus: London, 1888|Edinburgh and London|Hereford, London [printed]|Santiago de Chile|pp. 20. [Appledore Press: New-Haven, Conn.,] 1875|London, Beccles [printed]|London, Manchester [printed]|London; New York [printed]|pp. 229. G. N. Morang & Company: Toronto, 1900|J. Johnson, etc|Henry G. Bohn|Bickers & Son, etc|William Nimmo|George Routledge & Sons|Boston [Mass.]; Cambridge [Mass., printed]|New York [printed], Chicago|Санктпетербургъ, 1845|Saint Petersburg]|Reading, London|Boston, U.S.A|London, Guildford [printed]|London; printed in Bavaria|Cleveland, Ohio|Halle a. S|Thomas Nelson & Sons|2 Th. Helmstedt|2 series. London, Beccles [printed]|Stepney Green|Minden i. Westf|pp. 364. Digby & Long: London, 1887|Reprinted at the Auchinleck press|New Orleans, La|Mülheim a. d. Ruhr|New York; Kegan Paul & Co|pp. viii. 110. Constable & Co.: London, 1896|Francis & John Rivington|Pesth & Wien|Brandenburg a. H|Madrid [printed], Paris|Nueva York|Bliss Sands & Co|Service & Paton|Macmillan & Co.; New York|Smith, Elder & Co|Tenby [printed], London|Bernard Lintot|Chicago, Ill|London [printed], Cambridge|С[анкт] П[етер] Б[ургъ]|pp. xiv. 199. J. Lane: London, 1897|Санктпетербургъ, 1836|Санктпетербургъ, 1842|Ipswich [printed], London|F. C. & J. Rivington, etc|John Murray|Richard Griffin & Co|Cassell, Petter & Galpin|Ward & Lock|Cassell, Petter, & Galpin|Cassell Petter & Galpin|Cassell & Co|Cadell & Davies, etc|Suttaby, Evance, & Co|Charles Griffin & Co|Ermanno Loescher|Jones & Piggott; London|J. B. Lippincott Co|London: T. Nelson & Sons, etc. 1888 [1887]|Bliss, Sands, & Foster|Sampson Low, Marston, Searle & Rivington|Philadelphia; London|Boston [U.S.]|London, [Bungay printed,]|Richmond, Va., reprinted|London; Nimeguen printed|Paris, Rouen [printed]|Vernor, Hood, & Sharpe, etc|G. Kearsley|J. Ridley|Aldine House|James Bowden|Tipografia Migliaresi|Harrison & Sons|Königsberg ï. Pr|Zalt-Bommel, Nijmegen [printed]|Санктпетербург, 1862|London, Paris [printed|London; Guildford [printed]|London, Derby [printed]|London; Beccles [printed]|Berlin und Potsdam [printed]|Leipsic; London [printed]|pp. viii. 155. E. Mathews & J. Lane: London, 1894|St. Petersburg, Leipzig|London, Liverpool [printed]|Fort Smith, Ark|Dalbeattie; Castle-Douglas [printed]|Akron, Ohio|London, Bristol [printed]|London, Newcastle-on-Tyne [printed]|Boston [U.S.], Cambridge [U.S. printed]|London; Hanley [printed]|] Appledore U.S. Press|Edinburgh [printed], London|G. Nicol|Breslau, Leipzig [printed]|pp. 79. Digby & Long: London, [1896.]|pp. 121. T. Fisher Unwin: London, 1925|London; Perth [printed|Leipzig [printed] und Heidelberg|Jena, Leipzig [printed]|Stuttgart, Carlsruhe [printed]|Hamilton, Bermuda|Boston (Massachusetts)|pp. 18. For private circulation: London, 1892|London, Belfast [printed]|London, Edinburgh and London [printed]|pp. 76. The Darien Press: Edinburgh, 1895|Dayton, Ohio|London, Crystal Palace [printed]|3 vols. Edinburgh|2 series. London, Edinburgh [printed|Ἐν Βενετιᾳ|T. Nelson & Sons|London, Chester [printed]|Frankfurt am Main|Berlin, Sondershausen [printed]|A[ppledore]. P[rivate]. P[ress: New-Haven, Conn.,] 1881|Shrewsbury & Providence Grove|Pest, Darmstadtban [printed]|Pesth, Darmstadt [printed]|London, Guildford printed|Wellington, New Zealand|John Hatchard & Son|pp. viii. 305. E. W. Allen: London, 1888|pp. viii. 305. R. Bentley & Son: London, 1889|M. Cooper|pp. xvi. 159. G. Redway: London, 1898 [1897]|Clermont Ferrand|pp. 438. J. Duffy & Co.: Dublin, 1900|Berlin & Hamburg|Paris, Poissy [printed]|London, Winchester [printed]|London, Woking printed|St. Helena|Freiburg im Breisgau|London; Bungay [printed|pp. 58. E. T. Heron & Co.: London, [1900.]|we Lwowie|Brooklyn, N.Y|w Lwowie|London, Edinburgh|St. Helier]|4 vol. The Century Co.: New York, 1887, 8º|Savannah, Ga|G. J. Parris, steam printer|London; Leipzig printed|1. pp. 32. London|Santiago [Chilo.]|Freiburg i. B|Au Meschacébé [Mons]|London, Colchester [printed]|Boston, U.S.A., & London|London; Philadelphia [printed]|London, Glasgow [printed|Boston, U.S|200. London|Melbourne & Ballarat|Boston [U.S.]; Cambridge [U.S. printed]|London, Glasgow [printed]|Wien [printed]|Saint Petersburg|w Lipsku|v Č. Brodě|Catskill, N.Y|Harrison & Co|Edinburgh [printed], and London|Richard Bentley & Son|Ginn & Co|Barmen, Elberfeld [printed]|London; Glasgow [printed|Rouen [printed], Paris|Frankfurt, a. M|pp. xv. 376. W. E. Clegg: Oldham, 1893|James Parker & Co|For Charles Harper. London|Avesnes, Valenciennes [printed]|Soissons, Laon [printed|Paris, Strasbourg [printed]|pp. li. 397. въ Типографіи Департамента Народнаго Просвѣщенія: Санктпетербургъ, 1819|at the Cross of Dumbarton|Baltimore [U.S.]|New York [printed]; London|London; New York printed|London, Shaftesbury printed|pp. 25. D. Nutt; In the Strand [London], 1895|London; Peter Hill|1-3. Edinburgh|Geo. E. Over, printer, the Rugby Press|London, Germany, [printed|London; Nuremberg [printed|pp. 55. Macmillan & Co.: London, 1900|Boston [Mass|pp. 40. Hodder & Stoughton: London, [1900.]|Remington & Co|pp. 67. Chapman & Hall: London, 1919|London [printed], New York|London, Dublin [printed|Sainte-Anne de La Pocatiere|Graham's Town|London; Norwood, Mass. printed|pp. 112. Санктпетербург, 1879|pp. viii. 291. Harper & Bros.: New York, 1888|R. Pau|Alexandra and Cairo, London [printed]|Parker Son and Bourne|Graz, Wien [printed]|London; Bristol [printed]|London; Sheffield [printed]|pp. 36. Private Impression: [London, 1869.]|La Haye|Hartford [Conn.]|Norwich [Conn.]|Tunbridge Wells|London; Guildford [printed|Printed for private circulation. London|Boston, [Mass.]|Portland, Maine|London, Dublin [printed]|Exeter (New Hampshire)|Boston, [Mass|Paris [printed]|pp. 62. J. Heywood: Manchester, 1894|2 vol. R. Bentley & Son: London; Guildford [printed], 1888|Città di Castello|Brighton,] 1873|3 series. Leamington|pp. 69. London, 1886|Roma, Napoli, Turin [printed]|Warwick, 1877|Glasgow & Edinburgh|Buenos Ayres|London, 1845|pp. xii. 212. Longmans & Co.: London, 1895|pp. 304. Longmans & Co.: London, 1889|pp. 8. Privately printed: Plymouth, 1879|Rostock & Schwerin|Leipzig & Wien|St. John's|London, etc.: Thomas Nelson & Sons, [1887]|London; Bradford [printed]|London; Glasgow [printed]|pp. xx. 137 [138]. Ward & Downey: London, 1895|pp. 76. E. Mathews: London, 1896|pp. 28. Printed for the Author: London, 1765|pp. 53. J. Cundall: London, 1847|London, Philadelphia [printed]|Halifax, N.S|pp. xxvii. 507. Printed by J. S. Toothill: Bradford, 1900|pp. 471. Санктпетербургъ, 1875|У Бѣограду|Kingston, Jamaica|London, 1848|London, 1874|pp. viii. 236. Санктпетербургъ, 1856|V Praze|pp. xiv. 233. W. Blackwood and Sons: Edinburgh and London, 1887|] Edinburgh|pp. 15. J. W. Southgate: London, 1839|Санктпетербургъ, 1863|2 том. Санктпетербургъ, 1867|London: Religious Tract Society, [1873.]|Chapman & Hall|Paris [printed], London|Rocca S. Casciano|Passaic, N.Y.]|Berlin und Hamburg|Published in 66 pts. London|] Birmingham|Home Publishing Co|London; Oxford [printed]|Санктпетербургъ, 1852|E. Nister: London; Nuremberg [printed, 1890]|J. Clarke & Co.: London, [1888.]|London & New York, Macmillan & Co|Buenos Airês|pp. 161. J. F. Shaw and Co.: London, [1886.]|London, 1867 [1866]|London, Salisbury [printed|London, [1865.]|pp. 35. W. Cann: Plymouth, [1869?]|London, 1868|Bath, Sold by T. Cadell, etc|Privately printed: London, 1844|Санктпетербургъ, 1864|London, 1847|Санктпетербургъ, 1868|Hartford [Conn]|Portsmouth [N.H.]|Roxbury, Mass|London, Philadelphia|pp. xxxii. 325. Ward, Lock & Co.: London, 1888|pp. viii. 154. Wilson & McCormick: Glasgow, 1882|Cambridge, [1841.]|London, Hertford printed|pp. 352. Spencer Blackett: London, [1888.]|London, 1838|Manchester; Edinburgh printed|Augusta, Georgia|London, 1876|Privately printed: [Edinburgh,] 1844|D. Nutt: London, 1895|pp. vii. 76. E. Mathews: London, 1897|ff. 28. D. Nutt: London, 1893|pp. 330. J. Lane: London & New York, 1899 [1898]|pp. x. 183. J. M. Dent & Co.: London, 1896|Asunción del Paraguay|pp. xiv. William Nicol: London, 1847|Harrisburg, Pa|London? 1837.]|Buffalo, N.Y|London, Leipzig [printed|Morse Co|Taylor & Hessey|pp. 262. Griffith, Farran & Co.: London, 1886|London, 1869|Montreal, Canada|pp. viii. 206. W. Morrison & Co.: Hawick, 1898|pp. 472. J. Heywood: Manchester, 1889|Newport Pagnel|S. O. Beeton|Potsdam, Nauen [printed]|Paris, Orléans [printed]|pp. xxviii. 180. A. Gardner: Paisley, 1897|John & Daniel A. Darling|London, 1810|Ladies’ Bridge|pp. 247. Kegan Paul & Co.: London, 1888|pp. xvi. 108. Longmans & Co.: London, 1896|Edinburgh, 1867 [1866]|Bath [U.S.]|Coblenz, Leipzig [printed]|Poincot, Paris,] 1788-93|pp. iv. 175. Chapman & Hall: London, 1888|pp. x. 323. Trübner & Co.: London, 1888|pp. xvi. 151. E. Stock: London, 1887|pp. 4. [London, 1869.]|Frankfurt am Main, Prag [printed]|pp. 7. [Privately printed: Bodmin, 1887.]|London, [1874.]|pp. 23. T. Fisher Unwin: London, 1883|Paris [printed], Péronne|Edinburgh [printed] and London|Le Mans [printed], Paris|pp. 16. C. Fox: London, 1835|pp. 46. E. Mathews: London, 1898|New York, 1866|pp. 80. Andrew Churchman: Hammersmith, 1890|Dublin printed; London reprinted|Sydney, N.S.W|Augustæ Taurinorum|Frankfurt a/M|Zürich und Frauenfeld|Paisley & London|pp. xxxi. 123. Berlin, 1877|A. Strahan|Edinburgh; Longman, Hurst, Rees, Orme, & Brown|Санктпетербургъ, 1871|Königsberg i. Pr|pp. 171. J. Lane: London & New York, 1896|pp. 14. Printed for private distribution: London, 1876|Boston and New York|pp. vi. 216. John Lane: London, 1897|2 pt. Санктпетербургъ, 1853, 54|Hull & London|T. O. H. P. Burnham|Elliot Stock|Leipzig und Wien|printed at the Baptist Mission Press|pp. xii. 254. iv. Walter Scott: London, 1886|pp. xliv. 612. Griffith, Farran & Co.: London, 1888|Ve Vidni|Salt Lake City|sold by J. Newbery; M. Cooper|London: William Andrews & Co., 1898 [1897]|Bernard Lintott|London, Bruges printed|B. Law, etc|William P. Nimmo|Arkste’s & Merkus|Oxford [printed] and London|London, York [printed]|pp. 88. Digby, Long & Co.: London, [1895.]|Rio de Janeiro|London, [1861.]|pp. xii. 208. J. Young & Sons: Perth, 1898|London and Aylesbury|pp. 48. A. H. Stockwell: London, [1922.]|Willoughby & Co., etc|Nakładem i czcionkami Breitkopfa i Haertla|London, U.S.A|pp. ix. 85. Chatto & Windus: London, 1896|Burns & Oates; London|Auburn, N.Y|London, Bradford [printed]|Hubbardston, Mass|Newport & Ryde|Leipzig, London [printed|Providence, R.I|London and Edinburgh, Dublin [printed]|Worcester, [Mass.]|St. Louis, Mo|pp. xi. 202. Москва, 1891|Hobart Town|pp. 64. G. Routledge & Sons: London, [1883.]|R. Tuck & Sons: London, [1898.]|Boston & New York|pp. 81. E. Moxon & Co.: London, 1866|Utrecht, [1859?]|Cambridge [printed]; Bell & Daldy|Edinburgh, Manchester|pp. xii. 139. F. Rodda: Penzance, 1895|pp. xx. 372. William P. Nimmo: Edinburgh, 1868|Strivelin [Stirling]|pp. vi. 209. Blackwood and Sons: Edinburgh, 1888|pp. x. 228. W. Blackwood & Sons: Edinburgh and London, 1889|Gotha, London|pp. 60. Privately printed, 1876|London, Newcastle-upon-Tyne [printed]|London [printed] and Cambridge|Berne, Strasbourg [printed]|London, Ilfracombe [printed|pp. 14. W. Cann: Plymouth, [1876?]|Madison, Wis|pp. x. 283. Methuen & Co.: London, 1900|George G. Harrap & Co.: London, [1913.]|pp. xi. 273. Вятка, 1870|2 vol. F. V. White & Co.: London, 1888|pp. 87. William Heinemann: London, 1917|Winsted, Conn|pp. 59. Atlas Press: Melbourne, [1900?]|Egmore, Madras|London, Sydenham [printed]|Francfort sur le Mein|Kreuznach, Leipzig [printed]|Санктпетербургъ, 1873|London, Edinburgh and New York|Minneapolis [Minn.]|Los Angeles, Cal|Warwick and Leamington, Coventry [printed|William Blackwood & Sons|pp. 50. John Lane: London, 1896|Troy, N.Y|West Milton, Ohio|pp. ii. 80. A. W. Dawson: Newport, 1898|Delft, Rotterdam [printed|Charlestown [Mass.]|W Lipsku|Leeds: Bean & Son; Leamington: Hamblen, 1883|Windham, N.H|pp. 77. E. Mathews: London, 1897|Cambridge Mass|Worcester, Mass|E. Moxon, Son & Co|William Paterson|Alexander Strahan|Kegan Paul, Trench, & Co|D. C. Heath & Co|James R. Osgood, McIlvaine & Co|Jarrold & Sons|Bell & Daldy|V. Kalyanaram|Worthing, London [printed]|London, Royston [printed]|ff. 29. M. Ward & Co.: London and Belfast, 1895|pp. 215. въ Москвѣ, 1889|Paris, Lyon [printed]|Merida de Yucatan|Москва, 1860|3 vol. Chapman & Hall: London, 1864|London: Elliot Stock, 1897|London: E. Nutt; E. Cooke, 1733|London: D. Wilson & T. Durham, 1752|London: printed for Nicholas Vavasour, 1634|London: Macmillan & Co., pp. xl, 400. 1895|pp. xxvi, 375. London: Jackson, Walford & Hodder; 1865|pp. viii. 64. J. Debrett: London, 1789|G. Eld: London, 1608|Newcastle upon Tyne\n"
     ]
    }
   ],
   "source": [
    "print(uniquePlaces)"
   ]
  },
  {
   "cell_type": "code",
   "execution_count": 26,
   "metadata": {},
   "outputs": [],
   "source": [
    "#\n",
    "# Reinigung mit handgeschriebenen Regeln, wenn regelmässige Fehler enthalten sind\n",
    "# \n",
    "for index, row in df.iterrows(): \n",
    "    place = row['Place of Publication']\n",
    "    if 'London' in place:\n",
    "        df.loc[index,'Place of Publication'] = 'London'\n",
    "    if 'Oxford' in place:\n",
    "        df.loc[index,'Place of Publication'] = 'Oxford'\n",
    "    if ':' in place:\n",
    "        part2 = place.split(':')[1]  \n",
    "        if ',' in part2:\n",
    "            part2 = part2.split(',')[0]  \n",
    "        df.loc[index,'Place of Publication'] = part2        \n",
    "    if ',' in place:\n",
    "        part2 = place.split(',')[0]  \n",
    "        df.loc[index,'Place of Publication'] = part2           "
   ]
  },
  {
   "cell_type": "code",
   "execution_count": 27,
   "metadata": {},
   "outputs": [],
   "source": [
    "uniquePlaceList = df['Place of Publication'].unique()\n",
    "uniquePlaceListWithBlank = [s for s in uniquePlaceList if \" \" in s]\n",
    "uniquePlaces = '|'.join(uniquePlaceListWithBlank)"
   ]
  },
  {
   "cell_type": "code",
   "execution_count": 28,
   "metadata": {},
   "outputs": [
    {
     "name": "stdout",
     "output_type": "stream",
     "text": [
      "pp. 40. G. Bryan & Co: Oxford|New York|pp. 40. W. Cann: Plymouth|St. Petersburg|A. Millar|D. Appleton & Co|Ἐν Κερκυρᾳ|w Krakowie|Edinburgh; John Murray|pp. vi. 216. Hatchards: London|S. Paulo|Londini Gothorum|Great Yarmouth|pp. 64. W. Cann: Plymouth|Paris; Moulins|pp. 95. Erskine Macdonald: London|pp. xi. 59. J. Parker & Co.: Oxford|Edinburgh; reprinted by B. Dewhirst|pp. xii. 59. Thomas Burleigh: London|Frederick Warne & Co|Le Mans|v Praze|Hagae Comitum|pp. 92. Heath Cranton: London|pp. x. 429. John Murray: London|2 vol. W. Blackwood & Sons: Edinburgh|E. Lloyd|Berne & Neuchâtel|La Paz|H. D. Symonds|Bristol; Longmans & Co|Les Andelis|pp. 31. S. Harper & Sons: Barnstaple|F. & C. Rivington|Privately printed|1-3. Paris|2 Bdchn. Berlin|Stuttgart & Tübingen|v. Tarnopol|ἐν Πατραις|Citta di Castello|Wisbech; Simpkin|'s Gravenhage|Cape Town|Buenos Aires|Portland [Maine]|Torre del Greco|Porto & Braga|Madrid; Bayonne [printed]|Les Andelys|Cambridge [Mass.]|Printed for private circulation|San Francisco|Silva Junior & C.a|La Rochelle|w Warszawie|Lugduni Batavorum|v. Méjico|Manchester; Lupton Bros|С. Петербургъ|pp. 281. Hatchards: London|J. Bell|'s Hertogenbosch|Neuva York [sic]|pp. 128. R. Aickin & Co.: Belfast|pp. 64. W. & J. Kennedy: Hawick|Ἐν Ἀθηναις|pp. 359. Thomas Nelson & Sons: London|pp. 349. Griffith|ἐν Ἀθηναις|London; Scribner|St. Louis|New Haven|pp. 59. Blackwell: Oxford|Boston; Carey & Lea|pp. 110. John Lane: London|pp. 221. George Routledge & Sons: London|Bradbury & Evans|2 Bd. Naumburg|W. H. Allen & Co|Macmillan & Co|pp. 152. Москва|Chiswick Press|Neustadt an der Haardt|2 Thle. Frankfurt am Main|Bury St. Edmunds|pp. vi. 250. W. Blackwood: Edinburgh|J. & R. Tonson|James Nichol|W. P. Nimmo|pp. 332. Hurst & Blackett: London; Bolton [printed]|Frankfurt a. M|Kirby Moorside|pp. vi. 344. Chapman & Hall: London|St. Pétersbourg|A. Green|Boston [Mass.]|Franz Duncker|Harper & Bros|] Barth|2 vol. Chatto & Windus: London|Santiago de Chile|pp. 20. [Appledore Press: New-Haven|pp. 229. G. N. Morang & Company: Toronto|J. Johnson|Henry G. Bohn|Bickers & Son|William Nimmo|George Routledge & Sons|Boston [Mass.]; Cambridge [Mass.|New York [printed]|Saint Petersburg]|Halle a. S|Thomas Nelson & Sons|2 Th. Helmstedt|2 series. London|Stepney Green|Minden i. Westf|pp. 364. Digby & Long: London|Reprinted at the Auchinleck press|New Orleans|Mülheim a. d. Ruhr|New York; Kegan Paul & Co|pp. viii. 110. Constable & Co.: London|Francis & John Rivington|Pesth & Wien|Brandenburg a. H|Madrid [printed]|Nueva York|Bliss Sands & Co|Service & Paton|Macmillan & Co.; New York|Tenby [printed]|Bernard Lintot|London [printed]|С[анкт] П[етер] Б[ургъ]|pp. xiv. 199. J. Lane: London|Ipswich [printed]|F. C. & J. Rivington|John Murray|Richard Griffin & Co|Ward & Lock|Cassell Petter & Galpin|Cassell & Co|Cadell & Davies|Charles Griffin & Co|Ermanno Loescher|J. B. Lippincott Co|London: T. Nelson & Sons|Sampson Low|Boston [U.S.]|G. Kearsley|J. Ridley|Aldine House|James Bowden|Tipografia Migliaresi|Harrison & Sons|Königsberg ï. Pr|Berlin und Potsdam [printed]|pp. viii. 155. E. Mathews & J. Lane: London|Fort Smith|Dalbeattie; Castle-Douglas [printed]|] Appledore U.S. Press|Edinburgh [printed]|G. Nicol|pp. 79. Digby & Long: London|pp. 121. T. Fisher Unwin: London|Leipzig [printed] und Heidelberg|Boston (Massachusetts)|pp. 18. For private circulation: London|pp. 76. The Darien Press: Edinburgh|3 vols. Edinburgh|Ἐν Βενετιᾳ|T. Nelson & Sons|Frankfurt am Main|A[ppledore]. P[rivate]. P[ress: New-Haven|Shrewsbury & Providence Grove|John Hatchard & Son|pp. viii. 305. E. W. Allen: London|pp. viii. 305. R. Bentley & Son: London|M. Cooper|pp. xvi. 159. G. Redway: London|Clermont Ferrand|pp. 438. J. Duffy & Co.: Dublin|Berlin & Hamburg|St. Helena|Freiburg im Breisgau|pp. 58. E. T. Heron & Co.: London|we Lwowie|w Lwowie|St. Helier]|4 vol. The Century Co.: New York|G. J. Parris|Santiago [Chilo.]|Freiburg i. B|Au Meschacébé [Mons]|Melbourne & Ballarat|Boston [U.S.]; Cambridge [U.S. printed]|Wien [printed]|Saint Petersburg|w Lipsku|v Č. Brodě|Harrison & Co|Richard Bentley & Son|Ginn & Co|Rouen [printed]|pp. xv. 376. W. E. Clegg: Oldham|James Parker & Co|pp. li. 397. въ Типографіи Департамента Народнаго Просвѣщенія: Санктпетербургъ|at the Cross of Dumbarton|Baltimore [U.S.]|pp. 25. D. Nutt; In the Strand [London]|1-3. Edinburgh|Geo. E. Over|pp. 55. Macmillan & Co.: London|Boston [Mass|pp. 40. Hodder & Stoughton: London|Remington & Co|pp. 67. Chapman & Hall: London|Sainte-Anne de La Pocatiere|Graham's Town|London; Norwood|pp. 112. Санктпетербург|pp. viii. 291. Harper & Bros.: New York|R. Pau|Alexandra and Cairo|Parker Son and Bourne|pp. 36. Private Impression: [London|La Haye|Hartford [Conn.]|Norwich [Conn.]|Tunbridge Wells|Exeter (New Hampshire)|Paris [printed]|pp. 62. J. Heywood: Manchester|2 vol. R. Bentley & Son: London; Guildford [printed]|Città di Castello|3 series. Leamington|pp. 69. London|Glasgow & Edinburgh|Buenos Ayres|pp. xii. 212. Longmans & Co.: London|pp. 304. Longmans & Co.: London|pp. 8. Privately printed: Plymouth|Rostock & Schwerin|Leipzig & Wien|St. John's|pp. xx. 137 [138]. Ward & Downey: London|pp. 76. E. Mathews: London|pp. 28. Printed for the Author: London|pp. 53. J. Cundall: London|pp. xxvii. 507. Printed by J. S. Toothill: Bradford|pp. 471. Санктпетербургъ|У Бѣограду|pp. viii. 236. Санктпетербургъ|V Praze|pp. xiv. 233. W. Blackwood and Sons: Edinburgh and London|] Edinburgh|pp. 15. J. W. Southgate: London|2 том. Санктпетербургъ|London: Religious Tract Society|Chapman & Hall|Rocca S. Casciano|Berlin und Hamburg|] Birmingham|Home Publishing Co|E. Nister: London; Nuremberg [printed|J. Clarke & Co.: London|London & New York|Buenos Airês|pp. 161. J. F. Shaw and Co.: London|pp. 35. W. Cann: Plymouth|Privately printed: London|Hartford [Conn]|Portsmouth [N.H.]|pp. xxxii. 325. Ward|pp. viii. 154. Wilson & McCormick: Glasgow|pp. 352. Spencer Blackett: London|Manchester; Edinburgh printed|Privately printed: [Edinburgh|D. Nutt: London|pp. vii. 76. E. Mathews: London|ff. 28. D. Nutt: London|pp. 330. J. Lane: London & New York|pp. x. 183. J. M. Dent & Co.: London|Asunción del Paraguay|pp. xiv. William Nicol: London|Morse Co|Taylor & Hessey|pp. 262. Griffith|pp. viii. 206. W. Morrison & Co.: Hawick|pp. 472. J. Heywood: Manchester|Newport Pagnel|S. O. Beeton|pp. xxviii. 180. A. Gardner: Paisley|John & Daniel A. Darling|Ladies’ Bridge|pp. 247. Kegan Paul & Co.: London|pp. xvi. 108. Longmans & Co.: London|Bath [U.S.]|pp. iv. 175. Chapman & Hall: London|pp. x. 323. Trübner & Co.: London|pp. xvi. 151. E. Stock: London|pp. 4. [London|pp. 7. [Privately printed: Bodmin|pp. 23. T. Fisher Unwin: London|Le Mans [printed]|pp. 16. C. Fox: London|pp. 46. E. Mathews: London|pp. 80. Andrew Churchman: Hammersmith|Augustæ Taurinorum|Frankfurt a/M|Zürich und Frauenfeld|pp. xxxi. 123. Berlin|A. Strahan|Edinburgh; Longman|Königsberg i. Pr|pp. 171. J. Lane: London & New York|pp. 14. Printed for private distribution: London|Boston and New York|pp. vi. 216. John Lane: London|2 pt. Санктпетербургъ|T. O. H. P. Burnham|Elliot Stock|Leipzig und Wien|printed at the Baptist Mission Press|pp. xii. 254. iv. Walter Scott: London|pp. xliv. 612. Griffith|Ve Vidni|Salt Lake City|sold by J. Newbery; M. Cooper|London: William Andrews & Co.|Bernard Lintott|B. Law|William P. Nimmo|Arkste’s & Merkus|pp. 88. Digby|Rio de Janeiro|pp. xii. 208. J. Young & Sons: Perth|pp. 48. A. H. Stockwell: London|Willoughby & Co.|Nakładem i czcionkami Breitkopfa i Haertla|pp. ix. 85. Chatto & Windus: London|Newport & Ryde|London and Edinburgh|pp. xi. 202. Москва|Hobart Town|pp. 64. G. Routledge & Sons: London|R. Tuck & Sons: London|Boston & New York|pp. 81. E. Moxon & Co.: London|Cambridge [printed]; Bell & Daldy|pp. xii. 139. F. Rodda: Penzance|pp. xx. 372. William P. Nimmo: Edinburgh|Strivelin [Stirling]|pp. vi. 209. Blackwood and Sons: Edinburgh|pp. x. 228. W. Blackwood & Sons: Edinburgh and London|pp. 60. Privately printed|pp. 14. W. Cann: Plymouth|pp. x. 283. Methuen & Co.: London|George G. Harrap & Co.: London|pp. xi. 273. Вятка|2 vol. F. V. White & Co.: London|pp. 87. William Heinemann: London|pp. 59. Atlas Press: Melbourne|Francfort sur le Mein|Minneapolis [Minn.]|Los Angeles|Warwick and Leamington|William Blackwood & Sons|pp. 50. John Lane: London|West Milton|pp. ii. 80. A. W. Dawson: Newport|Charlestown [Mass.]|W Lipsku|Leeds: Bean & Son; Leamington: Hamblen|pp. 77. E. Mathews: London|Cambridge Mass|E. Moxon|William Paterson|Alexander Strahan|Kegan Paul|D. C. Heath & Co|James R. Osgood|Jarrold & Sons|Bell & Daldy|V. Kalyanaram|ff. 29. M. Ward & Co.: London and Belfast|pp. 215. въ Москвѣ|Merida de Yucatan|3 vol. Chapman & Hall: London|London: Elliot Stock|London: E. Nutt; E. Cooke|London: D. Wilson & T. Durham|London: printed for Nicholas Vavasour|London: Macmillan & Co.|pp. xxvi|pp. viii. 64. J. Debrett: London|G. Eld: London|Newcastle upon Tyne\n"
     ]
    }
   ],
   "source": [
    "print(uniquePlaces)"
   ]
  },
  {
   "cell_type": "code",
   "execution_count": 29,
   "metadata": {},
   "outputs": [
    {
     "data": {
      "text/html": [
       "<div>\n",
       "<style scoped>\n",
       "    .dataframe tbody tr th:only-of-type {\n",
       "        vertical-align: middle;\n",
       "    }\n",
       "\n",
       "    .dataframe tbody tr th {\n",
       "        vertical-align: top;\n",
       "    }\n",
       "\n",
       "    .dataframe thead th {\n",
       "        text-align: right;\n",
       "    }\n",
       "</style>\n",
       "<table border=\"1\" class=\"dataframe\">\n",
       "  <thead>\n",
       "    <tr style=\"text-align: right;\">\n",
       "      <th></th>\n",
       "      <th>Place of Publication</th>\n",
       "      <th>Date of Publication</th>\n",
       "      <th>Publisher</th>\n",
       "      <th>Title</th>\n",
       "      <th>Author</th>\n",
       "      <th>Flickr URL</th>\n",
       "    </tr>\n",
       "    <tr>\n",
       "      <th>Identifier</th>\n",
       "      <th></th>\n",
       "      <th></th>\n",
       "      <th></th>\n",
       "      <th></th>\n",
       "      <th></th>\n",
       "      <th></th>\n",
       "    </tr>\n",
       "  </thead>\n",
       "  <tbody>\n",
       "    <tr>\n",
       "      <th>206</th>\n",
       "      <td>London</td>\n",
       "      <td>1879.0</td>\n",
       "      <td>S. Tinsley &amp; Co.</td>\n",
       "      <td>Walter Forbes. [A novel.] By A. A</td>\n",
       "      <td>A. A.</td>\n",
       "      <td>http://www.flickr.com/photos/britishlibrary/ta...</td>\n",
       "    </tr>\n",
       "    <tr>\n",
       "      <th>216</th>\n",
       "      <td>London</td>\n",
       "      <td>1868.0</td>\n",
       "      <td>Virtue &amp; Co.</td>\n",
       "      <td>All for Greed. [A novel. The dedication signed...</td>\n",
       "      <td>A., A. A.</td>\n",
       "      <td>http://www.flickr.com/photos/britishlibrary/ta...</td>\n",
       "    </tr>\n",
       "    <tr>\n",
       "      <th>218</th>\n",
       "      <td>London</td>\n",
       "      <td>1869.0</td>\n",
       "      <td>Bradbury, Evans &amp; Co.</td>\n",
       "      <td>Love the Avenger. By the author of “All for Gr...</td>\n",
       "      <td>A., A. A.</td>\n",
       "      <td>http://www.flickr.com/photos/britishlibrary/ta...</td>\n",
       "    </tr>\n",
       "    <tr>\n",
       "      <th>472</th>\n",
       "      <td>London</td>\n",
       "      <td>1851.0</td>\n",
       "      <td>James Darling</td>\n",
       "      <td>Welsh Sketches, chiefly ecclesiastical, to the...</td>\n",
       "      <td>A., E. S.</td>\n",
       "      <td>http://www.flickr.com/photos/britishlibrary/ta...</td>\n",
       "    </tr>\n",
       "    <tr>\n",
       "      <th>480</th>\n",
       "      <td>London</td>\n",
       "      <td>1857.0</td>\n",
       "      <td>Wertheim &amp; Macintosh</td>\n",
       "      <td>[The World in which I live, and my place in it...</td>\n",
       "      <td>A., E. S.</td>\n",
       "      <td>http://www.flickr.com/photos/britishlibrary/ta...</td>\n",
       "    </tr>\n",
       "    <tr>\n",
       "      <th>481</th>\n",
       "      <td>London</td>\n",
       "      <td>1875.0</td>\n",
       "      <td>William Macintosh</td>\n",
       "      <td>[The World in which I live, and my place in it...</td>\n",
       "      <td>A., E. S.</td>\n",
       "      <td>http://www.flickr.com/photos/britishlibrary/ta...</td>\n",
       "    </tr>\n",
       "    <tr>\n",
       "      <th>519</th>\n",
       "      <td>London</td>\n",
       "      <td>1872.0</td>\n",
       "      <td>The Author</td>\n",
       "      <td>Lagonells. By the author of Darmayne (F. E. A....</td>\n",
       "      <td>A., F. E.</td>\n",
       "      <td>http://www.flickr.com/photos/britishlibrary/ta...</td>\n",
       "    </tr>\n",
       "    <tr>\n",
       "      <th>667</th>\n",
       "      <td>pp. 40. G. Bryan &amp; Co: Oxford</td>\n",
       "      <td>1900.0</td>\n",
       "      <td>NaN</td>\n",
       "      <td>The Coming of Spring, and other poems. By J. A...</td>\n",
       "      <td>A., J.|A., J.</td>\n",
       "      <td>http://www.flickr.com/photos/britishlibrary/ta...</td>\n",
       "    </tr>\n",
       "    <tr>\n",
       "      <th>874</th>\n",
       "      <td>London</td>\n",
       "      <td>1676.0</td>\n",
       "      <td>NaN</td>\n",
       "      <td>A Warning to the inhabitants of England, and L...</td>\n",
       "      <td>Remaʿ.</td>\n",
       "      <td>http://www.flickr.com/photos/britishlibrary/ta...</td>\n",
       "    </tr>\n",
       "    <tr>\n",
       "      <th>1143</th>\n",
       "      <td>London</td>\n",
       "      <td>1679.0</td>\n",
       "      <td>NaN</td>\n",
       "      <td>A Satyr against Vertue. (A poem: supposed to b...</td>\n",
       "      <td>A., T.</td>\n",
       "      <td>http://www.flickr.com/photos/britishlibrary/ta...</td>\n",
       "    </tr>\n",
       "  </tbody>\n",
       "</table>\n",
       "</div>"
      ],
      "text/plain": [
       "                     Place of Publication  Date of Publication  \\\n",
       "Identifier                                                       \n",
       "206                                London               1879.0   \n",
       "216                                London               1868.0   \n",
       "218                                London               1869.0   \n",
       "472                                London               1851.0   \n",
       "480                                London               1857.0   \n",
       "481                                London               1875.0   \n",
       "519                                London               1872.0   \n",
       "667         pp. 40. G. Bryan & Co: Oxford               1900.0   \n",
       "874                                London               1676.0   \n",
       "1143                               London               1679.0   \n",
       "\n",
       "                        Publisher  \\\n",
       "Identifier                          \n",
       "206              S. Tinsley & Co.   \n",
       "216                  Virtue & Co.   \n",
       "218         Bradbury, Evans & Co.   \n",
       "472                 James Darling   \n",
       "480          Wertheim & Macintosh   \n",
       "481             William Macintosh   \n",
       "519                    The Author   \n",
       "667                           NaN   \n",
       "874                           NaN   \n",
       "1143                          NaN   \n",
       "\n",
       "                                                        Title         Author  \\\n",
       "Identifier                                                                     \n",
       "206                         Walter Forbes. [A novel.] By A. A          A. A.   \n",
       "216         All for Greed. [A novel. The dedication signed...      A., A. A.   \n",
       "218         Love the Avenger. By the author of “All for Gr...      A., A. A.   \n",
       "472         Welsh Sketches, chiefly ecclesiastical, to the...      A., E. S.   \n",
       "480         [The World in which I live, and my place in it...      A., E. S.   \n",
       "481         [The World in which I live, and my place in it...      A., E. S.   \n",
       "519         Lagonells. By the author of Darmayne (F. E. A....      A., F. E.   \n",
       "667         The Coming of Spring, and other poems. By J. A...  A., J.|A., J.   \n",
       "874         A Warning to the inhabitants of England, and L...         Remaʿ.   \n",
       "1143        A Satyr against Vertue. (A poem: supposed to b...         A., T.   \n",
       "\n",
       "                                                   Flickr URL  \n",
       "Identifier                                                     \n",
       "206         http://www.flickr.com/photos/britishlibrary/ta...  \n",
       "216         http://www.flickr.com/photos/britishlibrary/ta...  \n",
       "218         http://www.flickr.com/photos/britishlibrary/ta...  \n",
       "472         http://www.flickr.com/photos/britishlibrary/ta...  \n",
       "480         http://www.flickr.com/photos/britishlibrary/ta...  \n",
       "481         http://www.flickr.com/photos/britishlibrary/ta...  \n",
       "519         http://www.flickr.com/photos/britishlibrary/ta...  \n",
       "667         http://www.flickr.com/photos/britishlibrary/ta...  \n",
       "874         http://www.flickr.com/photos/britishlibrary/ta...  \n",
       "1143        http://www.flickr.com/photos/britishlibrary/ta...  "
      ]
     },
     "execution_count": 29,
     "metadata": {},
     "output_type": "execute_result"
    }
   ],
   "source": [
    "df.head(10)"
   ]
  },
  {
   "cell_type": "markdown",
   "metadata": {},
   "source": [
    "## Diskussion\n",
    "\n",
    "Was tun wir, wenn in einem CSV File die Kommazahlen in der lokalen Form enthalten sind?\n",
    "<img src=\"info.png\" align=\"left\"/> "
   ]
  },
  {
   "cell_type": "markdown",
   "metadata": {},
   "source": [
    "# Beispiel Zusammenführung von Zeitreihen\n",
    "\n",
    "Bei Zeitreihen kommt die Zeit als wichtige Information dazu. Die Zeit ist oftmals als Index verwendet.\n",
    "Das Ziel dieses Teiles ist es aus drei Datensätzen einen einheitlichen Datensatz mit Zeitreihen zu erzeugen.\n"
   ]
  },
  {
   "cell_type": "code",
   "execution_count": 30,
   "metadata": {},
   "outputs": [],
   "source": [
    "dow     = pd.read_csv('data/dowj.csv')\n",
    "oil     = pd.read_csv('data/brentoil.csv')\n",
    "umcsi   = pd.read_csv('data/tbmics.csv')"
   ]
  },
  {
   "cell_type": "code",
   "execution_count": 31,
   "metadata": {},
   "outputs": [
    {
     "data": {
      "text/html": [
       "<div>\n",
       "<style scoped>\n",
       "    .dataframe tbody tr th:only-of-type {\n",
       "        vertical-align: middle;\n",
       "    }\n",
       "\n",
       "    .dataframe tbody tr th {\n",
       "        vertical-align: top;\n",
       "    }\n",
       "\n",
       "    .dataframe thead th {\n",
       "        text-align: right;\n",
       "    }\n",
       "</style>\n",
       "<table border=\"1\" class=\"dataframe\">\n",
       "  <thead>\n",
       "    <tr style=\"text-align: right;\">\n",
       "      <th></th>\n",
       "      <th>Date</th>\n",
       "      <th>Open</th>\n",
       "      <th>High</th>\n",
       "      <th>Low</th>\n",
       "      <th>Close</th>\n",
       "      <th>Adj Close</th>\n",
       "      <th>Volume</th>\n",
       "    </tr>\n",
       "  </thead>\n",
       "  <tbody>\n",
       "    <tr>\n",
       "      <th>0</th>\n",
       "      <td>2019-03-04</td>\n",
       "      <td>26122.189453</td>\n",
       "      <td>26155.980469</td>\n",
       "      <td>25611.550781</td>\n",
       "      <td>25819.650391</td>\n",
       "      <td>25819.650391</td>\n",
       "      <td>295510000</td>\n",
       "    </tr>\n",
       "    <tr>\n",
       "      <th>1</th>\n",
       "      <td>2019-03-05</td>\n",
       "      <td>25829.070313</td>\n",
       "      <td>25877.150391</td>\n",
       "      <td>25725.630859</td>\n",
       "      <td>25806.630859</td>\n",
       "      <td>25806.630859</td>\n",
       "      <td>252260000</td>\n",
       "    </tr>\n",
       "    <tr>\n",
       "      <th>2</th>\n",
       "      <td>2019-03-06</td>\n",
       "      <td>25818.759766</td>\n",
       "      <td>25837.609375</td>\n",
       "      <td>25633.710938</td>\n",
       "      <td>25673.460938</td>\n",
       "      <td>25673.460938</td>\n",
       "      <td>256250000</td>\n",
       "    </tr>\n",
       "    <tr>\n",
       "      <th>3</th>\n",
       "      <td>2019-03-07</td>\n",
       "      <td>25645.449219</td>\n",
       "      <td>25645.449219</td>\n",
       "      <td>25352.550781</td>\n",
       "      <td>25473.230469</td>\n",
       "      <td>25473.230469</td>\n",
       "      <td>289140000</td>\n",
       "    </tr>\n",
       "    <tr>\n",
       "      <th>4</th>\n",
       "      <td>2019-03-08</td>\n",
       "      <td>25347.380859</td>\n",
       "      <td>25466.140625</td>\n",
       "      <td>25252.460938</td>\n",
       "      <td>25450.240234</td>\n",
       "      <td>25450.240234</td>\n",
       "      <td>270500000</td>\n",
       "    </tr>\n",
       "  </tbody>\n",
       "</table>\n",
       "</div>"
      ],
      "text/plain": [
       "         Date          Open          High           Low         Close  \\\n",
       "0  2019-03-04  26122.189453  26155.980469  25611.550781  25819.650391   \n",
       "1  2019-03-05  25829.070313  25877.150391  25725.630859  25806.630859   \n",
       "2  2019-03-06  25818.759766  25837.609375  25633.710938  25673.460938   \n",
       "3  2019-03-07  25645.449219  25645.449219  25352.550781  25473.230469   \n",
       "4  2019-03-08  25347.380859  25466.140625  25252.460938  25450.240234   \n",
       "\n",
       "      Adj Close     Volume  \n",
       "0  25819.650391  295510000  \n",
       "1  25806.630859  252260000  \n",
       "2  25673.460938  256250000  \n",
       "3  25473.230469  289140000  \n",
       "4  25450.240234  270500000  "
      ]
     },
     "execution_count": 31,
     "metadata": {},
     "output_type": "execute_result"
    }
   ],
   "source": [
    "dow.head()"
   ]
  },
  {
   "cell_type": "code",
   "execution_count": 32,
   "metadata": {},
   "outputs": [
    {
     "data": {
      "text/html": [
       "<div>\n",
       "<style scoped>\n",
       "    .dataframe tbody tr th:only-of-type {\n",
       "        vertical-align: middle;\n",
       "    }\n",
       "\n",
       "    .dataframe tbody tr th {\n",
       "        vertical-align: top;\n",
       "    }\n",
       "\n",
       "    .dataframe thead th {\n",
       "        text-align: right;\n",
       "    }\n",
       "</style>\n",
       "<table border=\"1\" class=\"dataframe\">\n",
       "  <thead>\n",
       "    <tr style=\"text-align: right;\">\n",
       "      <th></th>\n",
       "      <th>Date</th>\n",
       "      <th>Open</th>\n",
       "      <th>High</th>\n",
       "      <th>Low</th>\n",
       "      <th>Close</th>\n",
       "      <th>Adj Close</th>\n",
       "      <th>Volume</th>\n",
       "    </tr>\n",
       "  </thead>\n",
       "  <tbody>\n",
       "    <tr>\n",
       "      <th>247</th>\n",
       "      <td>2020-02-25</td>\n",
       "      <td>28037.650391</td>\n",
       "      <td>28149.199219</td>\n",
       "      <td>26997.619141</td>\n",
       "      <td>27081.359375</td>\n",
       "      <td>27081.359375</td>\n",
       "      <td>513270000</td>\n",
       "    </tr>\n",
       "    <tr>\n",
       "      <th>248</th>\n",
       "      <td>2020-02-26</td>\n",
       "      <td>27159.460938</td>\n",
       "      <td>27542.779297</td>\n",
       "      <td>26890.970703</td>\n",
       "      <td>26957.589844</td>\n",
       "      <td>26957.589844</td>\n",
       "      <td>472450000</td>\n",
       "    </tr>\n",
       "    <tr>\n",
       "      <th>249</th>\n",
       "      <td>2020-02-27</td>\n",
       "      <td>26526.000000</td>\n",
       "      <td>26775.310547</td>\n",
       "      <td>25752.820313</td>\n",
       "      <td>25766.640625</td>\n",
       "      <td>25766.640625</td>\n",
       "      <td>664980000</td>\n",
       "    </tr>\n",
       "    <tr>\n",
       "      <th>250</th>\n",
       "      <td>2020-02-28</td>\n",
       "      <td>25270.830078</td>\n",
       "      <td>25494.240234</td>\n",
       "      <td>24681.009766</td>\n",
       "      <td>25409.359375</td>\n",
       "      <td>25409.359375</td>\n",
       "      <td>915990000</td>\n",
       "    </tr>\n",
       "    <tr>\n",
       "      <th>251</th>\n",
       "      <td>2020-03-02</td>\n",
       "      <td>25590.509766</td>\n",
       "      <td>26205.060547</td>\n",
       "      <td>25391.960938</td>\n",
       "      <td>26076.240234</td>\n",
       "      <td>26076.240234</td>\n",
       "      <td>281343123</td>\n",
       "    </tr>\n",
       "  </tbody>\n",
       "</table>\n",
       "</div>"
      ],
      "text/plain": [
       "           Date          Open          High           Low         Close  \\\n",
       "247  2020-02-25  28037.650391  28149.199219  26997.619141  27081.359375   \n",
       "248  2020-02-26  27159.460938  27542.779297  26890.970703  26957.589844   \n",
       "249  2020-02-27  26526.000000  26775.310547  25752.820313  25766.640625   \n",
       "250  2020-02-28  25270.830078  25494.240234  24681.009766  25409.359375   \n",
       "251  2020-03-02  25590.509766  26205.060547  25391.960938  26076.240234   \n",
       "\n",
       "        Adj Close     Volume  \n",
       "247  27081.359375  513270000  \n",
       "248  26957.589844  472450000  \n",
       "249  25766.640625  664980000  \n",
       "250  25409.359375  915990000  \n",
       "251  26076.240234  281343123  "
      ]
     },
     "execution_count": 32,
     "metadata": {},
     "output_type": "execute_result"
    }
   ],
   "source": [
    "dow.tail()"
   ]
  },
  {
   "cell_type": "code",
   "execution_count": 33,
   "metadata": {},
   "outputs": [
    {
     "data": {
      "text/html": [
       "<div>\n",
       "<style scoped>\n",
       "    .dataframe tbody tr th:only-of-type {\n",
       "        vertical-align: middle;\n",
       "    }\n",
       "\n",
       "    .dataframe tbody tr th {\n",
       "        vertical-align: top;\n",
       "    }\n",
       "\n",
       "    .dataframe thead th {\n",
       "        text-align: right;\n",
       "    }\n",
       "</style>\n",
       "<table border=\"1\" class=\"dataframe\">\n",
       "  <thead>\n",
       "    <tr style=\"text-align: right;\">\n",
       "      <th></th>\n",
       "      <th>DATE</th>\n",
       "      <th>MCOILBRENTEU</th>\n",
       "    </tr>\n",
       "  </thead>\n",
       "  <tbody>\n",
       "    <tr>\n",
       "      <th>0</th>\n",
       "      <td>2019-01-01</td>\n",
       "      <td>59.41</td>\n",
       "    </tr>\n",
       "    <tr>\n",
       "      <th>1</th>\n",
       "      <td>2019-02-01</td>\n",
       "      <td>63.96</td>\n",
       "    </tr>\n",
       "    <tr>\n",
       "      <th>2</th>\n",
       "      <td>2019-03-01</td>\n",
       "      <td>66.14</td>\n",
       "    </tr>\n",
       "    <tr>\n",
       "      <th>3</th>\n",
       "      <td>2019-04-01</td>\n",
       "      <td>71.23</td>\n",
       "    </tr>\n",
       "    <tr>\n",
       "      <th>4</th>\n",
       "      <td>2019-05-01</td>\n",
       "      <td>71.32</td>\n",
       "    </tr>\n",
       "  </tbody>\n",
       "</table>\n",
       "</div>"
      ],
      "text/plain": [
       "         DATE  MCOILBRENTEU\n",
       "0  2019-01-01         59.41\n",
       "1  2019-02-01         63.96\n",
       "2  2019-03-01         66.14\n",
       "3  2019-04-01         71.23\n",
       "4  2019-05-01         71.32"
      ]
     },
     "execution_count": 33,
     "metadata": {},
     "output_type": "execute_result"
    }
   ],
   "source": [
    "oil.head()"
   ]
  },
  {
   "cell_type": "code",
   "execution_count": 34,
   "metadata": {},
   "outputs": [
    {
     "data": {
      "text/html": [
       "<div>\n",
       "<style scoped>\n",
       "    .dataframe tbody tr th:only-of-type {\n",
       "        vertical-align: middle;\n",
       "    }\n",
       "\n",
       "    .dataframe tbody tr th {\n",
       "        vertical-align: top;\n",
       "    }\n",
       "\n",
       "    .dataframe thead th {\n",
       "        text-align: right;\n",
       "    }\n",
       "</style>\n",
       "<table border=\"1\" class=\"dataframe\">\n",
       "  <thead>\n",
       "    <tr style=\"text-align: right;\">\n",
       "      <th></th>\n",
       "      <th>DATE</th>\n",
       "      <th>MCOILBRENTEU</th>\n",
       "    </tr>\n",
       "  </thead>\n",
       "  <tbody>\n",
       "    <tr>\n",
       "      <th>8</th>\n",
       "      <td>2019-09-01</td>\n",
       "      <td>62.83</td>\n",
       "    </tr>\n",
       "    <tr>\n",
       "      <th>9</th>\n",
       "      <td>2019-10-01</td>\n",
       "      <td>59.71</td>\n",
       "    </tr>\n",
       "    <tr>\n",
       "      <th>10</th>\n",
       "      <td>2019-11-01</td>\n",
       "      <td>63.21</td>\n",
       "    </tr>\n",
       "    <tr>\n",
       "      <th>11</th>\n",
       "      <td>2019-12-01</td>\n",
       "      <td>67.31</td>\n",
       "    </tr>\n",
       "    <tr>\n",
       "      <th>12</th>\n",
       "      <td>2020-01-01</td>\n",
       "      <td>63.83</td>\n",
       "    </tr>\n",
       "  </tbody>\n",
       "</table>\n",
       "</div>"
      ],
      "text/plain": [
       "          DATE  MCOILBRENTEU\n",
       "8   2019-09-01         62.83\n",
       "9   2019-10-01         59.71\n",
       "10  2019-11-01         63.21\n",
       "11  2019-12-01         67.31\n",
       "12  2020-01-01         63.83"
      ]
     },
     "execution_count": 34,
     "metadata": {},
     "output_type": "execute_result"
    }
   ],
   "source": [
    "oil.tail()"
   ]
  },
  {
   "cell_type": "code",
   "execution_count": 35,
   "metadata": {},
   "outputs": [
    {
     "data": {
      "text/html": [
       "<div>\n",
       "<style scoped>\n",
       "    .dataframe tbody tr th:only-of-type {\n",
       "        vertical-align: middle;\n",
       "    }\n",
       "\n",
       "    .dataframe tbody tr th {\n",
       "        vertical-align: top;\n",
       "    }\n",
       "\n",
       "    .dataframe thead th {\n",
       "        text-align: right;\n",
       "    }\n",
       "</style>\n",
       "<table border=\"1\" class=\"dataframe\">\n",
       "  <thead>\n",
       "    <tr style=\"text-align: right;\">\n",
       "      <th></th>\n",
       "      <th>Month</th>\n",
       "      <th>YYYY</th>\n",
       "      <th>ICS_ALL</th>\n",
       "    </tr>\n",
       "  </thead>\n",
       "  <tbody>\n",
       "    <tr>\n",
       "      <th>0</th>\n",
       "      <td>November</td>\n",
       "      <td>1952</td>\n",
       "      <td>86.2</td>\n",
       "    </tr>\n",
       "    <tr>\n",
       "      <th>1</th>\n",
       "      <td>February</td>\n",
       "      <td>1953</td>\n",
       "      <td>90.7</td>\n",
       "    </tr>\n",
       "    <tr>\n",
       "      <th>2</th>\n",
       "      <td>August</td>\n",
       "      <td>1953</td>\n",
       "      <td>80.8</td>\n",
       "    </tr>\n",
       "    <tr>\n",
       "      <th>3</th>\n",
       "      <td>November</td>\n",
       "      <td>1953</td>\n",
       "      <td>80.7</td>\n",
       "    </tr>\n",
       "    <tr>\n",
       "      <th>4</th>\n",
       "      <td>February</td>\n",
       "      <td>1954</td>\n",
       "      <td>82.0</td>\n",
       "    </tr>\n",
       "  </tbody>\n",
       "</table>\n",
       "</div>"
      ],
      "text/plain": [
       "      Month  YYYY  ICS_ALL\n",
       "0  November  1952     86.2\n",
       "1  February  1953     90.7\n",
       "2    August  1953     80.8\n",
       "3  November  1953     80.7\n",
       "4  February  1954     82.0"
      ]
     },
     "execution_count": 35,
     "metadata": {},
     "output_type": "execute_result"
    }
   ],
   "source": [
    "umcsi.head()"
   ]
  },
  {
   "cell_type": "code",
   "execution_count": 36,
   "metadata": {},
   "outputs": [
    {
     "data": {
      "text/html": [
       "<div>\n",
       "<style scoped>\n",
       "    .dataframe tbody tr th:only-of-type {\n",
       "        vertical-align: middle;\n",
       "    }\n",
       "\n",
       "    .dataframe tbody tr th {\n",
       "        vertical-align: top;\n",
       "    }\n",
       "\n",
       "    .dataframe thead th {\n",
       "        text-align: right;\n",
       "    }\n",
       "</style>\n",
       "<table border=\"1\" class=\"dataframe\">\n",
       "  <thead>\n",
       "    <tr style=\"text-align: right;\">\n",
       "      <th></th>\n",
       "      <th>Month</th>\n",
       "      <th>YYYY</th>\n",
       "      <th>ICS_ALL</th>\n",
       "    </tr>\n",
       "  </thead>\n",
       "  <tbody>\n",
       "    <tr>\n",
       "      <th>593</th>\n",
       "      <td>October</td>\n",
       "      <td>2019</td>\n",
       "      <td>95.5</td>\n",
       "    </tr>\n",
       "    <tr>\n",
       "      <th>594</th>\n",
       "      <td>November</td>\n",
       "      <td>2019</td>\n",
       "      <td>96.8</td>\n",
       "    </tr>\n",
       "    <tr>\n",
       "      <th>595</th>\n",
       "      <td>December</td>\n",
       "      <td>2019</td>\n",
       "      <td>99.3</td>\n",
       "    </tr>\n",
       "    <tr>\n",
       "      <th>596</th>\n",
       "      <td>January</td>\n",
       "      <td>2020</td>\n",
       "      <td>99.8</td>\n",
       "    </tr>\n",
       "    <tr>\n",
       "      <th>597</th>\n",
       "      <td>February</td>\n",
       "      <td>2020</td>\n",
       "      <td>101.0</td>\n",
       "    </tr>\n",
       "  </tbody>\n",
       "</table>\n",
       "</div>"
      ],
      "text/plain": [
       "        Month  YYYY  ICS_ALL\n",
       "593   October  2019     95.5\n",
       "594  November  2019     96.8\n",
       "595  December  2019     99.3\n",
       "596   January  2020     99.8\n",
       "597  February  2020    101.0"
      ]
     },
     "execution_count": 36,
     "metadata": {},
     "output_type": "execute_result"
    }
   ],
   "source": [
    "umcsi.tail()"
   ]
  },
  {
   "cell_type": "markdown",
   "metadata": {},
   "source": [
    "## Prüfen auf NaN oder NULL"
   ]
  },
  {
   "cell_type": "code",
   "execution_count": 37,
   "metadata": {},
   "outputs": [
    {
     "data": {
      "text/plain": [
       "1"
      ]
     },
     "execution_count": 37,
     "metadata": {},
     "output_type": "execute_result"
    }
   ],
   "source": [
    "#\n",
    "# Prüfe Dow auf Nan\n",
    "#\n",
    "dow.isnull().sum().sum()"
   ]
  },
  {
   "cell_type": "code",
   "execution_count": 38,
   "metadata": {},
   "outputs": [
    {
     "data": {
      "text/plain": [
       "Date         0\n",
       "Open         0\n",
       "High         1\n",
       "Low          0\n",
       "Close        0\n",
       "Adj Close    0\n",
       "Volume       0\n",
       "dtype: int64"
      ]
     },
     "execution_count": 38,
     "metadata": {},
     "output_type": "execute_result"
    }
   ],
   "source": [
    "#\n",
    "# Suche nach der Spalte mit dem NaN\n",
    "#\n",
    "dow.isnull().sum()"
   ]
  },
  {
   "cell_type": "code",
   "execution_count": 39,
   "metadata": {},
   "outputs": [],
   "source": [
    "#\n",
    "# Interpolieren der fehlenden Werte (Alternativen: fixer Wert, Mittelwert, Zusammenziehen, ...)\n",
    "#\n",
    "dow['High'] = dow['High'].fillna(dow['High'].interpolate())"
   ]
  },
  {
   "cell_type": "code",
   "execution_count": 40,
   "metadata": {},
   "outputs": [
    {
     "data": {
      "text/plain": [
       "Date         0\n",
       "Open         0\n",
       "High         0\n",
       "Low          0\n",
       "Close        0\n",
       "Adj Close    0\n",
       "Volume       0\n",
       "dtype: int64"
      ]
     },
     "execution_count": 40,
     "metadata": {},
     "output_type": "execute_result"
    }
   ],
   "source": [
    "dow.isnull().sum()"
   ]
  },
  {
   "cell_type": "code",
   "execution_count": 41,
   "metadata": {},
   "outputs": [
    {
     "data": {
      "text/plain": [
       "0"
      ]
     },
     "execution_count": 41,
     "metadata": {},
     "output_type": "execute_result"
    }
   ],
   "source": [
    "#\n",
    "# Prüfe Öl auf NaN\n",
    "#\n",
    "oil.isnull().sum().sum()"
   ]
  },
  {
   "cell_type": "code",
   "execution_count": 42,
   "metadata": {},
   "outputs": [
    {
     "data": {
      "text/plain": [
       "0"
      ]
     },
     "execution_count": 42,
     "metadata": {},
     "output_type": "execute_result"
    }
   ],
   "source": [
    "umcsi.isnull().sum().sum()"
   ]
  },
  {
   "cell_type": "markdown",
   "metadata": {},
   "source": [
    "## Entfernen unnotwendiger Spalten und Anpassen der Namen (DOW)"
   ]
  },
  {
   "cell_type": "code",
   "execution_count": 43,
   "metadata": {},
   "outputs": [],
   "source": [
    "#\n",
    "# Entfernen von unnotwendigen Spalten\n",
    "#\n",
    "dow.drop(['Open','High','Low','Adj Close','Volume'],axis=1,inplace=True)"
   ]
  },
  {
   "cell_type": "code",
   "execution_count": 44,
   "metadata": {},
   "outputs": [
    {
     "data": {
      "text/html": [
       "<div>\n",
       "<style scoped>\n",
       "    .dataframe tbody tr th:only-of-type {\n",
       "        vertical-align: middle;\n",
       "    }\n",
       "\n",
       "    .dataframe tbody tr th {\n",
       "        vertical-align: top;\n",
       "    }\n",
       "\n",
       "    .dataframe thead th {\n",
       "        text-align: right;\n",
       "    }\n",
       "</style>\n",
       "<table border=\"1\" class=\"dataframe\">\n",
       "  <thead>\n",
       "    <tr style=\"text-align: right;\">\n",
       "      <th></th>\n",
       "      <th>Date</th>\n",
       "      <th>Close</th>\n",
       "    </tr>\n",
       "  </thead>\n",
       "  <tbody>\n",
       "    <tr>\n",
       "      <th>0</th>\n",
       "      <td>2019-03-04</td>\n",
       "      <td>25819.650391</td>\n",
       "    </tr>\n",
       "    <tr>\n",
       "      <th>1</th>\n",
       "      <td>2019-03-05</td>\n",
       "      <td>25806.630859</td>\n",
       "    </tr>\n",
       "    <tr>\n",
       "      <th>2</th>\n",
       "      <td>2019-03-06</td>\n",
       "      <td>25673.460938</td>\n",
       "    </tr>\n",
       "    <tr>\n",
       "      <th>3</th>\n",
       "      <td>2019-03-07</td>\n",
       "      <td>25473.230469</td>\n",
       "    </tr>\n",
       "    <tr>\n",
       "      <th>4</th>\n",
       "      <td>2019-03-08</td>\n",
       "      <td>25450.240234</td>\n",
       "    </tr>\n",
       "  </tbody>\n",
       "</table>\n",
       "</div>"
      ],
      "text/plain": [
       "         Date         Close\n",
       "0  2019-03-04  25819.650391\n",
       "1  2019-03-05  25806.630859\n",
       "2  2019-03-06  25673.460938\n",
       "3  2019-03-07  25473.230469\n",
       "4  2019-03-08  25450.240234"
      ]
     },
     "execution_count": 44,
     "metadata": {},
     "output_type": "execute_result"
    }
   ],
   "source": [
    "dow.head()"
   ]
  },
  {
   "cell_type": "code",
   "execution_count": 45,
   "metadata": {},
   "outputs": [],
   "source": [
    "#\n",
    "# Umbenennen der Spalten\n",
    "#\n",
    "dow.columns = ['DATE','DJCLOSE']"
   ]
  },
  {
   "cell_type": "code",
   "execution_count": 46,
   "metadata": {},
   "outputs": [
    {
     "data": {
      "text/html": [
       "<div>\n",
       "<style scoped>\n",
       "    .dataframe tbody tr th:only-of-type {\n",
       "        vertical-align: middle;\n",
       "    }\n",
       "\n",
       "    .dataframe tbody tr th {\n",
       "        vertical-align: top;\n",
       "    }\n",
       "\n",
       "    .dataframe thead th {\n",
       "        text-align: right;\n",
       "    }\n",
       "</style>\n",
       "<table border=\"1\" class=\"dataframe\">\n",
       "  <thead>\n",
       "    <tr style=\"text-align: right;\">\n",
       "      <th></th>\n",
       "      <th>DATE</th>\n",
       "      <th>DJCLOSE</th>\n",
       "    </tr>\n",
       "  </thead>\n",
       "  <tbody>\n",
       "    <tr>\n",
       "      <th>0</th>\n",
       "      <td>2019-03-04</td>\n",
       "      <td>25819.650391</td>\n",
       "    </tr>\n",
       "    <tr>\n",
       "      <th>1</th>\n",
       "      <td>2019-03-05</td>\n",
       "      <td>25806.630859</td>\n",
       "    </tr>\n",
       "    <tr>\n",
       "      <th>2</th>\n",
       "      <td>2019-03-06</td>\n",
       "      <td>25673.460938</td>\n",
       "    </tr>\n",
       "    <tr>\n",
       "      <th>3</th>\n",
       "      <td>2019-03-07</td>\n",
       "      <td>25473.230469</td>\n",
       "    </tr>\n",
       "    <tr>\n",
       "      <th>4</th>\n",
       "      <td>2019-03-08</td>\n",
       "      <td>25450.240234</td>\n",
       "    </tr>\n",
       "  </tbody>\n",
       "</table>\n",
       "</div>"
      ],
      "text/plain": [
       "         DATE       DJCLOSE\n",
       "0  2019-03-04  25819.650391\n",
       "1  2019-03-05  25806.630859\n",
       "2  2019-03-06  25673.460938\n",
       "3  2019-03-07  25473.230469\n",
       "4  2019-03-08  25450.240234"
      ]
     },
     "execution_count": 46,
     "metadata": {},
     "output_type": "execute_result"
    }
   ],
   "source": [
    "dow.head()"
   ]
  },
  {
   "cell_type": "markdown",
   "metadata": {},
   "source": [
    "## Zusammenziehen von Spalten für ein gültiges Datum (UMCSI)"
   ]
  },
  {
   "cell_type": "code",
   "execution_count": 47,
   "metadata": {},
   "outputs": [
    {
     "data": {
      "text/html": [
       "<div>\n",
       "<style scoped>\n",
       "    .dataframe tbody tr th:only-of-type {\n",
       "        vertical-align: middle;\n",
       "    }\n",
       "\n",
       "    .dataframe tbody tr th {\n",
       "        vertical-align: top;\n",
       "    }\n",
       "\n",
       "    .dataframe thead th {\n",
       "        text-align: right;\n",
       "    }\n",
       "</style>\n",
       "<table border=\"1\" class=\"dataframe\">\n",
       "  <thead>\n",
       "    <tr style=\"text-align: right;\">\n",
       "      <th></th>\n",
       "      <th>Month</th>\n",
       "      <th>YYYY</th>\n",
       "      <th>ICS_ALL</th>\n",
       "    </tr>\n",
       "  </thead>\n",
       "  <tbody>\n",
       "    <tr>\n",
       "      <th>0</th>\n",
       "      <td>November</td>\n",
       "      <td>1952</td>\n",
       "      <td>86.2</td>\n",
       "    </tr>\n",
       "    <tr>\n",
       "      <th>1</th>\n",
       "      <td>February</td>\n",
       "      <td>1953</td>\n",
       "      <td>90.7</td>\n",
       "    </tr>\n",
       "    <tr>\n",
       "      <th>2</th>\n",
       "      <td>August</td>\n",
       "      <td>1953</td>\n",
       "      <td>80.8</td>\n",
       "    </tr>\n",
       "    <tr>\n",
       "      <th>3</th>\n",
       "      <td>November</td>\n",
       "      <td>1953</td>\n",
       "      <td>80.7</td>\n",
       "    </tr>\n",
       "    <tr>\n",
       "      <th>4</th>\n",
       "      <td>February</td>\n",
       "      <td>1954</td>\n",
       "      <td>82.0</td>\n",
       "    </tr>\n",
       "  </tbody>\n",
       "</table>\n",
       "</div>"
      ],
      "text/plain": [
       "      Month  YYYY  ICS_ALL\n",
       "0  November  1952     86.2\n",
       "1  February  1953     90.7\n",
       "2    August  1953     80.8\n",
       "3  November  1953     80.7\n",
       "4  February  1954     82.0"
      ]
     },
     "execution_count": 47,
     "metadata": {},
     "output_type": "execute_result"
    }
   ],
   "source": [
    "umcsi.head()"
   ]
  },
  {
   "cell_type": "code",
   "execution_count": 48,
   "metadata": {},
   "outputs": [],
   "source": [
    "# combine year columns to one column format\n",
    "\n",
    "umcsi['DATE'] = umcsi.apply(lambda x: datetime.datetime.strptime(\"{0} {1}\".format( x['YYYY'],x['Month']), \"%Y %B\"),axis=1)"
   ]
  },
  {
   "cell_type": "code",
   "execution_count": 49,
   "metadata": {},
   "outputs": [
    {
     "data": {
      "text/html": [
       "<div>\n",
       "<style scoped>\n",
       "    .dataframe tbody tr th:only-of-type {\n",
       "        vertical-align: middle;\n",
       "    }\n",
       "\n",
       "    .dataframe tbody tr th {\n",
       "        vertical-align: top;\n",
       "    }\n",
       "\n",
       "    .dataframe thead th {\n",
       "        text-align: right;\n",
       "    }\n",
       "</style>\n",
       "<table border=\"1\" class=\"dataframe\">\n",
       "  <thead>\n",
       "    <tr style=\"text-align: right;\">\n",
       "      <th></th>\n",
       "      <th>Month</th>\n",
       "      <th>YYYY</th>\n",
       "      <th>ICS_ALL</th>\n",
       "      <th>DATE</th>\n",
       "    </tr>\n",
       "  </thead>\n",
       "  <tbody>\n",
       "    <tr>\n",
       "      <th>0</th>\n",
       "      <td>November</td>\n",
       "      <td>1952</td>\n",
       "      <td>86.2</td>\n",
       "      <td>1952-11-01</td>\n",
       "    </tr>\n",
       "    <tr>\n",
       "      <th>1</th>\n",
       "      <td>February</td>\n",
       "      <td>1953</td>\n",
       "      <td>90.7</td>\n",
       "      <td>1953-02-01</td>\n",
       "    </tr>\n",
       "    <tr>\n",
       "      <th>2</th>\n",
       "      <td>August</td>\n",
       "      <td>1953</td>\n",
       "      <td>80.8</td>\n",
       "      <td>1953-08-01</td>\n",
       "    </tr>\n",
       "    <tr>\n",
       "      <th>3</th>\n",
       "      <td>November</td>\n",
       "      <td>1953</td>\n",
       "      <td>80.7</td>\n",
       "      <td>1953-11-01</td>\n",
       "    </tr>\n",
       "    <tr>\n",
       "      <th>4</th>\n",
       "      <td>February</td>\n",
       "      <td>1954</td>\n",
       "      <td>82.0</td>\n",
       "      <td>1954-02-01</td>\n",
       "    </tr>\n",
       "  </tbody>\n",
       "</table>\n",
       "</div>"
      ],
      "text/plain": [
       "      Month  YYYY  ICS_ALL       DATE\n",
       "0  November  1952     86.2 1952-11-01\n",
       "1  February  1953     90.7 1953-02-01\n",
       "2    August  1953     80.8 1953-08-01\n",
       "3  November  1953     80.7 1953-11-01\n",
       "4  February  1954     82.0 1954-02-01"
      ]
     },
     "execution_count": 49,
     "metadata": {},
     "output_type": "execute_result"
    }
   ],
   "source": [
    "umcsi.head()"
   ]
  },
  {
   "cell_type": "code",
   "execution_count": 50,
   "metadata": {},
   "outputs": [
    {
     "data": {
      "text/html": [
       "<div>\n",
       "<style scoped>\n",
       "    .dataframe tbody tr th:only-of-type {\n",
       "        vertical-align: middle;\n",
       "    }\n",
       "\n",
       "    .dataframe tbody tr th {\n",
       "        vertical-align: top;\n",
       "    }\n",
       "\n",
       "    .dataframe thead th {\n",
       "        text-align: right;\n",
       "    }\n",
       "</style>\n",
       "<table border=\"1\" class=\"dataframe\">\n",
       "  <thead>\n",
       "    <tr style=\"text-align: right;\">\n",
       "      <th></th>\n",
       "      <th>Month</th>\n",
       "      <th>YYYY</th>\n",
       "      <th>ICS_ALL</th>\n",
       "      <th>DATE</th>\n",
       "    </tr>\n",
       "  </thead>\n",
       "  <tbody>\n",
       "    <tr>\n",
       "      <th>0</th>\n",
       "      <td>November</td>\n",
       "      <td>1952</td>\n",
       "      <td>86.2</td>\n",
       "      <td>1952-11-01</td>\n",
       "    </tr>\n",
       "    <tr>\n",
       "      <th>1</th>\n",
       "      <td>February</td>\n",
       "      <td>1953</td>\n",
       "      <td>90.7</td>\n",
       "      <td>1953-02-01</td>\n",
       "    </tr>\n",
       "    <tr>\n",
       "      <th>2</th>\n",
       "      <td>August</td>\n",
       "      <td>1953</td>\n",
       "      <td>80.8</td>\n",
       "      <td>1953-08-01</td>\n",
       "    </tr>\n",
       "    <tr>\n",
       "      <th>3</th>\n",
       "      <td>November</td>\n",
       "      <td>1953</td>\n",
       "      <td>80.7</td>\n",
       "      <td>1953-11-01</td>\n",
       "    </tr>\n",
       "    <tr>\n",
       "      <th>4</th>\n",
       "      <td>February</td>\n",
       "      <td>1954</td>\n",
       "      <td>82.0</td>\n",
       "      <td>1954-02-01</td>\n",
       "    </tr>\n",
       "  </tbody>\n",
       "</table>\n",
       "</div>"
      ],
      "text/plain": [
       "      Month  YYYY  ICS_ALL        DATE\n",
       "0  November  1952     86.2  1952-11-01\n",
       "1  February  1953     90.7  1953-02-01\n",
       "2    August  1953     80.8  1953-08-01\n",
       "3  November  1953     80.7  1953-11-01\n",
       "4  February  1954     82.0  1954-02-01"
      ]
     },
     "execution_count": 50,
     "metadata": {},
     "output_type": "execute_result"
    }
   ],
   "source": [
    "#\n",
    "# Rücktransfer der DATE Spalte in einen String für die spätere Zusammenführung\n",
    "#\n",
    "def to_str(x):\n",
    "    return str(x)[:10]\n",
    "\n",
    "umcsi['DATE'] = umcsi['DATE'].apply(to_str)\n",
    "umcsi.head()"
   ]
  },
  {
   "cell_type": "code",
   "execution_count": 51,
   "metadata": {},
   "outputs": [],
   "source": [
    "#\n",
    "# Entfernen von unnotwendigen Spalten\n",
    "#\n",
    "umcsi.drop(['Month','YYYY'],axis=1,inplace=True)"
   ]
  },
  {
   "cell_type": "code",
   "execution_count": 52,
   "metadata": {},
   "outputs": [
    {
     "data": {
      "text/html": [
       "<div>\n",
       "<style scoped>\n",
       "    .dataframe tbody tr th:only-of-type {\n",
       "        vertical-align: middle;\n",
       "    }\n",
       "\n",
       "    .dataframe tbody tr th {\n",
       "        vertical-align: top;\n",
       "    }\n",
       "\n",
       "    .dataframe thead th {\n",
       "        text-align: right;\n",
       "    }\n",
       "</style>\n",
       "<table border=\"1\" class=\"dataframe\">\n",
       "  <thead>\n",
       "    <tr style=\"text-align: right;\">\n",
       "      <th></th>\n",
       "      <th>ICS_ALL</th>\n",
       "      <th>DATE</th>\n",
       "    </tr>\n",
       "  </thead>\n",
       "  <tbody>\n",
       "    <tr>\n",
       "      <th>0</th>\n",
       "      <td>86.2</td>\n",
       "      <td>1952-11-01</td>\n",
       "    </tr>\n",
       "    <tr>\n",
       "      <th>1</th>\n",
       "      <td>90.7</td>\n",
       "      <td>1953-02-01</td>\n",
       "    </tr>\n",
       "    <tr>\n",
       "      <th>2</th>\n",
       "      <td>80.8</td>\n",
       "      <td>1953-08-01</td>\n",
       "    </tr>\n",
       "    <tr>\n",
       "      <th>3</th>\n",
       "      <td>80.7</td>\n",
       "      <td>1953-11-01</td>\n",
       "    </tr>\n",
       "    <tr>\n",
       "      <th>4</th>\n",
       "      <td>82.0</td>\n",
       "      <td>1954-02-01</td>\n",
       "    </tr>\n",
       "  </tbody>\n",
       "</table>\n",
       "</div>"
      ],
      "text/plain": [
       "   ICS_ALL        DATE\n",
       "0     86.2  1952-11-01\n",
       "1     90.7  1953-02-01\n",
       "2     80.8  1953-08-01\n",
       "3     80.7  1953-11-01\n",
       "4     82.0  1954-02-01"
      ]
     },
     "execution_count": 52,
     "metadata": {},
     "output_type": "execute_result"
    }
   ],
   "source": [
    "umcsi.head()"
   ]
  },
  {
   "cell_type": "markdown",
   "metadata": {},
   "source": [
    "## Zusammenführen aller Datensätze\n",
    "\n",
    "https://www.geeksforgeeks.org/reduce-in-python/\n",
    "\n",
    "<img src=\"info.png\" align=\"left\"/> "
   ]
  },
  {
   "cell_type": "code",
   "execution_count": 53,
   "metadata": {},
   "outputs": [],
   "source": [
    "#\n",
    "# Reduce Funktion über alle Datensätze \n",
    "# Diese geschieht über die Spalte DATE, die in allen Datensätzen vorhanden ist.\n",
    "#\n",
    "\n",
    "dfs = [dow,oil,umcsi] \n",
    "df = reduce( lambda left,right: pd.merge( left,right, on='DATE', how='outer'), dfs)"
   ]
  },
  {
   "cell_type": "code",
   "execution_count": 54,
   "metadata": {},
   "outputs": [
    {
     "data": {
      "text/html": [
       "<div>\n",
       "<style scoped>\n",
       "    .dataframe tbody tr th:only-of-type {\n",
       "        vertical-align: middle;\n",
       "    }\n",
       "\n",
       "    .dataframe tbody tr th {\n",
       "        vertical-align: top;\n",
       "    }\n",
       "\n",
       "    .dataframe thead th {\n",
       "        text-align: right;\n",
       "    }\n",
       "</style>\n",
       "<table border=\"1\" class=\"dataframe\">\n",
       "  <thead>\n",
       "    <tr style=\"text-align: right;\">\n",
       "      <th></th>\n",
       "      <th>DATE</th>\n",
       "      <th>DJCLOSE</th>\n",
       "      <th>MCOILBRENTEU</th>\n",
       "      <th>ICS_ALL</th>\n",
       "    </tr>\n",
       "  </thead>\n",
       "  <tbody>\n",
       "    <tr>\n",
       "      <th>0</th>\n",
       "      <td>2019-03-04</td>\n",
       "      <td>25819.650391</td>\n",
       "      <td>NaN</td>\n",
       "      <td>NaN</td>\n",
       "    </tr>\n",
       "    <tr>\n",
       "      <th>1</th>\n",
       "      <td>2019-03-05</td>\n",
       "      <td>25806.630859</td>\n",
       "      <td>NaN</td>\n",
       "      <td>NaN</td>\n",
       "    </tr>\n",
       "    <tr>\n",
       "      <th>2</th>\n",
       "      <td>2019-03-06</td>\n",
       "      <td>25673.460938</td>\n",
       "      <td>NaN</td>\n",
       "      <td>NaN</td>\n",
       "    </tr>\n",
       "    <tr>\n",
       "      <th>3</th>\n",
       "      <td>2019-03-07</td>\n",
       "      <td>25473.230469</td>\n",
       "      <td>NaN</td>\n",
       "      <td>NaN</td>\n",
       "    </tr>\n",
       "    <tr>\n",
       "      <th>4</th>\n",
       "      <td>2019-03-08</td>\n",
       "      <td>25450.240234</td>\n",
       "      <td>NaN</td>\n",
       "      <td>NaN</td>\n",
       "    </tr>\n",
       "    <tr>\n",
       "      <th>5</th>\n",
       "      <td>2019-03-11</td>\n",
       "      <td>25650.880859</td>\n",
       "      <td>NaN</td>\n",
       "      <td>NaN</td>\n",
       "    </tr>\n",
       "    <tr>\n",
       "      <th>6</th>\n",
       "      <td>2019-03-12</td>\n",
       "      <td>25554.660156</td>\n",
       "      <td>NaN</td>\n",
       "      <td>NaN</td>\n",
       "    </tr>\n",
       "    <tr>\n",
       "      <th>7</th>\n",
       "      <td>2019-03-13</td>\n",
       "      <td>25702.890625</td>\n",
       "      <td>NaN</td>\n",
       "      <td>NaN</td>\n",
       "    </tr>\n",
       "    <tr>\n",
       "      <th>8</th>\n",
       "      <td>2019-03-14</td>\n",
       "      <td>25709.939453</td>\n",
       "      <td>NaN</td>\n",
       "      <td>NaN</td>\n",
       "    </tr>\n",
       "    <tr>\n",
       "      <th>9</th>\n",
       "      <td>2019-03-15</td>\n",
       "      <td>25848.869141</td>\n",
       "      <td>NaN</td>\n",
       "      <td>NaN</td>\n",
       "    </tr>\n",
       "    <tr>\n",
       "      <th>10</th>\n",
       "      <td>2019-03-18</td>\n",
       "      <td>25914.099609</td>\n",
       "      <td>NaN</td>\n",
       "      <td>NaN</td>\n",
       "    </tr>\n",
       "    <tr>\n",
       "      <th>11</th>\n",
       "      <td>2019-03-19</td>\n",
       "      <td>25887.380859</td>\n",
       "      <td>NaN</td>\n",
       "      <td>NaN</td>\n",
       "    </tr>\n",
       "    <tr>\n",
       "      <th>12</th>\n",
       "      <td>2019-03-20</td>\n",
       "      <td>25745.669922</td>\n",
       "      <td>NaN</td>\n",
       "      <td>NaN</td>\n",
       "    </tr>\n",
       "    <tr>\n",
       "      <th>13</th>\n",
       "      <td>2019-03-21</td>\n",
       "      <td>25962.509766</td>\n",
       "      <td>NaN</td>\n",
       "      <td>NaN</td>\n",
       "    </tr>\n",
       "    <tr>\n",
       "      <th>14</th>\n",
       "      <td>2019-03-22</td>\n",
       "      <td>25502.320313</td>\n",
       "      <td>NaN</td>\n",
       "      <td>NaN</td>\n",
       "    </tr>\n",
       "    <tr>\n",
       "      <th>15</th>\n",
       "      <td>2019-03-25</td>\n",
       "      <td>25516.830078</td>\n",
       "      <td>NaN</td>\n",
       "      <td>NaN</td>\n",
       "    </tr>\n",
       "    <tr>\n",
       "      <th>16</th>\n",
       "      <td>2019-03-26</td>\n",
       "      <td>25657.730469</td>\n",
       "      <td>NaN</td>\n",
       "      <td>NaN</td>\n",
       "    </tr>\n",
       "    <tr>\n",
       "      <th>17</th>\n",
       "      <td>2019-03-27</td>\n",
       "      <td>25625.589844</td>\n",
       "      <td>NaN</td>\n",
       "      <td>NaN</td>\n",
       "    </tr>\n",
       "    <tr>\n",
       "      <th>18</th>\n",
       "      <td>2019-03-28</td>\n",
       "      <td>25717.460938</td>\n",
       "      <td>NaN</td>\n",
       "      <td>NaN</td>\n",
       "    </tr>\n",
       "    <tr>\n",
       "      <th>19</th>\n",
       "      <td>2019-03-29</td>\n",
       "      <td>25928.679688</td>\n",
       "      <td>NaN</td>\n",
       "      <td>NaN</td>\n",
       "    </tr>\n",
       "    <tr>\n",
       "      <th>20</th>\n",
       "      <td>2019-04-01</td>\n",
       "      <td>26258.419922</td>\n",
       "      <td>71.23</td>\n",
       "      <td>97.2</td>\n",
       "    </tr>\n",
       "    <tr>\n",
       "      <th>21</th>\n",
       "      <td>2019-04-02</td>\n",
       "      <td>26179.130859</td>\n",
       "      <td>NaN</td>\n",
       "      <td>NaN</td>\n",
       "    </tr>\n",
       "    <tr>\n",
       "      <th>22</th>\n",
       "      <td>2019-04-03</td>\n",
       "      <td>26218.130859</td>\n",
       "      <td>NaN</td>\n",
       "      <td>NaN</td>\n",
       "    </tr>\n",
       "    <tr>\n",
       "      <th>23</th>\n",
       "      <td>2019-04-04</td>\n",
       "      <td>26384.630859</td>\n",
       "      <td>NaN</td>\n",
       "      <td>NaN</td>\n",
       "    </tr>\n",
       "    <tr>\n",
       "      <th>24</th>\n",
       "      <td>2019-04-05</td>\n",
       "      <td>26424.990234</td>\n",
       "      <td>NaN</td>\n",
       "      <td>NaN</td>\n",
       "    </tr>\n",
       "    <tr>\n",
       "      <th>25</th>\n",
       "      <td>2019-04-08</td>\n",
       "      <td>26341.019531</td>\n",
       "      <td>NaN</td>\n",
       "      <td>NaN</td>\n",
       "    </tr>\n",
       "    <tr>\n",
       "      <th>26</th>\n",
       "      <td>2019-04-09</td>\n",
       "      <td>26150.580078</td>\n",
       "      <td>NaN</td>\n",
       "      <td>NaN</td>\n",
       "    </tr>\n",
       "    <tr>\n",
       "      <th>27</th>\n",
       "      <td>2019-04-10</td>\n",
       "      <td>26157.160156</td>\n",
       "      <td>NaN</td>\n",
       "      <td>NaN</td>\n",
       "    </tr>\n",
       "    <tr>\n",
       "      <th>28</th>\n",
       "      <td>2019-04-11</td>\n",
       "      <td>26143.050781</td>\n",
       "      <td>NaN</td>\n",
       "      <td>NaN</td>\n",
       "    </tr>\n",
       "    <tr>\n",
       "      <th>29</th>\n",
       "      <td>2019-04-12</td>\n",
       "      <td>26412.300781</td>\n",
       "      <td>NaN</td>\n",
       "      <td>NaN</td>\n",
       "    </tr>\n",
       "  </tbody>\n",
       "</table>\n",
       "</div>"
      ],
      "text/plain": [
       "          DATE       DJCLOSE  MCOILBRENTEU  ICS_ALL\n",
       "0   2019-03-04  25819.650391           NaN      NaN\n",
       "1   2019-03-05  25806.630859           NaN      NaN\n",
       "2   2019-03-06  25673.460938           NaN      NaN\n",
       "3   2019-03-07  25473.230469           NaN      NaN\n",
       "4   2019-03-08  25450.240234           NaN      NaN\n",
       "5   2019-03-11  25650.880859           NaN      NaN\n",
       "6   2019-03-12  25554.660156           NaN      NaN\n",
       "7   2019-03-13  25702.890625           NaN      NaN\n",
       "8   2019-03-14  25709.939453           NaN      NaN\n",
       "9   2019-03-15  25848.869141           NaN      NaN\n",
       "10  2019-03-18  25914.099609           NaN      NaN\n",
       "11  2019-03-19  25887.380859           NaN      NaN\n",
       "12  2019-03-20  25745.669922           NaN      NaN\n",
       "13  2019-03-21  25962.509766           NaN      NaN\n",
       "14  2019-03-22  25502.320313           NaN      NaN\n",
       "15  2019-03-25  25516.830078           NaN      NaN\n",
       "16  2019-03-26  25657.730469           NaN      NaN\n",
       "17  2019-03-27  25625.589844           NaN      NaN\n",
       "18  2019-03-28  25717.460938           NaN      NaN\n",
       "19  2019-03-29  25928.679688           NaN      NaN\n",
       "20  2019-04-01  26258.419922         71.23     97.2\n",
       "21  2019-04-02  26179.130859           NaN      NaN\n",
       "22  2019-04-03  26218.130859           NaN      NaN\n",
       "23  2019-04-04  26384.630859           NaN      NaN\n",
       "24  2019-04-05  26424.990234           NaN      NaN\n",
       "25  2019-04-08  26341.019531           NaN      NaN\n",
       "26  2019-04-09  26150.580078           NaN      NaN\n",
       "27  2019-04-10  26157.160156           NaN      NaN\n",
       "28  2019-04-11  26143.050781           NaN      NaN\n",
       "29  2019-04-12  26412.300781           NaN      NaN"
      ]
     },
     "execution_count": 54,
     "metadata": {},
     "output_type": "execute_result"
    }
   ],
   "source": [
    "df.head(30)"
   ]
  },
  {
   "cell_type": "code",
   "execution_count": 55,
   "metadata": {},
   "outputs": [],
   "source": [
    "#\n",
    "# Lösung durch entfernen der NaNs. Besser ist ein Resampling.\n",
    "#\n",
    "df = df.dropna() "
   ]
  },
  {
   "cell_type": "code",
   "execution_count": 56,
   "metadata": {},
   "outputs": [
    {
     "data": {
      "text/plain": [
       "<Axes: >"
      ]
     },
     "execution_count": 56,
     "metadata": {},
     "output_type": "execute_result"
    },
    {
     "data": {
      "image/png": "[encoded data removed]",
      "text/plain": [
       "<Figure size 1600x900 with 1 Axes>"
      ]
     },
     "metadata": {},
     "output_type": "display_data"
    }
   ],
   "source": [
    "#\n",
    "# Mehr Tricks mit plots https://pandas.pydata.org/pandas-docs/version/0.12/visualization.html\n",
    "#\n",
    "df.plot()"
   ]
  },
  {
   "cell_type": "code",
   "execution_count": 57,
   "metadata": {},
   "outputs": [
    {
     "data": {
      "text/plain": [
       "Text(0, 0.5, 'ICS_ALL')"
      ]
     },
     "execution_count": 57,
     "metadata": {},
     "output_type": "execute_result"
    },
    {
     "data": {
      "image/png": "[encoded data removed]",
      "text/plain": [
       "<Figure size 1500x800 with 3 Axes>"
      ]
     },
     "metadata": {},
     "output_type": "display_data"
    }
   ],
   "source": [
    "plt.rcParams[\"figure.figsize\"] = (15,8)\n",
    "fig = plt.figure()\n",
    "ax1 = fig.add_subplot(111)\n",
    "ax1.plot(df['DJCLOSE'])\n",
    "ax1.set_ylabel('DJCLOSE')\n",
    "ax2 = ax1.twinx()\n",
    "ax2.plot(df['MCOILBRENTEU'], 'r-')\n",
    "ax2.set_ylabel('MCOILBRENTEU', color='r')\n",
    "ax3 = ax1.twinx()\n",
    "ax3.plot(df['ICS_ALL'], 'g--')\n",
    "ax3.set_ylabel('ICS_ALL', color='g')\n"
   ]
  },
  {
   "cell_type": "code",
   "execution_count": 58,
   "metadata": {},
   "outputs": [
    {
     "data": {
      "text/html": [
       "<div>\n",
       "<style scoped>\n",
       "    .dataframe tbody tr th:only-of-type {\n",
       "        vertical-align: middle;\n",
       "    }\n",
       "\n",
       "    .dataframe tbody tr th {\n",
       "        vertical-align: top;\n",
       "    }\n",
       "\n",
       "    .dataframe thead th {\n",
       "        text-align: right;\n",
       "    }\n",
       "</style>\n",
       "<table border=\"1\" class=\"dataframe\">\n",
       "  <thead>\n",
       "    <tr style=\"text-align: right;\">\n",
       "      <th></th>\n",
       "      <th>DATE</th>\n",
       "      <th>DJCLOSE</th>\n",
       "      <th>MCOILBRENTEU</th>\n",
       "      <th>ICS_ALL</th>\n",
       "    </tr>\n",
       "  </thead>\n",
       "  <tbody>\n",
       "    <tr>\n",
       "      <th>20</th>\n",
       "      <td>2019-04-01</td>\n",
       "      <td>26258.419922</td>\n",
       "      <td>71.23</td>\n",
       "      <td>97.2</td>\n",
       "    </tr>\n",
       "    <tr>\n",
       "      <th>41</th>\n",
       "      <td>2019-05-01</td>\n",
       "      <td>26430.140625</td>\n",
       "      <td>71.32</td>\n",
       "      <td>100.0</td>\n",
       "    </tr>\n",
       "    <tr>\n",
       "      <th>83</th>\n",
       "      <td>2019-07-01</td>\n",
       "      <td>26717.429688</td>\n",
       "      <td>63.92</td>\n",
       "      <td>98.4</td>\n",
       "    </tr>\n",
       "    <tr>\n",
       "      <th>105</th>\n",
       "      <td>2019-08-01</td>\n",
       "      <td>26583.419922</td>\n",
       "      <td>59.04</td>\n",
       "      <td>89.8</td>\n",
       "    </tr>\n",
       "    <tr>\n",
       "      <th>147</th>\n",
       "      <td>2019-10-01</td>\n",
       "      <td>26573.039063</td>\n",
       "      <td>59.71</td>\n",
       "      <td>95.5</td>\n",
       "    </tr>\n",
       "  </tbody>\n",
       "</table>\n",
       "</div>"
      ],
      "text/plain": [
       "          DATE       DJCLOSE  MCOILBRENTEU  ICS_ALL\n",
       "20  2019-04-01  26258.419922         71.23     97.2\n",
       "41  2019-05-01  26430.140625         71.32    100.0\n",
       "83  2019-07-01  26717.429688         63.92     98.4\n",
       "105 2019-08-01  26583.419922         59.04     89.8\n",
       "147 2019-10-01  26573.039063         59.71     95.5"
      ]
     },
     "execution_count": 58,
     "metadata": {},
     "output_type": "execute_result"
    }
   ],
   "source": [
    "#\n",
    "# Datum als Index\n",
    "#\n",
    "\n",
    "df['DATE'] = pd.to_datetime(df['DATE'])\n",
    "df.head()"
   ]
  },
  {
   "cell_type": "code",
   "execution_count": 59,
   "metadata": {},
   "outputs": [],
   "source": [
    "df = df.set_index('DATE')"
   ]
  },
  {
   "cell_type": "code",
   "execution_count": 60,
   "metadata": {},
   "outputs": [
    {
     "data": {
      "text/html": [
       "<div>\n",
       "<style scoped>\n",
       "    .dataframe tbody tr th:only-of-type {\n",
       "        vertical-align: middle;\n",
       "    }\n",
       "\n",
       "    .dataframe tbody tr th {\n",
       "        vertical-align: top;\n",
       "    }\n",
       "\n",
       "    .dataframe thead th {\n",
       "        text-align: right;\n",
       "    }\n",
       "</style>\n",
       "<table border=\"1\" class=\"dataframe\">\n",
       "  <thead>\n",
       "    <tr style=\"text-align: right;\">\n",
       "      <th></th>\n",
       "      <th>DJCLOSE</th>\n",
       "      <th>MCOILBRENTEU</th>\n",
       "      <th>ICS_ALL</th>\n",
       "    </tr>\n",
       "    <tr>\n",
       "      <th>DATE</th>\n",
       "      <th></th>\n",
       "      <th></th>\n",
       "      <th></th>\n",
       "    </tr>\n",
       "  </thead>\n",
       "  <tbody>\n",
       "    <tr>\n",
       "      <th>2019-04-01</th>\n",
       "      <td>26258.419922</td>\n",
       "      <td>71.23</td>\n",
       "      <td>97.2</td>\n",
       "    </tr>\n",
       "    <tr>\n",
       "      <th>2019-05-01</th>\n",
       "      <td>26430.140625</td>\n",
       "      <td>71.32</td>\n",
       "      <td>100.0</td>\n",
       "    </tr>\n",
       "    <tr>\n",
       "      <th>2019-07-01</th>\n",
       "      <td>26717.429688</td>\n",
       "      <td>63.92</td>\n",
       "      <td>98.4</td>\n",
       "    </tr>\n",
       "    <tr>\n",
       "      <th>2019-08-01</th>\n",
       "      <td>26583.419922</td>\n",
       "      <td>59.04</td>\n",
       "      <td>89.8</td>\n",
       "    </tr>\n",
       "    <tr>\n",
       "      <th>2019-10-01</th>\n",
       "      <td>26573.039063</td>\n",
       "      <td>59.71</td>\n",
       "      <td>95.5</td>\n",
       "    </tr>\n",
       "  </tbody>\n",
       "</table>\n",
       "</div>"
      ],
      "text/plain": [
       "                 DJCLOSE  MCOILBRENTEU  ICS_ALL\n",
       "DATE                                           \n",
       "2019-04-01  26258.419922         71.23     97.2\n",
       "2019-05-01  26430.140625         71.32    100.0\n",
       "2019-07-01  26717.429688         63.92     98.4\n",
       "2019-08-01  26583.419922         59.04     89.8\n",
       "2019-10-01  26573.039063         59.71     95.5"
      ]
     },
     "execution_count": 60,
     "metadata": {},
     "output_type": "execute_result"
    }
   ],
   "source": [
    "df.head()"
   ]
  },
  {
   "cell_type": "code",
   "execution_count": 61,
   "metadata": {},
   "outputs": [
    {
     "data": {
      "text/plain": [
       "Text(0, 0.5, 'ICS_ALL')"
      ]
     },
     "execution_count": 61,
     "metadata": {},
     "output_type": "execute_result"
    },
    {
     "data": {
      "image/png": "[encoded data removed]",
      "text/plain": [
       "<Figure size 1500x800 with 3 Axes>"
      ]
     },
     "metadata": {},
     "output_type": "display_data"
    }
   ],
   "source": [
    "fig = plt.figure()\n",
    "ax1 = fig.add_subplot(111)\n",
    "ax1.plot(df['DJCLOSE'])\n",
    "ax1.set_ylabel('DJCLOSE')\n",
    "ax2 = ax1.twinx()\n",
    "ax2.plot(df['MCOILBRENTEU'], 'r-')\n",
    "ax2.set_ylabel('MCOILBRENTEU', color='r')\n",
    "ax3 = ax1.twinx()\n",
    "ax3.plot(df['ICS_ALL'], 'g--')\n",
    "ax3.set_ylabel('ICS_ALL', color='g')\n"
   ]
  },
  {
   "cell_type": "markdown",
   "metadata": {},
   "source": [
    "# Weitere Besonderheiten von Zeitreihen\n",
    "\n",
    "Zeitreihen erfordern die genaue Behandlung der Perioden. Ebenso kommt ein Aspekt dazu, der in anderen Daten oft nicht relevant ist. Ein Messpunkt zu einer Zeit kann sich auf die Vergangenheit oder auf die Zukunft beziehen. \n"
   ]
  },
  {
   "cell_type": "code",
   "execution_count": 62,
   "metadata": {},
   "outputs": [],
   "source": [
    "#\n",
    "# Laden einer Zeitreihe\n",
    "#"
   ]
  },
  {
   "cell_type": "code",
   "execution_count": 63,
   "metadata": {},
   "outputs": [],
   "source": [
    "consumption = pd.read_csv('data/energy.csv')"
   ]
  },
  {
   "cell_type": "code",
   "execution_count": 64,
   "metadata": {},
   "outputs": [
    {
     "data": {
      "text/html": [
       "<div>\n",
       "<style scoped>\n",
       "    .dataframe tbody tr th:only-of-type {\n",
       "        vertical-align: middle;\n",
       "    }\n",
       "\n",
       "    .dataframe tbody tr th {\n",
       "        vertical-align: top;\n",
       "    }\n",
       "\n",
       "    .dataframe thead th {\n",
       "        text-align: right;\n",
       "    }\n",
       "</style>\n",
       "<table border=\"1\" class=\"dataframe\">\n",
       "  <thead>\n",
       "    <tr style=\"text-align: right;\">\n",
       "      <th></th>\n",
       "      <th>;20160314000000;;402;W;0.0</th>\n",
       "    </tr>\n",
       "  </thead>\n",
       "  <tbody>\n",
       "    <tr>\n",
       "      <th>0</th>\n",
       "      <td>;20160314000032;;402;W;0.0</td>\n",
       "    </tr>\n",
       "    <tr>\n",
       "      <th>1</th>\n",
       "      <td>;20160314000105;;406;W;0.0</td>\n",
       "    </tr>\n",
       "    <tr>\n",
       "      <th>2</th>\n",
       "      <td>;20160314000137;;406;W;0.0</td>\n",
       "    </tr>\n",
       "    <tr>\n",
       "      <th>3</th>\n",
       "      <td>;20160314000209;;390;W;0.0</td>\n",
       "    </tr>\n",
       "    <tr>\n",
       "      <th>4</th>\n",
       "      <td>;20160314000241;;333;W;0.0</td>\n",
       "    </tr>\n",
       "  </tbody>\n",
       "</table>\n",
       "</div>"
      ],
      "text/plain": [
       "   ;20160314000000;;402;W;0.0\n",
       "0  ;20160314000032;;402;W;0.0\n",
       "1  ;20160314000105;;406;W;0.0\n",
       "2  ;20160314000137;;406;W;0.0\n",
       "3  ;20160314000209;;390;W;0.0\n",
       "4  ;20160314000241;;333;W;0.0"
      ]
     },
     "execution_count": 64,
     "metadata": {},
     "output_type": "execute_result"
    }
   ],
   "source": [
    "consumption.head()"
   ]
  },
  {
   "cell_type": "code",
   "execution_count": 65,
   "metadata": {},
   "outputs": [],
   "source": [
    "consumption = pd.read_csv('data/energy.csv', header=None, usecols=[1,3], sep=';')"
   ]
  },
  {
   "cell_type": "code",
   "execution_count": 66,
   "metadata": {},
   "outputs": [
    {
     "data": {
      "text/html": [
       "<div>\n",
       "<style scoped>\n",
       "    .dataframe tbody tr th:only-of-type {\n",
       "        vertical-align: middle;\n",
       "    }\n",
       "\n",
       "    .dataframe tbody tr th {\n",
       "        vertical-align: top;\n",
       "    }\n",
       "\n",
       "    .dataframe thead th {\n",
       "        text-align: right;\n",
       "    }\n",
       "</style>\n",
       "<table border=\"1\" class=\"dataframe\">\n",
       "  <thead>\n",
       "    <tr style=\"text-align: right;\">\n",
       "      <th></th>\n",
       "      <th>1</th>\n",
       "      <th>3</th>\n",
       "    </tr>\n",
       "  </thead>\n",
       "  <tbody>\n",
       "    <tr>\n",
       "      <th>0</th>\n",
       "      <td>20160314000000</td>\n",
       "      <td>402</td>\n",
       "    </tr>\n",
       "    <tr>\n",
       "      <th>1</th>\n",
       "      <td>20160314000032</td>\n",
       "      <td>402</td>\n",
       "    </tr>\n",
       "    <tr>\n",
       "      <th>2</th>\n",
       "      <td>20160314000105</td>\n",
       "      <td>406</td>\n",
       "    </tr>\n",
       "    <tr>\n",
       "      <th>3</th>\n",
       "      <td>20160314000137</td>\n",
       "      <td>406</td>\n",
       "    </tr>\n",
       "    <tr>\n",
       "      <th>4</th>\n",
       "      <td>20160314000209</td>\n",
       "      <td>390</td>\n",
       "    </tr>\n",
       "  </tbody>\n",
       "</table>\n",
       "</div>"
      ],
      "text/plain": [
       "                1    3\n",
       "0  20160314000000  402\n",
       "1  20160314000032  402\n",
       "2  20160314000105  406\n",
       "3  20160314000137  406\n",
       "4  20160314000209  390"
      ]
     },
     "execution_count": 66,
     "metadata": {},
     "output_type": "execute_result"
    }
   ],
   "source": [
    "consumption.head()"
   ]
  },
  {
   "cell_type": "code",
   "execution_count": 67,
   "metadata": {},
   "outputs": [
    {
     "data": {
      "text/html": [
       "<div>\n",
       "<style scoped>\n",
       "    .dataframe tbody tr th:only-of-type {\n",
       "        vertical-align: middle;\n",
       "    }\n",
       "\n",
       "    .dataframe tbody tr th {\n",
       "        vertical-align: top;\n",
       "    }\n",
       "\n",
       "    .dataframe thead th {\n",
       "        text-align: right;\n",
       "    }\n",
       "</style>\n",
       "<table border=\"1\" class=\"dataframe\">\n",
       "  <thead>\n",
       "    <tr style=\"text-align: right;\">\n",
       "      <th></th>\n",
       "      <th>DATE</th>\n",
       "      <th>POWERW</th>\n",
       "    </tr>\n",
       "  </thead>\n",
       "  <tbody>\n",
       "    <tr>\n",
       "      <th>0</th>\n",
       "      <td>20160314000000</td>\n",
       "      <td>402</td>\n",
       "    </tr>\n",
       "    <tr>\n",
       "      <th>1</th>\n",
       "      <td>20160314000032</td>\n",
       "      <td>402</td>\n",
       "    </tr>\n",
       "    <tr>\n",
       "      <th>2</th>\n",
       "      <td>20160314000105</td>\n",
       "      <td>406</td>\n",
       "    </tr>\n",
       "    <tr>\n",
       "      <th>3</th>\n",
       "      <td>20160314000137</td>\n",
       "      <td>406</td>\n",
       "    </tr>\n",
       "    <tr>\n",
       "      <th>4</th>\n",
       "      <td>20160314000209</td>\n",
       "      <td>390</td>\n",
       "    </tr>\n",
       "  </tbody>\n",
       "</table>\n",
       "</div>"
      ],
      "text/plain": [
       "             DATE  POWERW\n",
       "0  20160314000000     402\n",
       "1  20160314000032     402\n",
       "2  20160314000105     406\n",
       "3  20160314000137     406\n",
       "4  20160314000209     390"
      ]
     },
     "execution_count": 67,
     "metadata": {},
     "output_type": "execute_result"
    }
   ],
   "source": [
    "#\n",
    "# Umbenennen der Spalten\n",
    "#\n",
    "consumption.columns = ['DATE','POWERW']\n",
    "consumption.head()"
   ]
  },
  {
   "cell_type": "markdown",
   "metadata": {},
   "source": [
    "## Umwandeln von Datumswerten\n",
    "\n",
    "Details zu den Datumstrings https://www.journaldev.com/23365/python-string-to-datetime-strptime\n",
    "\n",
    "<img src=\"info.png\" align=\"left\"/> "
   ]
  },
  {
   "cell_type": "code",
   "execution_count": 68,
   "metadata": {},
   "outputs": [],
   "source": [
    "#\n",
    "# Umwandeln in korrektes Datumsformat\n",
    "# \n",
    "consumption['DATE'] = consumption.apply(lambda x: datetime.datetime.strptime(\"{0}\".format( x['DATE']), \"%Y%m%d%H%M%S\"),axis=1)"
   ]
  },
  {
   "cell_type": "code",
   "execution_count": 69,
   "metadata": {},
   "outputs": [
    {
     "data": {
      "text/html": [
       "<div>\n",
       "<style scoped>\n",
       "    .dataframe tbody tr th:only-of-type {\n",
       "        vertical-align: middle;\n",
       "    }\n",
       "\n",
       "    .dataframe tbody tr th {\n",
       "        vertical-align: top;\n",
       "    }\n",
       "\n",
       "    .dataframe thead th {\n",
       "        text-align: right;\n",
       "    }\n",
       "</style>\n",
       "<table border=\"1\" class=\"dataframe\">\n",
       "  <thead>\n",
       "    <tr style=\"text-align: right;\">\n",
       "      <th></th>\n",
       "      <th>DATE</th>\n",
       "      <th>POWERW</th>\n",
       "    </tr>\n",
       "  </thead>\n",
       "  <tbody>\n",
       "    <tr>\n",
       "      <th>0</th>\n",
       "      <td>2016-03-14 00:00:00</td>\n",
       "      <td>402</td>\n",
       "    </tr>\n",
       "    <tr>\n",
       "      <th>1</th>\n",
       "      <td>2016-03-14 00:00:32</td>\n",
       "      <td>402</td>\n",
       "    </tr>\n",
       "    <tr>\n",
       "      <th>2</th>\n",
       "      <td>2016-03-14 00:01:05</td>\n",
       "      <td>406</td>\n",
       "    </tr>\n",
       "    <tr>\n",
       "      <th>3</th>\n",
       "      <td>2016-03-14 00:01:37</td>\n",
       "      <td>406</td>\n",
       "    </tr>\n",
       "    <tr>\n",
       "      <th>4</th>\n",
       "      <td>2016-03-14 00:02:09</td>\n",
       "      <td>390</td>\n",
       "    </tr>\n",
       "  </tbody>\n",
       "</table>\n",
       "</div>"
      ],
      "text/plain": [
       "                 DATE  POWERW\n",
       "0 2016-03-14 00:00:00     402\n",
       "1 2016-03-14 00:00:32     402\n",
       "2 2016-03-14 00:01:05     406\n",
       "3 2016-03-14 00:01:37     406\n",
       "4 2016-03-14 00:02:09     390"
      ]
     },
     "execution_count": 69,
     "metadata": {},
     "output_type": "execute_result"
    }
   ],
   "source": [
    "consumption.head()"
   ]
  },
  {
   "cell_type": "code",
   "execution_count": 70,
   "metadata": {},
   "outputs": [
    {
     "data": {
      "text/html": [
       "<div>\n",
       "<style scoped>\n",
       "    .dataframe tbody tr th:only-of-type {\n",
       "        vertical-align: middle;\n",
       "    }\n",
       "\n",
       "    .dataframe tbody tr th {\n",
       "        vertical-align: top;\n",
       "    }\n",
       "\n",
       "    .dataframe thead th {\n",
       "        text-align: right;\n",
       "    }\n",
       "</style>\n",
       "<table border=\"1\" class=\"dataframe\">\n",
       "  <thead>\n",
       "    <tr style=\"text-align: right;\">\n",
       "      <th></th>\n",
       "      <th>POWERW</th>\n",
       "    </tr>\n",
       "    <tr>\n",
       "      <th>DATE</th>\n",
       "      <th></th>\n",
       "    </tr>\n",
       "  </thead>\n",
       "  <tbody>\n",
       "    <tr>\n",
       "      <th>2016-03-14 00:00:00</th>\n",
       "      <td>402</td>\n",
       "    </tr>\n",
       "    <tr>\n",
       "      <th>2016-03-14 00:00:32</th>\n",
       "      <td>402</td>\n",
       "    </tr>\n",
       "    <tr>\n",
       "      <th>2016-03-14 00:01:05</th>\n",
       "      <td>406</td>\n",
       "    </tr>\n",
       "    <tr>\n",
       "      <th>2016-03-14 00:01:37</th>\n",
       "      <td>406</td>\n",
       "    </tr>\n",
       "    <tr>\n",
       "      <th>2016-03-14 00:02:09</th>\n",
       "      <td>390</td>\n",
       "    </tr>\n",
       "  </tbody>\n",
       "</table>\n",
       "</div>"
      ],
      "text/plain": [
       "                     POWERW\n",
       "DATE                       \n",
       "2016-03-14 00:00:00     402\n",
       "2016-03-14 00:00:32     402\n",
       "2016-03-14 00:01:05     406\n",
       "2016-03-14 00:01:37     406\n",
       "2016-03-14 00:02:09     390"
      ]
     },
     "execution_count": 70,
     "metadata": {},
     "output_type": "execute_result"
    }
   ],
   "source": [
    "consumption = consumption.set_index('DATE')\n",
    "consumption.head()"
   ]
  },
  {
   "cell_type": "code",
   "execution_count": 71,
   "metadata": {},
   "outputs": [
    {
     "data": {
      "text/plain": [
       "<Axes: xlabel='DATE'>"
      ]
     },
     "execution_count": 71,
     "metadata": {},
     "output_type": "execute_result"
    },
    {
     "data": {
      "image/png": "[encoded data removed]",
      "text/plain": [
       "<Figure size 1500x800 with 1 Axes>"
      ]
     },
     "metadata": {},
     "output_type": "display_data"
    }
   ],
   "source": [
    "consumption.plot()"
   ]
  },
  {
   "cell_type": "markdown",
   "metadata": {},
   "source": [
    "## Ausschneiden des nutzbaren Datenbereiches"
   ]
  },
  {
   "cell_type": "code",
   "execution_count": 72,
   "metadata": {},
   "outputs": [
    {
     "data": {
      "text/html": [
       "<div>\n",
       "<style scoped>\n",
       "    .dataframe tbody tr th:only-of-type {\n",
       "        vertical-align: middle;\n",
       "    }\n",
       "\n",
       "    .dataframe tbody tr th {\n",
       "        vertical-align: top;\n",
       "    }\n",
       "\n",
       "    .dataframe thead th {\n",
       "        text-align: right;\n",
       "    }\n",
       "</style>\n",
       "<table border=\"1\" class=\"dataframe\">\n",
       "  <thead>\n",
       "    <tr style=\"text-align: right;\">\n",
       "      <th></th>\n",
       "      <th>POWERW</th>\n",
       "    </tr>\n",
       "    <tr>\n",
       "      <th>DATE</th>\n",
       "      <th></th>\n",
       "    </tr>\n",
       "  </thead>\n",
       "  <tbody>\n",
       "    <tr>\n",
       "      <th>2016-04-09 00:00:23</th>\n",
       "      <td>180</td>\n",
       "    </tr>\n",
       "    <tr>\n",
       "      <th>2016-04-09 00:00:59</th>\n",
       "      <td>1</td>\n",
       "    </tr>\n",
       "    <tr>\n",
       "      <th>2016-04-09 00:01:35</th>\n",
       "      <td>1</td>\n",
       "    </tr>\n",
       "    <tr>\n",
       "      <th>2016-04-09 00:02:08</th>\n",
       "      <td>1</td>\n",
       "    </tr>\n",
       "    <tr>\n",
       "      <th>2016-04-09 00:02:40</th>\n",
       "      <td>1</td>\n",
       "    </tr>\n",
       "    <tr>\n",
       "      <th>...</th>\n",
       "      <td>...</td>\n",
       "    </tr>\n",
       "    <tr>\n",
       "      <th>2016-05-08 23:57:43</th>\n",
       "      <td>130</td>\n",
       "    </tr>\n",
       "    <tr>\n",
       "      <th>2016-05-08 23:58:16</th>\n",
       "      <td>116</td>\n",
       "    </tr>\n",
       "    <tr>\n",
       "      <th>2016-05-08 23:58:49</th>\n",
       "      <td>116</td>\n",
       "    </tr>\n",
       "    <tr>\n",
       "      <th>2016-05-08 23:59:21</th>\n",
       "      <td>129</td>\n",
       "    </tr>\n",
       "    <tr>\n",
       "      <th>2016-05-08 23:59:54</th>\n",
       "      <td>118</td>\n",
       "    </tr>\n",
       "  </tbody>\n",
       "</table>\n",
       "<p>78225 rows × 1 columns</p>\n",
       "</div>"
      ],
      "text/plain": [
       "                     POWERW\n",
       "DATE                       \n",
       "2016-04-09 00:00:23     180\n",
       "2016-04-09 00:00:59       1\n",
       "2016-04-09 00:01:35       1\n",
       "2016-04-09 00:02:08       1\n",
       "2016-04-09 00:02:40       1\n",
       "...                     ...\n",
       "2016-05-08 23:57:43     130\n",
       "2016-05-08 23:58:16     116\n",
       "2016-05-08 23:58:49     116\n",
       "2016-05-08 23:59:21     129\n",
       "2016-05-08 23:59:54     118\n",
       "\n",
       "[78225 rows x 1 columns]"
      ]
     },
     "execution_count": 72,
     "metadata": {},
     "output_type": "execute_result"
    }
   ],
   "source": [
    "consumption.loc['2016-03-22':]"
   ]
  },
  {
   "cell_type": "code",
   "execution_count": 73,
   "metadata": {},
   "outputs": [],
   "source": [
    "consumption = consumption.loc['2016-04-10':]"
   ]
  },
  {
   "cell_type": "code",
   "execution_count": 74,
   "metadata": {},
   "outputs": [
    {
     "data": {
      "text/html": [
       "<div>\n",
       "<style scoped>\n",
       "    .dataframe tbody tr th:only-of-type {\n",
       "        vertical-align: middle;\n",
       "    }\n",
       "\n",
       "    .dataframe tbody tr th {\n",
       "        vertical-align: top;\n",
       "    }\n",
       "\n",
       "    .dataframe thead th {\n",
       "        text-align: right;\n",
       "    }\n",
       "</style>\n",
       "<table border=\"1\" class=\"dataframe\">\n",
       "  <thead>\n",
       "    <tr style=\"text-align: right;\">\n",
       "      <th></th>\n",
       "      <th>POWERW</th>\n",
       "    </tr>\n",
       "    <tr>\n",
       "      <th>DATE</th>\n",
       "      <th></th>\n",
       "    </tr>\n",
       "  </thead>\n",
       "  <tbody>\n",
       "    <tr>\n",
       "      <th>2016-04-10 00:00:24</th>\n",
       "      <td>560</td>\n",
       "    </tr>\n",
       "    <tr>\n",
       "      <th>2016-04-10 00:01:00</th>\n",
       "      <td>567</td>\n",
       "    </tr>\n",
       "    <tr>\n",
       "      <th>2016-04-10 00:01:37</th>\n",
       "      <td>570</td>\n",
       "    </tr>\n",
       "    <tr>\n",
       "      <th>2016-04-10 00:02:10</th>\n",
       "      <td>570</td>\n",
       "    </tr>\n",
       "    <tr>\n",
       "      <th>2016-04-10 00:02:42</th>\n",
       "      <td>567</td>\n",
       "    </tr>\n",
       "  </tbody>\n",
       "</table>\n",
       "</div>"
      ],
      "text/plain": [
       "                     POWERW\n",
       "DATE                       \n",
       "2016-04-10 00:00:24     560\n",
       "2016-04-10 00:01:00     567\n",
       "2016-04-10 00:01:37     570\n",
       "2016-04-10 00:02:10     570\n",
       "2016-04-10 00:02:42     567"
      ]
     },
     "execution_count": 74,
     "metadata": {},
     "output_type": "execute_result"
    }
   ],
   "source": [
    "consumption.head()"
   ]
  },
  {
   "cell_type": "markdown",
   "metadata": {},
   "source": [
    "## Resampling auf 1 Minuten Stützstellen\n",
    "\n",
    "Mehr Information zur resampling Funktion kann zum Beispiel hier gefunden werden:\n",
    "https://towardsdatascience.com/using-the-pandas-resample-function-a231144194c4\n",
    "\n",
    "<img src=\"info.png\" align=\"left\"/> "
   ]
  },
  {
   "cell_type": "code",
   "execution_count": 75,
   "metadata": {},
   "outputs": [],
   "source": [
    "#\n",
    "# Resampling erzeugt neue Stützpunkte im Minutentakt\n",
    "# Die Mean Funktion ermittelt den neuen Wert als Mittelwert der vorherigen Werte\n",
    "#\n",
    "consumption = consumption.resample('1min').mean()"
   ]
  },
  {
   "cell_type": "code",
   "execution_count": 76,
   "metadata": {},
   "outputs": [],
   "source": [
    "day = consumption.loc['2016-04-10 00:00:00':'2016-04-11 00:00:00']"
   ]
  },
  {
   "cell_type": "code",
   "execution_count": 77,
   "metadata": {},
   "outputs": [
    {
     "data": {
      "text/html": [
       "<div>\n",
       "<style scoped>\n",
       "    .dataframe tbody tr th:only-of-type {\n",
       "        vertical-align: middle;\n",
       "    }\n",
       "\n",
       "    .dataframe tbody tr th {\n",
       "        vertical-align: top;\n",
       "    }\n",
       "\n",
       "    .dataframe thead th {\n",
       "        text-align: right;\n",
       "    }\n",
       "</style>\n",
       "<table border=\"1\" class=\"dataframe\">\n",
       "  <thead>\n",
       "    <tr style=\"text-align: right;\">\n",
       "      <th></th>\n",
       "      <th>POWERW</th>\n",
       "    </tr>\n",
       "    <tr>\n",
       "      <th>DATE</th>\n",
       "      <th></th>\n",
       "    </tr>\n",
       "  </thead>\n",
       "  <tbody>\n",
       "    <tr>\n",
       "      <th>2016-04-10 23:56:00</th>\n",
       "      <td>137.5</td>\n",
       "    </tr>\n",
       "    <tr>\n",
       "      <th>2016-04-10 23:57:00</th>\n",
       "      <td>135.0</td>\n",
       "    </tr>\n",
       "    <tr>\n",
       "      <th>2016-04-10 23:58:00</th>\n",
       "      <td>136.0</td>\n",
       "    </tr>\n",
       "    <tr>\n",
       "      <th>2016-04-10 23:59:00</th>\n",
       "      <td>137.5</td>\n",
       "    </tr>\n",
       "    <tr>\n",
       "      <th>2016-04-11 00:00:00</th>\n",
       "      <td>139.0</td>\n",
       "    </tr>\n",
       "  </tbody>\n",
       "</table>\n",
       "</div>"
      ],
      "text/plain": [
       "                     POWERW\n",
       "DATE                       \n",
       "2016-04-10 23:56:00   137.5\n",
       "2016-04-10 23:57:00   135.0\n",
       "2016-04-10 23:58:00   136.0\n",
       "2016-04-10 23:59:00   137.5\n",
       "2016-04-11 00:00:00   139.0"
      ]
     },
     "execution_count": 77,
     "metadata": {},
     "output_type": "execute_result"
    }
   ],
   "source": [
    "day.tail()"
   ]
  },
  {
   "cell_type": "code",
   "execution_count": 78,
   "metadata": {},
   "outputs": [
    {
     "data": {
      "text/plain": [
       "<Axes: xlabel='DATE'>"
      ]
     },
     "execution_count": 78,
     "metadata": {},
     "output_type": "execute_result"
    },
    {
     "data": {
      "image/png": "[encoded data removed]",
      "text/plain": [
       "<Figure size 1500x800 with 1 Axes>"
      ]
     },
     "metadata": {},
     "output_type": "display_data"
    }
   ],
   "source": [
    "day.plot(drawstyle='steps-post')"
   ]
  },
  {
   "cell_type": "code",
   "execution_count": 79,
   "metadata": {},
   "outputs": [],
   "source": [
    "day15 = day.resample('15min').mean()"
   ]
  },
  {
   "cell_type": "code",
   "execution_count": 80,
   "metadata": {},
   "outputs": [
    {
     "data": {
      "image/png": "[encoded data removed]",
      "text/plain": [
       "<Figure size 1500x800 with 1 Axes>"
      ]
     },
     "metadata": {},
     "output_type": "display_data"
    }
   ],
   "source": [
    "#plt.plot(day15, drawstyle='steps', linestyle='-', label='steps-pre aka steps', alpha=0.5,)\n",
    "#plt.plot(day15, drawstyle='steps-mid', linestyle='--', label='steps-mid', alpha=0.5,)\n",
    "plt.plot(day15, drawstyle='steps-post', linestyle=':', label='steps-post', alpha=0.5,)\n",
    "plt.legend(loc='upper left')\n",
    "plt.show()"
   ]
  },
  {
   "cell_type": "markdown",
   "metadata": {},
   "source": [
    "Es ist sehr wichtig zu wissen, die die Daten in Relation zum Zeitpunkt zu verstehen sind. War der Wert **vor** dem Zeitpunkt gültig (steps-pre), oder startet der Wert zu diesem Zeitpunkt (steps-post), oder liegt der Zeitpunkt in der Mitte (steps-mid)."
   ]
  },
  {
   "cell_type": "markdown",
   "metadata": {},
   "source": [
    "# Weitere Transformationen von Features und Labels\n",
    "\n",
    "- one hot encoding\n",
    "- embedding\n",
    "- arithmetische Transformationen\n",
    "- komplexe Transformationen\n",
    "\n",
    "<img src=\"info.png\" align=\"left\"/> \n"
   ]
  }
 ],
 "metadata": {
  "kernelspec": {
   "display_name": "Python 3 (ipykernel)",
   "language": "python",
   "name": "python3"
  },
  "language_info": {
   "codemirror_mode": {
    "name": "ipython",
    "version": 3
   },
   "file_extension": ".py",
   "mimetype": "text/x-python",
   "name": "python",
   "nbconvert_exporter": "python",
   "pygments_lexer": "ipython3",
   "version": "3.10.9"
  }
 },
 "nbformat": 4,
 "nbformat_minor": 4
}
