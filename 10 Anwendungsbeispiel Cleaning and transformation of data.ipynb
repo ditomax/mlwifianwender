{
 "cells": [
  {
   "cell_type": "markdown",
   "metadata": {},
   "source": [
    "<img src=\"header.png\" align=\"left\"/>"
   ]
  },
  {
   "cell_type": "markdown",
   "metadata": {},
   "source": [
    "# Anwendungsbeispiel Cleaning and transformation of data\n",
    "\n",
    "Das Ziel dieses Beispieles ist es einige Aufgaben der Reinigung und Transformation von Daten zu erklären und den Effekt zu testen.\n",
    "\n",
    "\n",
    "Konkret werden wir folgende Punkte durchgehen:\n",
    "\n",
    "- Reiningen von unbenötigten Samples und Features\n",
    "- Füllen von ungültigen und leeren Werten\n",
    "- Reinigen von Textfeldern\n",
    "- Entfernen von Duplikaten\n",
    "- Prüfen von Wertebereichen\n",
    "- Umwandeln von Datumswerten\n",
    "- Resampling und accumulation\n",
    "\n",
    "\n",
    "\n",
    "\n",
    "\n",
    "Die Beispiele wurden aus folgenden Quellen entnommen:\n",
    "\n",
    "- [1] [https://www.import.io/post/what-is-data-cleansing-and-transformation-wrangling/](https://www.import.io/post/what-is-data-cleansing-and-transformation-wrangling/) \n",
    "- [2] [https://realpython.com/python-data-cleaning-numpy-pandas/](https://realpython.com/python-data-cleaning-numpy-pandas/)\n",
    "\n",
    "\n",
    "Die Daten wurden entnommen von:\n",
    "\n",
    "- [https://finance.yahoo.com/quote/%5EDJI/history/](https://finance.yahoo.com/quote/%5EDJI/history/)\n",
    "- [https://fred.stlouisfed.org/series/MCOILBRENTEU](https://fred.stlouisfed.org/series/MCOILBRENTEU)\n",
    "- [http://www.sca.isr.umich.edu/](http://www.sca.isr.umich.edu/)\n"
   ]
  },
  {
   "cell_type": "markdown",
   "metadata": {},
   "source": [
    "# Motivation\n",
    "\n",
    "Eine gute Übersicht zum Thema liefert dieser Artikel: [https://cleverdata.io/clean-select-transform-data/](https://cleverdata.io/clean-select-transform-data/)"
   ]
  },
  {
   "cell_type": "markdown",
   "metadata": {},
   "source": [
    "# Importe"
   ]
  },
  {
   "cell_type": "code",
   "execution_count": null,
   "metadata": {},
   "outputs": [],
   "source": [
    "#\n",
    "# modules\n",
    "#\n",
    "import pandas as pd\n",
    "import numpy as np\n",
    "import matplotlib.pyplot as plt\n",
    "\n",
    "from scipy import stats\n",
    "from datetime import datetime\n",
    "from functools import reduce\n",
    "import datetime"
   ]
  },
  {
   "cell_type": "markdown",
   "metadata": {},
   "source": [
    "# Laden von Daten"
   ]
  },
  {
   "cell_type": "code",
   "execution_count": null,
   "metadata": {},
   "outputs": [],
   "source": [
    "df = pd.read_csv('data/BL-Flickr-Images-Book.csv')"
   ]
  },
  {
   "cell_type": "code",
   "execution_count": null,
   "metadata": {},
   "outputs": [],
   "source": [
    "df.head()"
   ]
  },
  {
   "cell_type": "markdown",
   "metadata": {},
   "source": [
    "# Entfernen von nicht notwendigen Features"
   ]
  },
  {
   "cell_type": "code",
   "execution_count": null,
   "metadata": {},
   "outputs": [],
   "source": [
    "to_drop = ['Edition Statement','Corporate Author','Corporate Contributors','Former owner','Engraver','Contributors','Issuance type','Shelfmarks']"
   ]
  },
  {
   "cell_type": "code",
   "execution_count": null,
   "metadata": {},
   "outputs": [],
   "source": [
    "df.drop(to_drop, inplace=True, axis=1)"
   ]
  },
  {
   "cell_type": "code",
   "execution_count": null,
   "metadata": {},
   "outputs": [],
   "source": [
    "df.head()"
   ]
  },
  {
   "cell_type": "markdown",
   "metadata": {},
   "source": [
    "# Festlegen eines Index zum Zugriff auf die Daten"
   ]
  },
  {
   "cell_type": "code",
   "execution_count": null,
   "metadata": {},
   "outputs": [],
   "source": [
    "#\n",
    "# Prüfen ob Identifier ein geeigneter Index ist\n",
    "#\n",
    "df['Identifier'].is_unique"
   ]
  },
  {
   "cell_type": "code",
   "execution_count": null,
   "metadata": {},
   "outputs": [],
   "source": [
    "df = df.set_index('Identifier')"
   ]
  },
  {
   "cell_type": "code",
   "execution_count": null,
   "metadata": {},
   "outputs": [],
   "source": [
    "df.head()"
   ]
  },
  {
   "cell_type": "code",
   "execution_count": null,
   "metadata": {},
   "outputs": [],
   "source": [
    "#\n",
    "# Zugriff mit Hilfe des Index Feldes\n",
    "#\n",
    "df.loc[480]"
   ]
  },
  {
   "cell_type": "code",
   "execution_count": null,
   "metadata": {},
   "outputs": [],
   "source": [
    "df.loc[1905:, 'Date of Publication'].head(10)"
   ]
  },
  {
   "cell_type": "markdown",
   "metadata": {},
   "source": [
    "# Reinigen von Zahlen und Textfeldern"
   ]
  },
  {
   "cell_type": "code",
   "execution_count": null,
   "metadata": {},
   "outputs": [],
   "source": [
    "#\n",
    "# Reinigen der Datumswerte um einen einzelnen Wert zu erhalten\n",
    "# mehr zu Regex ist hier zu finden: https://docs.python.org/3.6/howto/regex.html\n",
    "#\n",
    "extr = df['Date of Publication'].str.extract(r'^(\\d{4})', expand=False)"
   ]
  },
  {
   "cell_type": "code",
   "execution_count": null,
   "metadata": {},
   "outputs": [],
   "source": [
    "extr.head(10)"
   ]
  },
  {
   "cell_type": "code",
   "execution_count": null,
   "metadata": {},
   "outputs": [],
   "source": [
    "#\n",
    "# Zurückschreiben der gesäuberten Werte als Zahl\n",
    "#\n",
    "df['Date of Publication'] = pd.to_numeric(extr)"
   ]
  },
  {
   "cell_type": "code",
   "execution_count": null,
   "metadata": {},
   "outputs": [],
   "source": [
    "df.loc[1905:, 'Date of Publication'].head(10)"
   ]
  },
  {
   "cell_type": "code",
   "execution_count": null,
   "metadata": {},
   "outputs": [],
   "source": [
    "#\n",
    "# Zählen der Felder mit null Werten\n",
    "#\n",
    "df['Date of Publication'].isnull().sum()"
   ]
  },
  {
   "cell_type": "code",
   "execution_count": null,
   "metadata": {},
   "outputs": [],
   "source": [
    "#\n",
    "# Anzeige von Feldern mit null Werten\n",
    "#\n",
    "df[df['Date of Publication'].isnull()].head(10)"
   ]
  },
  {
   "cell_type": "code",
   "execution_count": null,
   "metadata": {},
   "outputs": [],
   "source": [
    "#\n",
    "# Anzeigen von Extremwerten einer Spalte\n",
    "#\n",
    "df['Date of Publication'].max()"
   ]
  },
  {
   "cell_type": "code",
   "execution_count": null,
   "metadata": {},
   "outputs": [],
   "source": [
    "df['Date of Publication'].min()"
   ]
  },
  {
   "cell_type": "code",
   "execution_count": null,
   "metadata": {},
   "outputs": [],
   "source": [
    "#\n",
    "# Belegen der fehlenden Werte mit einem fixen Wert\n",
    "#\n",
    "df['Date of Publication'].fillna(1900, inplace=True)"
   ]
  },
  {
   "cell_type": "code",
   "execution_count": null,
   "metadata": {},
   "outputs": [],
   "source": [
    "#\n",
    "# Test\n",
    "#\n",
    "df.loc[667]"
   ]
  },
  {
   "cell_type": "code",
   "execution_count": null,
   "metadata": {},
   "outputs": [],
   "source": [
    "#\n",
    "# Nächste Baustelle sind die Orte der Veröffentlichung\n",
    "#\n",
    "df['Place of Publication'].isnull().sum()"
   ]
  },
  {
   "cell_type": "code",
   "execution_count": null,
   "metadata": {},
   "outputs": [],
   "source": [
    "uniquePlaceList = df['Place of Publication'].unique()\n",
    "uniquePlaceListWithBlank = [s for s in uniquePlaceList if \" \" in s]\n",
    "uniquePlaces = '|'.join(uniquePlaceListWithBlank)"
   ]
  },
  {
   "cell_type": "code",
   "execution_count": null,
   "metadata": {},
   "outputs": [],
   "source": [
    "print(uniquePlaces)"
   ]
  },
  {
   "cell_type": "code",
   "execution_count": null,
   "metadata": {},
   "outputs": [],
   "source": [
    "for index, row in df.iterrows(): \n",
    "    place = row['Place of Publication']\n",
    "    if 'London' in place:\n",
    "        df.loc[index,'Place of Publication'] = 'London'\n",
    "    if 'Oxford' in place:\n",
    "        df.loc[index,'Place of Publication'] = 'Oxford'\n",
    "    if ':' in place:\n",
    "        part2 = place.split(':')[1]  \n",
    "        if ',' in part2:\n",
    "            part2 = part2.split(',')[0]  \n",
    "        df.loc[index,'Place of Publication'] = part2        \n",
    "    if ',' in place:\n",
    "        part2 = place.split(',')[0]  \n",
    "        df.loc[index,'Place of Publication'] = part2        \n",
    "    \n",
    "    "
   ]
  },
  {
   "cell_type": "code",
   "execution_count": null,
   "metadata": {},
   "outputs": [],
   "source": [
    "uniquePlaceList = df['Place of Publication'].unique()\n",
    "uniquePlaceListWithBlank = [s for s in uniquePlaceList if \" \" in s]\n",
    "uniquePlaces = '|'.join(uniquePlaceListWithBlank)"
   ]
  },
  {
   "cell_type": "code",
   "execution_count": null,
   "metadata": {},
   "outputs": [],
   "source": [
    "print(uniquePlaces)"
   ]
  },
  {
   "cell_type": "code",
   "execution_count": null,
   "metadata": {},
   "outputs": [],
   "source": [
    "df.head(10)"
   ]
  },
  {
   "cell_type": "markdown",
   "metadata": {},
   "source": [
    "# Arbeit mit Zeitreihen\n",
    "\n",
    "Bei Zeitreihen kommt die Zeit als wichtige Information dazu. Die Zeit ist oftmals als Index verwendet.\n",
    "Das Ziel dieses Teiles ist es aus drei Datensätzen einen einheitlichen Datensatz mit Zeitreihen zu erzeugen.\n"
   ]
  },
  {
   "cell_type": "code",
   "execution_count": null,
   "metadata": {},
   "outputs": [],
   "source": [
    "dow     = pd.read_csv('data/dowj.csv')\n",
    "oil     = pd.read_csv('data/brentoil.csv')\n",
    "umcsi   = pd.read_csv('data/tbmics.csv')"
   ]
  },
  {
   "cell_type": "code",
   "execution_count": null,
   "metadata": {},
   "outputs": [],
   "source": [
    "dow.head()"
   ]
  },
  {
   "cell_type": "code",
   "execution_count": null,
   "metadata": {},
   "outputs": [],
   "source": [
    "dow.tail()"
   ]
  },
  {
   "cell_type": "code",
   "execution_count": null,
   "metadata": {},
   "outputs": [],
   "source": [
    "oil.head()"
   ]
  },
  {
   "cell_type": "code",
   "execution_count": null,
   "metadata": {},
   "outputs": [],
   "source": [
    "oil.tail()"
   ]
  },
  {
   "cell_type": "code",
   "execution_count": null,
   "metadata": {},
   "outputs": [],
   "source": [
    "umcsi.head()"
   ]
  },
  {
   "cell_type": "code",
   "execution_count": null,
   "metadata": {},
   "outputs": [],
   "source": [
    "umcsi.tail()"
   ]
  },
  {
   "cell_type": "markdown",
   "metadata": {},
   "source": [
    "## Prüfen auf NaN oder NULL"
   ]
  },
  {
   "cell_type": "code",
   "execution_count": null,
   "metadata": {},
   "outputs": [],
   "source": [
    "#\n",
    "# Prüfe Dow auf Nan\n",
    "#\n",
    "dow.isnull().sum().sum()"
   ]
  },
  {
   "cell_type": "code",
   "execution_count": null,
   "metadata": {},
   "outputs": [],
   "source": [
    "#\n",
    "# Suche nach der Spalte mit dem NaN\n",
    "#\n",
    "dow.isnull().sum()"
   ]
  },
  {
   "cell_type": "code",
   "execution_count": null,
   "metadata": {},
   "outputs": [],
   "source": [
    "#\n",
    "# Interpolieren der fehlenden Werte (Alternativen: fixer Wert, Mittelwert, Zusammenziehen, ...)\n",
    "#\n",
    "dow['High'] = dow['High'].fillna(dow['High'].interpolate())"
   ]
  },
  {
   "cell_type": "code",
   "execution_count": null,
   "metadata": {},
   "outputs": [],
   "source": [
    "dow.isnull().sum()"
   ]
  },
  {
   "cell_type": "code",
   "execution_count": null,
   "metadata": {},
   "outputs": [],
   "source": [
    "#\n",
    "# Prüfe Öl auf NaN\n",
    "#\n",
    "oil.isnull().sum().sum()"
   ]
  },
  {
   "cell_type": "code",
   "execution_count": null,
   "metadata": {},
   "outputs": [],
   "source": [
    "umcsi.isnull().sum().sum()"
   ]
  },
  {
   "cell_type": "markdown",
   "metadata": {},
   "source": [
    "## Entfernen unnotwendiger Spalten und Anpassen der Namen (DOW)"
   ]
  },
  {
   "cell_type": "code",
   "execution_count": null,
   "metadata": {},
   "outputs": [],
   "source": [
    "#\n",
    "# Entfernen von unnotwendigen Spalten\n",
    "#\n",
    "dow.drop(['Open','High','Low','Adj Close','Volume'],axis=1,inplace=True)"
   ]
  },
  {
   "cell_type": "code",
   "execution_count": null,
   "metadata": {},
   "outputs": [],
   "source": [
    "dow.head()"
   ]
  },
  {
   "cell_type": "code",
   "execution_count": null,
   "metadata": {},
   "outputs": [],
   "source": [
    "#\n",
    "# Umbenennen der Spalten\n",
    "#\n",
    "dow.columns = ['DATE','DJCLOSE']"
   ]
  },
  {
   "cell_type": "code",
   "execution_count": null,
   "metadata": {},
   "outputs": [],
   "source": [
    "dow.head()"
   ]
  },
  {
   "cell_type": "markdown",
   "metadata": {},
   "source": [
    "## Zusammenziehen von Spalten für ein gültiges Datum (UMCSI)"
   ]
  },
  {
   "cell_type": "code",
   "execution_count": null,
   "metadata": {},
   "outputs": [],
   "source": [
    "umcsi.head()"
   ]
  },
  {
   "cell_type": "code",
   "execution_count": null,
   "metadata": {},
   "outputs": [],
   "source": [
    "# combine year columns to one column format\n",
    "\n",
    "umcsi['DATE'] = umcsi.apply(lambda x: datetime.datetime.strptime(\"{0} {1}\".format( x['YYYY'],x['Month']), \"%Y %B\"),axis=1)"
   ]
  },
  {
   "cell_type": "code",
   "execution_count": null,
   "metadata": {},
   "outputs": [],
   "source": [
    "umcsi.head()"
   ]
  },
  {
   "cell_type": "code",
   "execution_count": null,
   "metadata": {},
   "outputs": [],
   "source": [
    "#\n",
    "# Rücktransfer der DATE Spalte in einen String für die spätere Zusammenführung\n",
    "#\n",
    "def to_str(x):\n",
    "    return str(x)[:10]\n",
    "\n",
    "umcsi['DATE'] = umcsi['DATE'].apply(to_str)\n",
    "umcsi.head()"
   ]
  },
  {
   "cell_type": "code",
   "execution_count": null,
   "metadata": {},
   "outputs": [],
   "source": [
    "#\n",
    "# Entfernen von unnotwendigen Spalten\n",
    "#\n",
    "umcsi.drop(['Month','YYYY'],axis=1,inplace=True)"
   ]
  },
  {
   "cell_type": "code",
   "execution_count": null,
   "metadata": {},
   "outputs": [],
   "source": [
    "umcsi.head()"
   ]
  },
  {
   "cell_type": "markdown",
   "metadata": {},
   "source": [
    "## Zusammenführen aller Datensätze"
   ]
  },
  {
   "cell_type": "code",
   "execution_count": null,
   "metadata": {},
   "outputs": [],
   "source": [
    "#\n",
    "# Reduce Funktion über alle Datensätze (https://www.geeksforgeeks.org/reduce-in-python/)\n",
    "# Diese geschieht über die Spalte DATE, die in allen Datensätzen vorhanden ist.\n",
    "#\n",
    "\n",
    "dfs = [dow,oil,umcsi] \n",
    "df = reduce( lambda left,right: pd.merge( left,right, on='DATE', how='outer'), dfs)"
   ]
  },
  {
   "cell_type": "code",
   "execution_count": null,
   "metadata": {},
   "outputs": [],
   "source": [
    "df.head(30)"
   ]
  },
  {
   "cell_type": "code",
   "execution_count": null,
   "metadata": {},
   "outputs": [],
   "source": [
    "#\n",
    "# Lösung durch entfernen der NaNs. Besser ist ein Resampling.\n",
    "#\n",
    "df = df.dropna() "
   ]
  },
  {
   "cell_type": "code",
   "execution_count": null,
   "metadata": {},
   "outputs": [],
   "source": [
    "#\n",
    "# Mehr Tricks mit plots https://pandas.pydata.org/pandas-docs/version/0.12/visualization.html\n",
    "#\n",
    "df.plot()"
   ]
  },
  {
   "cell_type": "code",
   "execution_count": null,
   "metadata": {},
   "outputs": [],
   "source": [
    "plt.rcParams[\"figure.figsize\"] = (15,8)\n",
    "fig = plt.figure()\n",
    "ax1 = fig.add_subplot(111)\n",
    "ax1.plot(df['DJCLOSE'])\n",
    "ax1.set_ylabel('DJCLOSE')\n",
    "ax2 = ax1.twinx()\n",
    "ax2.plot(df['MCOILBRENTEU'], 'r-')\n",
    "ax2.set_ylabel('MCOILBRENTEU', color='r')\n",
    "ax3 = ax1.twinx()\n",
    "ax3.plot(df['ICS_ALL'], 'g--')\n",
    "ax3.set_ylabel('ICS_ALL', color='g')\n"
   ]
  },
  {
   "cell_type": "code",
   "execution_count": null,
   "metadata": {},
   "outputs": [],
   "source": [
    "#\n",
    "# Datum als Index\n",
    "#\n",
    "\n",
    "df['DATE'] = pd.to_datetime(df['DATE'])\n",
    "df.head()"
   ]
  },
  {
   "cell_type": "code",
   "execution_count": null,
   "metadata": {},
   "outputs": [],
   "source": [
    "df = df.set_index('DATE')"
   ]
  },
  {
   "cell_type": "code",
   "execution_count": null,
   "metadata": {},
   "outputs": [],
   "source": [
    "df.head()"
   ]
  },
  {
   "cell_type": "code",
   "execution_count": null,
   "metadata": {},
   "outputs": [],
   "source": [
    "fig = plt.figure()\n",
    "ax1 = fig.add_subplot(111)\n",
    "ax1.plot(df['DJCLOSE'])\n",
    "ax1.set_ylabel('DJCLOSE')\n",
    "ax2 = ax1.twinx()\n",
    "ax2.plot(df['MCOILBRENTEU'], 'r-')\n",
    "ax2.set_ylabel('MCOILBRENTEU', color='r')\n",
    "ax3 = ax1.twinx()\n",
    "ax3.plot(df['ICS_ALL'], 'g--')\n",
    "ax3.set_ylabel('ICS_ALL', color='g')\n"
   ]
  },
  {
   "cell_type": "markdown",
   "metadata": {},
   "source": [
    "# Besonderheiten von Zeitreihen\n",
    "\n",
    "Zeitreihen erfordern die genaue Behandlung der Perioden. Ebenso kommt ein Aspekt dazu, der in anderen Daten oft nicht relevant ist. Ein Messpunkt zu einer Zeit kann sich auf die Vergangenheit oder auf die Zukunft beziehen. \n"
   ]
  },
  {
   "cell_type": "code",
   "execution_count": null,
   "metadata": {},
   "outputs": [],
   "source": [
    "#\n",
    "# Laden einer Zeitreihe\n",
    "#"
   ]
  },
  {
   "cell_type": "code",
   "execution_count": null,
   "metadata": {},
   "outputs": [],
   "source": [
    "consumption = pd.read_csv('data/energy.csv')"
   ]
  },
  {
   "cell_type": "code",
   "execution_count": null,
   "metadata": {},
   "outputs": [],
   "source": [
    "consumption.head()"
   ]
  },
  {
   "cell_type": "code",
   "execution_count": null,
   "metadata": {},
   "outputs": [],
   "source": [
    "consumption = pd.read_csv('data/energy.csv', header=None, usecols=[1,3], sep=';')"
   ]
  },
  {
   "cell_type": "code",
   "execution_count": null,
   "metadata": {},
   "outputs": [],
   "source": [
    "consumption.head()"
   ]
  },
  {
   "cell_type": "code",
   "execution_count": null,
   "metadata": {},
   "outputs": [],
   "source": [
    "#\n",
    "# Umbenennen der Spalten\n",
    "#\n",
    "consumption.columns = ['DATE','POWERW']\n",
    "consumption.head()"
   ]
  },
  {
   "cell_type": "code",
   "execution_count": null,
   "metadata": {},
   "outputs": [],
   "source": [
    "#\n",
    "#\n",
    "# Details zu den Datumstrings https://www.journaldev.com/23365/python-string-to-datetime-strptime\n",
    "#\n",
    "consumption['DATE'] = consumption.apply(lambda x: datetime.datetime.strptime(\"{0}\".format( x['DATE']), \"%Y%m%d%H%M%S\"),axis=1)"
   ]
  },
  {
   "cell_type": "code",
   "execution_count": null,
   "metadata": {},
   "outputs": [],
   "source": [
    "consumption.head()"
   ]
  },
  {
   "cell_type": "code",
   "execution_count": null,
   "metadata": {},
   "outputs": [],
   "source": [
    "consumption = consumption.set_index('DATE')\n",
    "consumption.head()"
   ]
  },
  {
   "cell_type": "code",
   "execution_count": null,
   "metadata": {},
   "outputs": [],
   "source": [
    "consumption.plot()"
   ]
  },
  {
   "cell_type": "markdown",
   "metadata": {},
   "source": [
    "## Ausschneiden des nutzbaren Datenbereiches"
   ]
  },
  {
   "cell_type": "code",
   "execution_count": null,
   "metadata": {},
   "outputs": [],
   "source": [
    "consumption.loc['2016-03-22':]"
   ]
  },
  {
   "cell_type": "code",
   "execution_count": null,
   "metadata": {},
   "outputs": [],
   "source": [
    "consumption = consumption.loc['2016-04-10':]"
   ]
  },
  {
   "cell_type": "code",
   "execution_count": null,
   "metadata": {},
   "outputs": [],
   "source": [
    "consumption.head()"
   ]
  },
  {
   "cell_type": "markdown",
   "metadata": {},
   "source": [
    "## Resampling auf 1 Minuten Stützstellen\n",
    "\n",
    "Mehr Information zur resampling Funktion kann zum Beispiel hier gefunden werden:\n",
    "https://towardsdatascience.com/using-the-pandas-resample-function-a231144194c4"
   ]
  },
  {
   "cell_type": "code",
   "execution_count": null,
   "metadata": {},
   "outputs": [],
   "source": [
    "#\n",
    "# Resampling erzeugt neue Stützpunkte im Minutentakt\n",
    "# Die Mean Funktion ermittelt den neuen Wert als Mittelwert der vorherigen Werte\n",
    "#\n",
    "consumption = consumption.resample('1min').mean()"
   ]
  },
  {
   "cell_type": "code",
   "execution_count": null,
   "metadata": {},
   "outputs": [],
   "source": [
    "day = consumption.loc['2016-04-10 00:00:00':'2016-04-11 00:00:00']"
   ]
  },
  {
   "cell_type": "code",
   "execution_count": null,
   "metadata": {},
   "outputs": [],
   "source": [
    "day.tail()"
   ]
  },
  {
   "cell_type": "code",
   "execution_count": null,
   "metadata": {},
   "outputs": [],
   "source": [
    "day.plot()"
   ]
  },
  {
   "cell_type": "code",
   "execution_count": null,
   "metadata": {},
   "outputs": [],
   "source": [
    "day15 = day.resample('15min').mean()"
   ]
  },
  {
   "cell_type": "code",
   "execution_count": null,
   "metadata": {},
   "outputs": [],
   "source": [
    "plt.plot(day15, drawstyle='steps', linestyle='-', label='steps-pre aka steps', alpha=0.5,)\n",
    "plt.plot(day15, drawstyle='steps-mid', linestyle='--', label='steps-mid', alpha=0.5,)\n",
    "plt.plot(day15, drawstyle='steps-post', linestyle=':', label='steps-post', alpha=0.5,)\n",
    "plt.legend(loc='upper left')\n",
    "plt.show()"
   ]
  },
  {
   "cell_type": "markdown",
   "metadata": {},
   "source": [
    "Es ist sehr wichtig zu wissen, die die Daten in Relation zum Zeitpunkt zu verstehen sind. War der Wert **vor** dem Zeitpunkt gültig (steps-pre), oder startet der Wert zu diesem Zeitpunkt (steps-post), oder liegt der Zeitpunkt in der Mitte (steps-mid)."
   ]
  },
  {
   "cell_type": "code",
   "execution_count": null,
   "metadata": {},
   "outputs": [],
   "source": []
  }
 ],
 "metadata": {
  "kernelspec": {
   "display_name": "Python 3",
   "language": "python",
   "name": "python3"
  },
  "language_info": {
   "codemirror_mode": {
    "name": "ipython",
    "version": 3
   },
   "file_extension": ".py",
   "mimetype": "text/x-python",
   "name": "python",
   "nbconvert_exporter": "python",
   "pygments_lexer": "ipython3",
   "version": "3.6.7"
  }
 },
 "nbformat": 4,
 "nbformat_minor": 4
}
