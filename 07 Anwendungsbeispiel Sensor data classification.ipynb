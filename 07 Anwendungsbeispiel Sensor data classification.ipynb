{
 "cells": [
  {
   "cell_type": "markdown",
   "metadata": {},
   "source": [
    "<img src=\"header.png\" align=\"left\"/>"
   ]
  },
  {
   "cell_type": "markdown",
   "metadata": {},
   "source": [
    "# Anwendungsbeispiel Import of sensor data and classification\n",
    "\n",
    "Ziel dieses Beispieles ist der Import und die Vorverarbeitung von Sensordaten für die Klassifizierung. Der Verwendete Datensatz ist der HAR Datensatz.\n",
    "\n",
    "\n",
    "\n",
    "Der Beispielcode wurde im Wesentlichen von [2] übernommen. Eine Übersicht zu anderen Methoden für die Klassifizierung von Zeitreihen ist in [3] gegeben. \n",
    "\n",
    "\n",
    "Quellen\n",
    "\n",
    "- [1]\n",
    "- [2] [https://machinelearningmastery.com/how-to-develop-rnn-models-for-human-activity-recognition-time-series-classification/](https://machinelearningmastery.com/how-to-develop-rnn-models-for-human-activity-recognition-time-series-classification/)\n",
    "- [3] [https://www.mdpi.com/1424-8220/18/2/679/pdf](https://www.mdpi.com/1424-8220/18/2/679/pdf)\n",
    "\n"
   ]
  },
  {
   "cell_type": "code",
   "execution_count": null,
   "metadata": {},
   "outputs": [],
   "source": []
  }
 ],
 "metadata": {
  "kernelspec": {
   "display_name": "Python 3",
   "language": "python",
   "name": "python3"
  },
  "language_info": {
   "codemirror_mode": {
    "name": "ipython",
    "version": 3
   },
   "file_extension": ".py",
   "mimetype": "text/x-python",
   "name": "python",
   "nbconvert_exporter": "python",
   "pygments_lexer": "ipython3",
   "version": "3.6.7"
  }
 },
 "nbformat": 4,
 "nbformat_minor": 4
}
